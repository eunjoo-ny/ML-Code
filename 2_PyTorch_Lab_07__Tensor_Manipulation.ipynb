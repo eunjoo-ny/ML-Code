{
  "nbformat": 4,
  "nbformat_minor": 0,
  "metadata": {
    "colab": {
      "name": "2_PyTorch_Lab_07-_Tensor Manipulation",
      "provenance": [],
      "authorship_tag": "ABX9TyOSTH9c+Is8wLcnR/bF1djW",
      "include_colab_link": true
    },
    "kernelspec": {
      "name": "python3",
      "display_name": "Python 3"
    }
  },
  "cells": [
    {
      "cell_type": "markdown",
      "metadata": {
        "id": "view-in-github",
        "colab_type": "text"
      },
      "source": [
        "<a href=\"https://colab.research.google.com/github/eunjoo-ny/ML-Code/blob/main/2_PyTorch_Lab_07__Tensor_Manipulation.ipynb\" target=\"_parent\"><img src=\"https://colab.research.google.com/assets/colab-badge.svg\" alt=\"Open In Colab\"/></a>"
      ]
    },
    {
      "cell_type": "markdown",
      "metadata": {
        "id": "8v15_PvnQvq5"
      },
      "source": [
        "Multivariate Linear Regression review\\\\\n",
        "Minbatch Gradient Descent theory\\\\\n",
        "PyTorch Dataset and DataLoader method\\\\"
      ]
    },
    {
      "cell_type": "code",
      "metadata": {
        "id": "rM5uhF4WQ945"
      },
      "source": [
        "from torch.utils.data import Dataset\n",
        "\n",
        "class CustomDataset(Dataset):\n",
        "      def __init__(self):\n",
        "          self.x_data=[[73,80,75],\n",
        "                     [93,88,93],\n",
        "                     [89,91,90],\n",
        "                     [96,98,100],\n",
        "                     [73,66,70]]\n",
        "          self.y_data=[[152],[185],[180],[196],[142]]\n",
        "\n",
        "\n",
        "      def __len__(self):\n",
        "          return len(self.x_data)\n",
        "\n",
        "      def __getitem__(self,idx):\n",
        "          x=torch.FloatTensor(self.x_data[idx])\n",
        "          y=torch.FloatTensor(self.y_data[idx])\n",
        "          return x,y\n",
        "\n",
        "\n"
      ],
      "execution_count": null,
      "outputs": []
    },
    {
      "cell_type": "code",
      "metadata": {
        "id": "SXfEZpsLnsim"
      },
      "source": [
        "dataset=CustomDataset()"
      ],
      "execution_count": null,
      "outputs": []
    },
    {
      "cell_type": "code",
      "metadata": {
        "id": "AzdQoyKhbT8z"
      },
      "source": [
        "import os\n",
        "import torch\n",
        "import torchvision\n",
        "import tarfile\n",
        "from torchvision.datasets.utils import download_url\n",
        "from torch.utils.data import random_split\n",
        "from torch.utils.data import DataLoader\n",
        "from torch.nn import functional as F\n",
        "import torch.nn as nn \n",
        "import torch.optim as optim "
      ],
      "execution_count": null,
      "outputs": []
    },
    {
      "cell_type": "code",
      "metadata": {
        "id": "Go_tu7_pbUzL"
      },
      "source": [
        "x_train=torch.FloatTensor([[73,80,756],\n",
        "                           [93,88,93],\n",
        "                           [89,91,90],\n",
        "                           [96,98,100],\n",
        "                           [73,66,70]])\n",
        "y_train=torch.FloatTensor([[152],[185],[180],[196],[142]])\n",
        "import torch.nn as nn\n",
        "class MultivaritateLinearRegression(nn.Module):\n",
        "      def __init__(self):\n",
        "          super().__init__()\n",
        "          self.linear=nn.Linear(3,1)\n",
        "\n",
        "      def forward(self,x):\n",
        "          return self.linear(x)\n",
        "model=MultivaritateLinearRegression()"
      ],
      "execution_count": null,
      "outputs": []
    },
    {
      "cell_type": "code",
      "metadata": {
        "id": "xwPQmi1xXTrL"
      },
      "source": [
        "\n",
        "\n",
        "dataloader=DataLoader(\n",
        "    dataset,\n",
        "    batch_size=2,\n",
        "    shuffle=True,\n",
        ")"
      ],
      "execution_count": null,
      "outputs": []
    },
    {
      "cell_type": "code",
      "metadata": {
        "colab": {
          "base_uri": "https://localhost:8080/"
        },
        "id": "HvZ-6fwRXTuz",
        "outputId": "004208bf-8c3c-4c8f-e227-51d49460e278"
      },
      "source": [
        "nb_epochs=20\n",
        "for epoch in range(nb_epochs+1):\n",
        "    for batch_idx, samples in enumerate(dataloader):\n",
        "        x_train, y_train=samples\n",
        "        model=MultivaritateLinearRegression()\n",
        "        prediction=model(x_train)\n",
        "\n",
        "        cost=F.mse_loss(prediction,y_train)\n",
        "        optimizer=optim.SGD(model.parameters(), lr=0.01, momentum=0.9)\n",
        "\n",
        "        optimizer.zero_grad()\n",
        "        cost.backward()\n",
        "        optimizer.step()\n",
        "\n",
        "\n",
        "        print(\"Epoch: {:4d}/{}, Batch:{}/{} , Cost:{:.6f}\".format(epoch,nb_epochs, batch_idx, len(dataloader),\n",
        "                                                                  cost.item()))"
      ],
      "execution_count": null,
      "outputs": [
        {
          "output_type": "stream",
          "text": [
            "Epoch:    0/20, Batch:0/3 , Cost:33404.011719\n",
            "Epoch:    0/20, Batch:1/3 , Cost:33400.441406\n",
            "Epoch:    0/20, Batch:2/3 , Cost:60513.515625\n",
            "Epoch:    1/20, Batch:0/3 , Cost:38455.476562\n",
            "Epoch:    1/20, Batch:1/3 , Cost:32038.042969\n",
            "Epoch:    1/20, Batch:2/3 , Cost:43189.605469\n",
            "Epoch:    2/20, Batch:0/3 , Cost:30776.562500\n",
            "Epoch:    2/20, Batch:1/3 , Cost:42684.250000\n",
            "Epoch:    2/20, Batch:2/3 , Cost:9899.545898\n",
            "Epoch:    3/20, Batch:0/3 , Cost:23779.812500\n",
            "Epoch:    3/20, Batch:1/3 , Cost:48281.488281\n",
            "Epoch:    3/20, Batch:2/3 , Cost:53133.078125\n",
            "Epoch:    4/20, Batch:0/3 , Cost:37895.679688\n",
            "Epoch:    4/20, Batch:1/3 , Cost:48244.640625\n",
            "Epoch:    4/20, Batch:2/3 , Cost:14937.728516\n",
            "Epoch:    5/20, Batch:0/3 , Cost:21311.740234\n",
            "Epoch:    5/20, Batch:1/3 , Cost:70698.921875\n",
            "Epoch:    5/20, Batch:2/3 , Cost:29969.396484\n",
            "Epoch:    6/20, Batch:0/3 , Cost:32812.109375\n",
            "Epoch:    6/20, Batch:1/3 , Cost:13609.546875\n",
            "Epoch:    6/20, Batch:2/3 , Cost:33036.281250\n",
            "Epoch:    7/20, Batch:0/3 , Cost:46662.929688\n",
            "Epoch:    7/20, Batch:1/3 , Cost:41745.296875\n",
            "Epoch:    7/20, Batch:2/3 , Cost:15766.475586\n",
            "Epoch:    8/20, Batch:0/3 , Cost:21663.550781\n",
            "Epoch:    8/20, Batch:1/3 , Cost:31556.976562\n",
            "Epoch:    8/20, Batch:2/3 , Cost:70872.812500\n",
            "Epoch:    9/20, Batch:0/3 , Cost:105055.890625\n",
            "Epoch:    9/20, Batch:1/3 , Cost:34834.527344\n",
            "Epoch:    9/20, Batch:2/3 , Cost:35157.046875\n",
            "Epoch:   10/20, Batch:0/3 , Cost:67014.953125\n",
            "Epoch:   10/20, Batch:1/3 , Cost:40191.328125\n",
            "Epoch:   10/20, Batch:2/3 , Cost:35519.214844\n",
            "Epoch:   11/20, Batch:0/3 , Cost:29518.607422\n",
            "Epoch:   11/20, Batch:1/3 , Cost:19084.337891\n",
            "Epoch:   11/20, Batch:2/3 , Cost:32489.033203\n",
            "Epoch:   12/20, Batch:0/3 , Cost:16504.750000\n",
            "Epoch:   12/20, Batch:1/3 , Cost:24643.746094\n",
            "Epoch:   12/20, Batch:2/3 , Cost:13750.402344\n",
            "Epoch:   13/20, Batch:0/3 , Cost:16920.167969\n",
            "Epoch:   13/20, Batch:1/3 , Cost:17435.656250\n",
            "Epoch:   13/20, Batch:2/3 , Cost:71880.234375\n",
            "Epoch:   14/20, Batch:0/3 , Cost:35413.210938\n",
            "Epoch:   14/20, Batch:1/3 , Cost:37258.250000\n",
            "Epoch:   14/20, Batch:2/3 , Cost:19140.935547\n",
            "Epoch:   15/20, Batch:0/3 , Cost:53299.855469\n",
            "Epoch:   15/20, Batch:1/3 , Cost:41020.539062\n",
            "Epoch:   15/20, Batch:2/3 , Cost:33626.492188\n",
            "Epoch:   16/20, Batch:0/3 , Cost:11865.082031\n",
            "Epoch:   16/20, Batch:1/3 , Cost:24637.964844\n",
            "Epoch:   16/20, Batch:2/3 , Cost:58278.703125\n",
            "Epoch:   17/20, Batch:0/3 , Cost:32712.439453\n",
            "Epoch:   17/20, Batch:1/3 , Cost:54280.453125\n",
            "Epoch:   17/20, Batch:2/3 , Cost:39431.273438\n",
            "Epoch:   18/20, Batch:0/3 , Cost:6199.512207\n",
            "Epoch:   18/20, Batch:1/3 , Cost:25178.052734\n",
            "Epoch:   18/20, Batch:2/3 , Cost:11938.731445\n",
            "Epoch:   19/20, Batch:0/3 , Cost:27531.259766\n",
            "Epoch:   19/20, Batch:1/3 , Cost:25849.972656\n",
            "Epoch:   19/20, Batch:2/3 , Cost:28781.011719\n",
            "Epoch:   20/20, Batch:0/3 , Cost:59649.703125\n",
            "Epoch:   20/20, Batch:1/3 , Cost:36081.554688\n",
            "Epoch:   20/20, Batch:2/3 , Cost:26241.542969\n"
          ],
          "name": "stdout"
        }
      ]
    },
    {
      "cell_type": "code",
      "metadata": {
        "id": "qcn9yPy7a89u"
      },
      "source": [
        "import torch\n",
        "import torch.nn as nn\n",
        "import torch.nn.functional as F\n",
        "import torch.optim as optim\n"
      ],
      "execution_count": null,
      "outputs": []
    },
    {
      "cell_type": "code",
      "metadata": {
        "colab": {
          "base_uri": "https://localhost:8080/"
        },
        "id": "q28fMIlUa9Ax",
        "outputId": "29917db8-c95e-40c1-8fc3-8f4a3bdbfc74"
      },
      "source": [
        "#for reproducibility\n",
        "torch.manual_seed(1)"
      ],
      "execution_count": null,
      "outputs": [
        {
          "output_type": "execute_result",
          "data": {
            "text/plain": [
              "<torch._C.Generator at 0x7f3068db0c00>"
            ]
          },
          "metadata": {
            "tags": []
          },
          "execution_count": 12
        }
      ]
    },
    {
      "cell_type": "code",
      "metadata": {
        "id": "6xvGr2jya9EG"
      },
      "source": [
        "x_data=[[1,2],[2,3],[3,1],[4,3],[5,3],[6,2]]\n",
        "y_data=[[0],[0],[0],[1],[1],[1]]\n",
        "x_data_test=[[2,3],[4,2],[5,3]]\n",
        "y_data_test=[[0],[1],[1]]"
      ],
      "execution_count": null,
      "outputs": []
    },
    {
      "cell_type": "code",
      "metadata": {
        "id": "JimwusGma9HS"
      },
      "source": [
        "x_train=torch.FloatTensor(x_data)\n",
        "y_train=torch.FloatTensor(y_data)\n",
        "x_test=torch.FloatTensor(x_data_test)\n",
        "y_test=torch.FloatTensor(y_data_test)"
      ],
      "execution_count": null,
      "outputs": []
    },
    {
      "cell_type": "code",
      "metadata": {
        "colab": {
          "base_uri": "https://localhost:8080/"
        },
        "id": "Bi0UKwrla9Kj",
        "outputId": "64b8be39-e636-409e-ace1-28c946527a23"
      },
      "source": [
        "print(x_train.shape)\n",
        "print(y_train.shape)"
      ],
      "execution_count": null,
      "outputs": [
        {
          "output_type": "stream",
          "text": [
            "torch.Size([6, 2])\n",
            "torch.Size([6, 1])\n"
          ],
          "name": "stdout"
        }
      ]
    },
    {
      "cell_type": "code",
      "metadata": {
        "colab": {
          "base_uri": "https://localhost:8080/"
        },
        "id": "T4Ts8ZKSa9UZ",
        "outputId": "4def5587-fe92-472a-c063-0df443b837ed"
      },
      "source": [
        "print('e^1 equals: ',torch.exp(torch.FloatTensor([1])))"
      ],
      "execution_count": null,
      "outputs": [
        {
          "output_type": "stream",
          "text": [
            "e^1 equals:  tensor([2.7183])\n"
          ],
          "name": "stdout"
        }
      ]
    },
    {
      "cell_type": "code",
      "metadata": {
        "id": "JcExewTtXTyL"
      },
      "source": [
        "w=torch.zeros((2,1), requires_grad=True)\n",
        "b=torch.zeros(1, requires_grad=True)"
      ],
      "execution_count": null,
      "outputs": []
    },
    {
      "cell_type": "code",
      "metadata": {
        "id": "-2SEBuNLXT1f"
      },
      "source": [
        "hypothesis= 1/(1+torch.exp(-(x_train.matmul(w)+b)))"
      ],
      "execution_count": null,
      "outputs": []
    },
    {
      "cell_type": "code",
      "metadata": {
        "colab": {
          "base_uri": "https://localhost:8080/"
        },
        "id": "MDkXv2s2XT4j",
        "outputId": "516953dd-3172-4e05-ea8a-a55a48810b4d"
      },
      "source": [
        "print(hypothesis)\n",
        "print(hypothesis.shape)\n",
        "print(y_train)"
      ],
      "execution_count": null,
      "outputs": [
        {
          "output_type": "stream",
          "text": [
            "tensor([[0.5000],\n",
            "        [0.5000],\n",
            "        [0.5000],\n",
            "        [0.5000],\n",
            "        [0.5000],\n",
            "        [0.5000]], grad_fn=<MulBackward0>)\n",
            "torch.Size([6, 1])\n",
            "tensor([[0.],\n",
            "        [0.],\n",
            "        [0.],\n",
            "        [1.],\n",
            "        [1.],\n",
            "        [1.]])\n"
          ],
          "name": "stdout"
        }
      ]
    },
    {
      "cell_type": "code",
      "metadata": {
        "colab": {
          "base_uri": "https://localhost:8080/"
        },
        "id": "H3x9ntxEXT7f",
        "outputId": "0c88d51d-8649-4392-9242-158cee01a01d"
      },
      "source": [
        "-(y_train[0]*torch.log(hypothesis[0])+(1-y_train[0])*torch.log(1-hypothesis[0]))"
      ],
      "execution_count": null,
      "outputs": [
        {
          "output_type": "execute_result",
          "data": {
            "text/plain": [
              "tensor([0.6931], grad_fn=<NegBackward>)"
            ]
          },
          "metadata": {
            "tags": []
          },
          "execution_count": 25
        }
      ]
    },
    {
      "cell_type": "code",
      "metadata": {
        "colab": {
          "base_uri": "https://localhost:8080/"
        },
        "id": "4lO-uSzWXUB2",
        "outputId": "3b398855-f811-4437-f4f0-b7e7ec310aba"
      },
      "source": [
        "losses=-(y_train*torch.log(hypothesis)+(1-y_train)*torch.log(1-hypothesis))\n",
        "print(losses)"
      ],
      "execution_count": null,
      "outputs": [
        {
          "output_type": "stream",
          "text": [
            "tensor([[0.6931],\n",
            "        [0.6931],\n",
            "        [0.6931],\n",
            "        [0.6931],\n",
            "        [0.6931],\n",
            "        [0.6931]], grad_fn=<NegBackward>)\n"
          ],
          "name": "stdout"
        }
      ]
    },
    {
      "cell_type": "code",
      "metadata": {
        "colab": {
          "base_uri": "https://localhost:8080/"
        },
        "id": "w9misyGbglUx",
        "outputId": "0fc35ad8-1a5b-4859-dba6-78ee36cf8bc2"
      },
      "source": [
        "cost=torch.mean(losses)\n",
        "print(cost)"
      ],
      "execution_count": null,
      "outputs": [
        {
          "output_type": "stream",
          "text": [
            "tensor(0.6931, grad_fn=<MeanBackward0>)\n"
          ],
          "name": "stdout"
        }
      ]
    },
    {
      "cell_type": "code",
      "metadata": {
        "colab": {
          "base_uri": "https://localhost:8080/"
        },
        "id": "eYAGcxEGglYA",
        "outputId": "22eaa96a-0e1b-4edf-de07-acf57284e05c"
      },
      "source": [
        "F.binary_cross_entropy(hypothesis, y_train)"
      ],
      "execution_count": null,
      "outputs": [
        {
          "output_type": "execute_result",
          "data": {
            "text/plain": [
              "tensor(0.6931, grad_fn=<BinaryCrossEntropyBackward>)"
            ]
          },
          "metadata": {
            "tags": []
          },
          "execution_count": 31
        }
      ]
    },
    {
      "cell_type": "code",
      "metadata": {
        "colab": {
          "base_uri": "https://localhost:8080/"
        },
        "id": "74BZeunVgla9",
        "outputId": "4e1fd737-6509-48a8-cb43-b56441012899"
      },
      "source": [
        "w=torch.zeros((2,1), requires_grad=True)\n",
        "b=torch.zeros(1, requires_grad=True)\n",
        "optimizer=optim.SGD([w,b],lr=1)\n",
        "\n",
        "nb_epochs=1000\n",
        "for epoch in range(nb_epochs+1):\n",
        "\n",
        "  hypothesis=torch.sigmoid(x_train.matmul(w)+b)\n",
        "  cost=F.binary_cross_entropy( hypothesis,y_train)\n",
        "\n",
        "  optimizer.zero_grad()\n",
        "  cost.backward()\n",
        "  optimizer.step()\n",
        "\n",
        "\n",
        "  if epoch%100==0:\n",
        "     print('Epoch:{:4d}/{},cost:{:6f}'.format(epoch, nb_epochs, cost.item()))"
      ],
      "execution_count": null,
      "outputs": [
        {
          "output_type": "stream",
          "text": [
            "Epoch:   0/1000,cost:0.693147\n",
            "Epoch: 100/1000,cost:0.134722\n",
            "Epoch: 200/1000,cost:0.080643\n",
            "Epoch: 300/1000,cost:0.057900\n",
            "Epoch: 400/1000,cost:0.045300\n",
            "Epoch: 500/1000,cost:0.037261\n",
            "Epoch: 600/1000,cost:0.031672\n",
            "Epoch: 700/1000,cost:0.027556\n",
            "Epoch: 800/1000,cost:0.024394\n",
            "Epoch: 900/1000,cost:0.021888\n",
            "Epoch:1000/1000,cost:0.019852\n"
          ],
          "name": "stdout"
        }
      ]
    },
    {
      "cell_type": "code",
      "metadata": {
        "colab": {
          "base_uri": "https://localhost:8080/"
        },
        "id": "zp6jaYijgld4",
        "outputId": "acf673b9-bb3e-47bf-b092-285db6d096aa"
      },
      "source": [
        "hypothesis =torch.sigmoid(x_train.matmul(w)+b)\n",
        "print(hypothesis[:5])"
      ],
      "execution_count": null,
      "outputs": [
        {
          "output_type": "stream",
          "text": [
            "tensor([[2.7648e-04],\n",
            "        [3.1608e-02],\n",
            "        [3.8977e-02],\n",
            "        [9.5622e-01],\n",
            "        [9.9823e-01]], grad_fn=<SliceBackward>)\n"
          ],
          "name": "stdout"
        }
      ]
    },
    {
      "cell_type": "code",
      "metadata": {
        "colab": {
          "base_uri": "https://localhost:8080/"
        },
        "id": "aBxZRTAbgljp",
        "outputId": "d8e581e1-b1a7-457c-b36c-d06db41aeb11"
      },
      "source": [
        "prediction=hypothesis>=torch.FloatTensor([0.5])\n",
        "print(prediction[:5])"
      ],
      "execution_count": null,
      "outputs": [
        {
          "output_type": "stream",
          "text": [
            "tensor([[False],\n",
            "        [False],\n",
            "        [False],\n",
            "        [ True],\n",
            "        [ True]])\n"
          ],
          "name": "stdout"
        }
      ]
    },
    {
      "cell_type": "code",
      "metadata": {
        "colab": {
          "base_uri": "https://localhost:8080/"
        },
        "id": "7K-WroxMglod",
        "outputId": "82bb146c-4043-4b68-9598-23f0af3299b5"
      },
      "source": [
        "print(y_train[:5])"
      ],
      "execution_count": null,
      "outputs": [
        {
          "output_type": "stream",
          "text": [
            "tensor([[0.],\n",
            "        [0.],\n",
            "        [0.],\n",
            "        [1.],\n",
            "        [1.]])\n"
          ],
          "name": "stdout"
        }
      ]
    },
    {
      "cell_type": "code",
      "metadata": {
        "colab": {
          "base_uri": "https://localhost:8080/"
        },
        "id": "NpkFfqljlZsX",
        "outputId": "6deb2ef4-e334-47b0-f3c6-5721d40e91a6"
      },
      "source": [
        "correct_prediction=prediction.float()==y_train\n",
        "print(correct_prediction[:5])"
      ],
      "execution_count": null,
      "outputs": [
        {
          "output_type": "stream",
          "text": [
            "tensor([[True],\n",
            "        [True],\n",
            "        [True],\n",
            "        [True],\n",
            "        [True]])\n"
          ],
          "name": "stdout"
        }
      ]
    },
    {
      "cell_type": "code",
      "metadata": {
        "id": "VgcV3YLGlZvM"
      },
      "source": [
        "#Higher implementation with Class\n",
        "class BinaryClassifier(nn.Module):\n",
        "      def __init__(self):\n",
        "          super().__init__()\n",
        "          self.linear=nn.Linear(2,1)\n",
        "          self.sigmoid=nn.Sigmoid()\n",
        "\n",
        "      def forward(self,x):\n",
        "          return self.sigmoid(self.linear(x))"
      ],
      "execution_count": null,
      "outputs": []
    },
    {
      "cell_type": "code",
      "metadata": {
        "id": "xhH4I18HlZyF"
      },
      "source": [
        "model=BinaryClassifier()"
      ],
      "execution_count": null,
      "outputs": []
    },
    {
      "cell_type": "code",
      "metadata": {
        "colab": {
          "base_uri": "https://localhost:8080/"
        },
        "id": "egnPPcC6lZ0w",
        "outputId": "7694b3f0-b427-440e-9a71-268b634da796"
      },
      "source": [
        "optimizer=optim.SGD(model.parameters(), lr=1)\n",
        "\n",
        "nb_epochs=100\n",
        "for epoch in range(nb_epochs+1):\n",
        "    hypothesis=model(x_train)\n",
        "    cost=F.binary_cross_entropy(hypothesis,y_train)\n",
        "\n",
        "    optimizer.zero_grad()\n",
        "    cost.backward()\n",
        "    optimizer.step()\n",
        "\n",
        "    if epoch%20==0:\n",
        "       prediction=hypothesis>=torch.FloatTensor([0.5])\n",
        "       correct_prediction=prediction.float()==y_train\n",
        "       accuracy=correct_prediction.sum().item()/len(correct_prediction)\n",
        "\n",
        "       print('Epoch:{:4d}/{}, cost:{:.6f}, accuracy:{:2.2f}'.format(epoch, nb_epochs, cost.item(), accuracy))"
      ],
      "execution_count": null,
      "outputs": [
        {
          "output_type": "stream",
          "text": [
            "Epoch:   0/100, cost:1.435795, accuracy:0.50\n",
            "Epoch:  20/100, cost:0.553339, accuracy:0.83\n",
            "Epoch:  40/100, cost:0.363422, accuracy:0.83\n",
            "Epoch:  60/100, cost:0.217145, accuracy:0.83\n",
            "Epoch:  80/100, cost:0.151170, accuracy:1.00\n",
            "Epoch: 100/100, cost:0.130686, accuracy:1.00\n"
          ],
          "name": "stdout"
        }
      ]
    },
    {
      "cell_type": "code",
      "metadata": {
        "id": "62ubpJNilZ3V"
      },
      "source": [
        "import torch\n",
        "import torch as nn\n",
        "import torch.nn.functional as F\n",
        "import torch.optim as optim"
      ],
      "execution_count": null,
      "outputs": []
    },
    {
      "cell_type": "code",
      "metadata": {
        "colab": {
          "base_uri": "https://localhost:8080/"
        },
        "id": "YBeoIFkFlZ6P",
        "outputId": "d10b9f09-5123-4cba-b547-51ff1c7712ad"
      },
      "source": [
        "torch.manual_seed(1)"
      ],
      "execution_count": null,
      "outputs": [
        {
          "output_type": "execute_result",
          "data": {
            "text/plain": [
              "<torch._C.Generator at 0x7f3068db0c00>"
            ]
          },
          "metadata": {
            "tags": []
          },
          "execution_count": 58
        }
      ]
    },
    {
      "cell_type": "code",
      "metadata": {
        "id": "4UyTBjpL6qox"
      },
      "source": [
        "z=torch.FloatTensor([1,2,3])"
      ],
      "execution_count": null,
      "outputs": []
    },
    {
      "cell_type": "code",
      "metadata": {
        "colab": {
          "base_uri": "https://localhost:8080/"
        },
        "id": "_KxZ1NlH6qtD",
        "outputId": "6366f76f-5d06-4be7-e3cb-2756c523bb62"
      },
      "source": [
        "hypothesis=F.softmax(z,dim=0)\n",
        "print(hypothesis)"
      ],
      "execution_count": null,
      "outputs": [
        {
          "output_type": "stream",
          "text": [
            "tensor([0.0900, 0.2447, 0.6652])\n"
          ],
          "name": "stdout"
        }
      ]
    },
    {
      "cell_type": "code",
      "metadata": {
        "colab": {
          "base_uri": "https://localhost:8080/"
        },
        "id": "qD8WVKtB6qy2",
        "outputId": "7fd7e97f-3425-4eac-b4f6-83e7f7aa2ba0"
      },
      "source": [
        "hypothesis.sum()"
      ],
      "execution_count": null,
      "outputs": [
        {
          "output_type": "execute_result",
          "data": {
            "text/plain": [
              "tensor(1.)"
            ]
          },
          "metadata": {
            "tags": []
          },
          "execution_count": 62
        }
      ]
    },
    {
      "cell_type": "code",
      "metadata": {
        "colab": {
          "base_uri": "https://localhost:8080/"
        },
        "id": "n1_vwQ1p748E",
        "outputId": "c66d95c9-e5df-46ab-c0cf-5617e55aad36"
      },
      "source": [
        "y=torch.randint(5,(3,)).long()\n",
        "print(y)"
      ],
      "execution_count": null,
      "outputs": [
        {
          "output_type": "stream",
          "text": [
            "tensor([3, 3, 3])\n"
          ],
          "name": "stdout"
        }
      ]
    },
    {
      "cell_type": "code",
      "metadata": {
        "colab": {
          "base_uri": "https://localhost:8080/",
          "height": 181
        },
        "id": "6TnpotLZ6q4u",
        "outputId": "e405c0eb-2a26-4696-8a69-ccd411560572"
      },
      "source": [
        "y_one_hot=torch.zeros_like(hypothesis)\n",
        "y_one_hot.scatter_(1, y.unsqueeze(1),1)"
      ],
      "execution_count": null,
      "outputs": [
        {
          "output_type": "error",
          "ename": "IndexError",
          "evalue": "ignored",
          "traceback": [
            "\u001b[0;31m---------------------------------------------------------------------------\u001b[0m",
            "\u001b[0;31mIndexError\u001b[0m                                Traceback (most recent call last)",
            "\u001b[0;32m<ipython-input-68-14b68ecc4adf>\u001b[0m in \u001b[0;36m<module>\u001b[0;34m()\u001b[0m\n\u001b[1;32m      1\u001b[0m \u001b[0my_one_hot\u001b[0m\u001b[0;34m=\u001b[0m\u001b[0mtorch\u001b[0m\u001b[0;34m.\u001b[0m\u001b[0mzeros_like\u001b[0m\u001b[0;34m(\u001b[0m\u001b[0mhypothesis\u001b[0m\u001b[0;34m)\u001b[0m\u001b[0;34m\u001b[0m\u001b[0;34m\u001b[0m\u001b[0m\n\u001b[0;32m----> 2\u001b[0;31m \u001b[0my_one_hot\u001b[0m\u001b[0;34m.\u001b[0m\u001b[0mscatter_\u001b[0m\u001b[0;34m(\u001b[0m\u001b[0;36m1\u001b[0m\u001b[0;34m,\u001b[0m \u001b[0my\u001b[0m\u001b[0;34m.\u001b[0m\u001b[0munsqueeze\u001b[0m\u001b[0;34m(\u001b[0m\u001b[0;36m1\u001b[0m\u001b[0;34m)\u001b[0m\u001b[0;34m,\u001b[0m\u001b[0;36m1\u001b[0m\u001b[0;34m)\u001b[0m\u001b[0;34m\u001b[0m\u001b[0;34m\u001b[0m\u001b[0m\n\u001b[0m",
            "\u001b[0;31mIndexError\u001b[0m: Dimension out of range (expected to be in range of [-1, 0], but got 1)"
          ]
        }
      ]
    },
    {
      "cell_type": "code",
      "metadata": {
        "id": "Mhynf2FX7bwB"
      },
      "source": [
        ""
      ],
      "execution_count": null,
      "outputs": []
    },
    {
      "cell_type": "code",
      "metadata": {
        "id": "yGWBIbe77byz"
      },
      "source": [
        ""
      ],
      "execution_count": null,
      "outputs": []
    },
    {
      "cell_type": "code",
      "metadata": {
        "id": "ZSRKUhnj7b2A"
      },
      "source": [
        ""
      ],
      "execution_count": null,
      "outputs": []
    },
    {
      "cell_type": "code",
      "metadata": {
        "id": "AxR4T0iQ7b5J"
      },
      "source": [
        ""
      ],
      "execution_count": null,
      "outputs": []
    },
    {
      "cell_type": "code",
      "metadata": {
        "id": "TzoKA2-f6q9w"
      },
      "source": [
        ""
      ],
      "execution_count": null,
      "outputs": []
    },
    {
      "cell_type": "code",
      "metadata": {
        "id": "QSWyWYwF6rAD"
      },
      "source": [
        ""
      ],
      "execution_count": null,
      "outputs": []
    },
    {
      "cell_type": "code",
      "metadata": {
        "id": "0jDkI8rY6rCQ"
      },
      "source": [
        ""
      ],
      "execution_count": null,
      "outputs": []
    },
    {
      "cell_type": "code",
      "metadata": {
        "id": "QmTXDaIclZ9Y"
      },
      "source": [
        ""
      ],
      "execution_count": null,
      "outputs": []
    }
  ]
}