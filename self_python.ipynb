{
 "cells": [
  {
   "cell_type": "code",
   "execution_count": 4,
   "metadata": {},
   "outputs": [],
   "source": [
    "class Sun:\n",
    "    def __init__(self):\n",
    "        self.angle=0\n",
    "        print(\"Call the constructor of the sun's object\")\n",
    "        \n",
    "    \n",
    "class Ant:\n",
    "    def __init__(self):\n",
    "        self.body_temperature=10\n",
    "        self.speed=5\n",
    "        print(\"Call the constructor of the ant's object\")\n",
    "        \n",
    "class Tree:\n",
    "    def __init__(self,height):\n",
    "        self.height=height\n",
    "        print(\"Generate the constructor that the Tree's height is {}\".format(height))"
   ]
  },
  {
   "cell_type": "code",
   "execution_count": 5,
   "metadata": {},
   "outputs": [
    {
     "name": "stdout",
     "output_type": "stream",
     "text": [
      "Call the constructor of the sun's object\n",
      "Call the constructor of the ant's object\n",
      "Call the constructor of the ant's object\n",
      "Generate the constructor that the Tree's height is 500\n"
     ]
    }
   ],
   "source": [
    "sun1=Sun()\n",
    "ant1=Ant()\n",
    "ant2=Ant()\n",
    "tree1=Tree(500)"
   ]
  },
  {
   "cell_type": "code",
   "execution_count": 6,
   "metadata": {},
   "outputs": [
    {
     "name": "stdout",
     "output_type": "stream",
     "text": [
      "ant1_speed:20\n",
      "ant2_speed:21\n",
      "ant1_bodyTemperature:10\n",
      "ant2_bodyTemperature:11\n"
     ]
    }
   ],
   "source": [
    "class Ant:\n",
    "    pass\n",
    "\n",
    "ant1=Ant()\n",
    "ant1.body_temperature=10\n",
    "ant1.speed=20\n",
    "\n",
    "ant2=Ant()\n",
    "ant2.body_temperature = 11\n",
    "ant2.speed = 21\n",
    "\n",
    "print(\"ant1_speed:%d\"%ant1.speed)\n",
    "print(\"ant2_speed:%d\"%ant2.speed)\n",
    "print(\"ant1_bodyTemperature:%d\"%ant1.body_temperature)\n",
    "print(\"ant2_bodyTemperature:%d\"%ant2.body_temperature)"
   ]
  },
  {
   "cell_type": "code",
   "execution_count": 8,
   "metadata": {},
   "outputs": [
    {
     "name": "stdout",
     "output_type": "stream",
     "text": [
      "Tree.total:1\n",
      "Tree.total:2\n",
      "t1.total:2,t2.total:2\n"
     ]
    }
   ],
   "source": [
    "class Tree:\n",
    "    total=0\n",
    "    def __init__(self,height):\n",
    "        self.height=height\n",
    "        Tree.total=Tree.total+1\n",
    "        \n",
    "        \n",
    "t1=Tree(100)\n",
    "print(\"Tree.total:%d\"%Tree.total)\n",
    "\n",
    "t2=Tree(200)\n",
    "print(\"Tree.total:%d\"%Tree.total)\n",
    "\n",
    "print(\"t1.total:{},t2.total:{}\".format(t1.total,t2.total))"
   ]
  },
  {
   "cell_type": "code",
   "execution_count": null,
   "metadata": {},
   "outputs": [],
   "source": []
  },
  {
   "cell_type": "code",
   "execution_count": null,
   "metadata": {},
   "outputs": [],
   "source": []
  },
  {
   "cell_type": "code",
   "execution_count": null,
   "metadata": {},
   "outputs": [],
   "source": []
  },
  {
   "cell_type": "code",
   "execution_count": null,
   "metadata": {},
   "outputs": [],
   "source": []
  },
  {
   "cell_type": "code",
   "execution_count": null,
   "metadata": {},
   "outputs": [],
   "source": []
  },
  {
   "cell_type": "code",
   "execution_count": null,
   "metadata": {},
   "outputs": [],
   "source": []
  }
 ],
 "metadata": {
  "kernelspec": {
   "display_name": "Python 3",
   "language": "python",
   "name": "python3"
  },
  "language_info": {
   "codemirror_mode": {
    "name": "ipython",
    "version": 3
   },
   "file_extension": ".py",
   "mimetype": "text/x-python",
   "name": "python",
   "nbconvert_exporter": "python",
   "pygments_lexer": "ipython3",
   "version": "3.8.3"
  }
 },
 "nbformat": 4,
 "nbformat_minor": 4
}
