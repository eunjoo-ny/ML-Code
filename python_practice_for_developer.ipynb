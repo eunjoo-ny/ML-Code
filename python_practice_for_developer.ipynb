{
  "nbformat": 4,
  "nbformat_minor": 0,
  "metadata": {
    "colab": {
      "name": "python practice for developer",
      "provenance": [],
      "collapsed_sections": [],
      "authorship_tag": "ABX9TyMzOUHnyDXAew0nJJI6fear",
      "include_colab_link": true
    },
    "kernelspec": {
      "name": "python3",
      "display_name": "Python 3"
    }
  },
  "cells": [
    {
      "cell_type": "markdown",
      "metadata": {
        "id": "view-in-github",
        "colab_type": "text"
      },
      "source": [
        "<a href=\"https://colab.research.google.com/github/eunjoo-ny/ML-Code/blob/main/python_practice_for_developer.ipynb\" target=\"_parent\"><img src=\"https://colab.research.google.com/assets/colab-badge.svg\" alt=\"Open In Colab\"/></a>"
      ]
    },
    {
      "cell_type": "code",
      "metadata": {
        "id": "4_ian1C6YGHU"
      },
      "source": [
        "#equivalence sequence\n",
        "def geometric(n):\n",
        "    result=[]\n",
        "    a=1\n",
        "    while True:\n",
        "        r=a*a\n",
        "        if r>n:\n",
        "            break\n",
        "        result.append(r)\n",
        "        a=a+1\n",
        "    return result"
      ],
      "execution_count": null,
      "outputs": []
    },
    {
      "cell_type": "code",
      "metadata": {
        "id": "4JNHs4uWgyCn"
      },
      "source": [
        "#equivalence sequence\n",
        "def geometric2(n):\n",
        "    result=[]\n",
        "    a=1\n",
        "    r=a*a\n",
        "    while r<n:\n",
        "        \n",
        "        result.append(r)\n",
        "        a=a+1\n",
        "    return result"
      ],
      "execution_count": null,
      "outputs": []
    },
    {
      "cell_type": "code",
      "metadata": {
        "id": "Lk2CDS4ch2lt"
      },
      "source": [
        "#equivalent 3 difference of sequence\n",
        "def geometricOfDifference(n):\n",
        "    result=[]\n",
        "    a=1 \n",
        "    d=3\n",
        "    while True:\n",
        "          a=a+d\n",
        "          if n<a:\n",
        "               break\n",
        "          result.append(a)\n",
        "    return result\n"
      ],
      "execution_count": null,
      "outputs": []
    },
    {
      "cell_type": "code",
      "metadata": {
        "id": "dksYcuMCjeHj"
      },
      "source": [
        "def equivalentRatioOfSequence(n):\n",
        "    result=[]\n",
        "    a=1\n",
        "    r=3\n",
        "    while True:\n",
        "          a=a*r\n",
        "          if n<a:\n",
        "             break\n",
        "          result.append(a)\n",
        "\n",
        "    return result\n",
        "          "
      ],
      "execution_count": null,
      "outputs": []
    },
    {
      "cell_type": "code",
      "metadata": {
        "colab": {
          "base_uri": "https://localhost:8080/"
        },
        "id": "QH4lekpLYT4Y",
        "outputId": "d8358dce-91fb-4d8f-b997-6ad3b936945e"
      },
      "source": [
        "print(geometric(16))"
      ],
      "execution_count": null,
      "outputs": [
        {
          "output_type": "stream",
          "text": [
            "25\n"
          ],
          "name": "stdout"
        }
      ]
    },
    {
      "cell_type": "code",
      "metadata": {
        "id": "-i94_JG5YT71"
      },
      "source": [
        "#Fibonacci sequence\n",
        "def fibonacci(n):\n",
        "  a=0\n",
        "  b=1\n",
        "  result=[]\n",
        "  while n>b:\n",
        "    result.append(b)\n",
        "    a,b=b,a+b\n",
        "  return result\n"
      ],
      "execution_count": null,
      "outputs": []
    },
    {
      "cell_type": "code",
      "metadata": {
        "colab": {
          "base_uri": "https://localhost:8080/"
        },
        "id": "8lElN2PEYUGs",
        "outputId": "22814332-6044-49d6-f5f1-1ef46603dc6a"
      },
      "source": [
        "x=100\n",
        "_test='test'\n",
        "print(geometric(x))\n",
        "#print(geometric2(x))\n",
        "print(fibonacci(x))\n",
        "print(geometricOfDifference(x))\n",
        "print(equivalentRatioOfSequence(x))"
      ],
      "execution_count": null,
      "outputs": [
        {
          "output_type": "stream",
          "text": [
            "[1, 4, 9, 16, 25, 36, 49, 64, 81, 100]\n",
            "[1, 1, 2, 3, 5, 8, 13, 21, 34, 55, 89]\n",
            "[4, 7, 10, 13, 16, 19, 22, 25, 28, 31, 34, 37, 40, 43, 46, 49, 52, 55, 58, 61, 64, 67, 70, 73, 76, 79, 82, 85, 88, 91, 94, 97, 100]\n",
            "[3, 9, 27, 81]\n"
          ],
          "name": "stdout"
        }
      ]
    },
    {
      "cell_type": "code",
      "metadata": {
        "colab": {
          "base_uri": "https://localhost:8080/"
        },
        "id": "R0-VqR-xYUJy",
        "outputId": "69e13ae5-298c-4a1f-eb7b-1ba403dab289"
      },
      "source": [
        "import numpy as np\n",
        "x=np.array([2.0,3.0])\n",
        "y=np.array([3.0, 4.5])\n",
        "print(x*y)"
      ],
      "execution_count": null,
      "outputs": [
        {
          "output_type": "stream",
          "text": [
            "[ 6.  13.5]\n"
          ],
          "name": "stdout"
        }
      ]
    },
    {
      "cell_type": "code",
      "metadata": {
        "id": "f57AoA7Kpmr4"
      },
      "source": [
        "import pandas as pd\n"
      ],
      "execution_count": null,
      "outputs": []
    },
    {
      "cell_type": "code",
      "metadata": {
        "colab": {
          "base_uri": "https://localhost:8080/"
        },
        "id": "bNgo1-ZVljBU",
        "outputId": "44d79cea-c898-4f66-bea4-2921c90c8814"
      },
      "source": [
        "import math\n",
        "print(math.pi)\n",
        "print(math.cos(math.pi/2))\n",
        "print(math.sin(math.pi/2))"
      ],
      "execution_count": null,
      "outputs": [
        {
          "output_type": "stream",
          "text": [
            "3.141592653589793\n",
            "6.123233995736766e-17\n",
            "1.0\n"
          ],
          "name": "stdout"
        }
      ]
    },
    {
      "cell_type": "code",
      "metadata": {
        "colab": {
          "base_uri": "https://localhost:8080/"
        },
        "id": "RvFi_iUuljEP",
        "outputId": "d2681f86-89c5-41d3-904e-9754262d1bb2"
      },
      "source": [
        "\n",
        "\n",
        "print(\"__name__:\",__name__)"
      ],
      "execution_count": null,
      "outputs": [
        {
          "output_type": "stream",
          "text": [
            "__name__: __main__\n"
          ],
          "name": "stdout"
        }
      ]
    },
    {
      "cell_type": "code",
      "metadata": {
        "colab": {
          "base_uri": "https://localhost:8080/"
        },
        "id": "v6U0vzNrljHZ",
        "outputId": "924b292c-4b51-41db-d81f-e194c95ca933"
      },
      "source": [
        "x=1\n",
        "print(x,__name__)"
      ],
      "execution_count": null,
      "outputs": [
        {
          "output_type": "stream",
          "text": [
            "1 __main__\n"
          ],
          "name": "stdout"
        }
      ]
    },
    {
      "cell_type": "code",
      "metadata": {
        "id": "joj16WySljKQ"
      },
      "source": [
        "import io, os, sys, types"
      ],
      "execution_count": null,
      "outputs": []
    },
    {
      "cell_type": "code",
      "metadata": {
        "colab": {
          "base_uri": "https://localhost:8080/"
        },
        "id": "Steu12BKljMv",
        "outputId": "82ee8dbe-11fe-47d0-8f1e-b5dbc0ef2efb"
      },
      "source": [
        "import sys\n",
        "sys.version_info"
      ],
      "execution_count": null,
      "outputs": [
        {
          "output_type": "execute_result",
          "data": {
            "text/plain": [
              "sys.version_info(major=3, minor=6, micro=9, releaselevel='final', serial=0)"
            ]
          },
          "metadata": {
            "tags": []
          },
          "execution_count": 32
        }
      ]
    },
    {
      "cell_type": "code",
      "metadata": {
        "colab": {
          "base_uri": "https://localhost:8080/"
        },
        "id": "xONN4cJ5ljPp",
        "outputId": "e20803f1-2e0e-4724-dd12-904ebbcbe9c1"
      },
      "source": [
        "import keyword\n",
        "len(keyword.kwlist)"
      ],
      "execution_count": null,
      "outputs": [
        {
          "output_type": "execute_result",
          "data": {
            "text/plain": [
              "33"
            ]
          },
          "metadata": {
            "tags": []
          },
          "execution_count": 33
        }
      ]
    },
    {
      "cell_type": "code",
      "metadata": {
        "colab": {
          "base_uri": "https://localhost:8080/"
        },
        "id": "NAZ_wuNMzjhh",
        "outputId": "0c718afe-0407-4d49-f1a6-4688e680f1c5"
      },
      "source": [
        "type(keyword.kwlist)"
      ],
      "execution_count": null,
      "outputs": [
        {
          "output_type": "execute_result",
          "data": {
            "text/plain": [
              "list"
            ]
          },
          "metadata": {
            "tags": []
          },
          "execution_count": 34
        }
      ]
    },
    {
      "cell_type": "code",
      "metadata": {
        "colab": {
          "base_uri": "https://localhost:8080/"
        },
        "id": "T066KlOkzj2r",
        "outputId": "d69f7db5-5dd1-4585-d53d-d454a1a96798"
      },
      "source": [
        "count=0\n",
        "for i in keyword.kwlist:\n",
        "  print(i, end=\",\")\n",
        "  count +=1\n",
        "  if count%5==0:\n",
        "    print()\n"
      ],
      "execution_count": null,
      "outputs": [
        {
          "output_type": "stream",
          "text": [
            "False,None,True,and,as,\n",
            "assert,break,class,continue,def,\n",
            "del,elif,else,except,finally,\n",
            "for,from,global,if,import,\n",
            "in,is,lambda,nonlocal,not,\n",
            "or,pass,raise,return,try,\n",
            "while,with,yield,"
          ],
          "name": "stdout"
        }
      ]
    },
    {
      "cell_type": "code",
      "metadata": {
        "colab": {
          "base_uri": "https://localhost:8080/"
        },
        "id": "F_O_lsYYzkCb",
        "outputId": "d7d241b3-7c18-41c4-80de-402df9a3bb50"
      },
      "source": [
        "import string\n",
        "count=0\n",
        "for i in dir(string):\n",
        "  print(i,end=',')\n",
        "  count +=1\n",
        "  if count%5==0:\n",
        "    print()"
      ],
      "execution_count": null,
      "outputs": [
        {
          "output_type": "stream",
          "text": [
            "Formatter,Template,_ChainMap,_TemplateMetaclass,__all__,\n",
            "__builtins__,__cached__,__doc__,__file__,__loader__,\n",
            "__name__,__package__,__spec__,_re,_string,\n",
            "ascii_letters,ascii_lowercase,ascii_uppercase,capwords,digits,\n",
            "hexdigits,octdigits,printable,punctuation,whitespace,\n"
          ],
          "name": "stdout"
        }
      ]
    },
    {
      "cell_type": "code",
      "metadata": {
        "colab": {
          "base_uri": "https://localhost:8080/"
        },
        "id": "fzrBvvljzkNU",
        "outputId": "b15d951c-44d4-48d6-bdc0-fc692d4c802d"
      },
      "source": [
        "string.ascii_letters, \n"
      ],
      "execution_count": null,
      "outputs": [
        {
          "output_type": "execute_result",
          "data": {
            "text/plain": [
              "('abcdefghijklmnopqrstuvwxyzABCDEFGHIJKLMNOPQRSTUVWXYZ',)"
            ]
          },
          "metadata": {
            "tags": []
          },
          "execution_count": 41
        }
      ]
    },
    {
      "cell_type": "code",
      "metadata": {
        "colab": {
          "base_uri": "https://localhost:8080/"
        },
        "id": "i_Toq-m4zkZg",
        "outputId": "3e9f0f47-5921-447d-e14b-de54feded7a0"
      },
      "source": [
        "string.digits,\n"
      ],
      "execution_count": null,
      "outputs": [
        {
          "output_type": "execute_result",
          "data": {
            "text/plain": [
              "('0123456789',)"
            ]
          },
          "metadata": {
            "tags": []
          },
          "execution_count": 42
        }
      ]
    },
    {
      "cell_type": "code",
      "metadata": {
        "colab": {
          "base_uri": "https://localhost:8080/"
        },
        "id": "EujhfTrszkmu",
        "outputId": "6b2d395c-1d46-4037-cc48-e53ed351dc9a"
      },
      "source": [
        "string.punctuation,\n"
      ],
      "execution_count": null,
      "outputs": [
        {
          "output_type": "execute_result",
          "data": {
            "text/plain": [
              "('!\"#$%&\\'()*+,-./:;<=>?@[\\\\]^_`{|}~',)"
            ]
          },
          "metadata": {
            "tags": []
          },
          "execution_count": 43
        }
      ]
    },
    {
      "cell_type": "code",
      "metadata": {
        "colab": {
          "base_uri": "https://localhost:8080/",
          "height": 35
        },
        "id": "BCKBg0Tizk18",
        "outputId": "faa2c566-f0be-4ffa-a7bf-102d7199e5c5"
      },
      "source": [
        "string.whitespace"
      ],
      "execution_count": null,
      "outputs": [
        {
          "output_type": "execute_result",
          "data": {
            "application/vnd.google.colaboratory.intrinsic+json": {
              "type": "string"
            },
            "text/plain": [
              "' \\t\\n\\r\\x0b\\x0c'"
            ]
          },
          "metadata": {
            "tags": []
          },
          "execution_count": 44
        }
      ]
    },
    {
      "cell_type": "code",
      "metadata": {
        "colab": {
          "base_uri": "https://localhost:8080/"
        },
        "id": "ssUtS7HZzlCQ",
        "outputId": "39eb489e-3ec9-4b87-8c59-36598db34c6e"
      },
      "source": [
        "__builtins__"
      ],
      "execution_count": null,
      "outputs": [
        {
          "output_type": "execute_result",
          "data": {
            "text/plain": [
              "<module 'builtins' (built-in)>"
            ]
          },
          "metadata": {
            "tags": []
          },
          "execution_count": 45
        }
      ]
    },
    {
      "cell_type": "code",
      "metadata": {
        "colab": {
          "base_uri": "https://localhost:8080/"
        },
        "id": "1R4E9AA4zmpm",
        "outputId": "2e0eeaf9-9b7e-4513-d757-9ac9c3b3ac9f"
      },
      "source": [
        "__builtins__.globals"
      ],
      "execution_count": null,
      "outputs": [
        {
          "output_type": "execute_result",
          "data": {
            "text/plain": [
              "<function globals>"
            ]
          },
          "metadata": {
            "tags": []
          },
          "execution_count": 46
        }
      ]
    },
    {
      "cell_type": "code",
      "metadata": {
        "colab": {
          "base_uri": "https://localhost:8080/"
        },
        "id": "5LWuEQR_zm5r",
        "outputId": "6e6a2d17-2b50-4672-835e-3daba07dab32"
      },
      "source": [
        "i=100\n",
        "globals()['i']"
      ],
      "execution_count": null,
      "outputs": [
        {
          "output_type": "execute_result",
          "data": {
            "text/plain": [
              "100"
            ]
          },
          "metadata": {
            "tags": []
          },
          "execution_count": 47
        }
      ]
    },
    {
      "cell_type": "code",
      "metadata": {
        "colab": {
          "base_uri": "https://localhost:8080/"
        },
        "id": "XYoPTU_uznM-",
        "outputId": "3edfcd27-f135-4910-8f14-bc2574a8df21"
      },
      "source": [
        "__builtins__.vars"
      ],
      "execution_count": null,
      "outputs": [
        {
          "output_type": "execute_result",
          "data": {
            "text/plain": [
              "<function vars>"
            ]
          },
          "metadata": {
            "tags": []
          },
          "execution_count": 48
        }
      ]
    },
    {
      "cell_type": "code",
      "metadata": {
        "colab": {
          "base_uri": "https://localhost:8080/"
        },
        "id": "EVnK5KObzne-",
        "outputId": "b5020461-d48a-475a-f9b0-8e265671b171"
      },
      "source": [
        "vars()['i']"
      ],
      "execution_count": null,
      "outputs": [
        {
          "output_type": "execute_result",
          "data": {
            "text/plain": [
              "100"
            ]
          },
          "metadata": {
            "tags": []
          },
          "execution_count": 49
        }
      ]
    },
    {
      "cell_type": "code",
      "metadata": {
        "colab": {
          "base_uri": "https://localhost:8080/"
        },
        "id": "OsntGJhXznsj",
        "outputId": "1974f580-63a5-4773-9a41-ccafd35dada0"
      },
      "source": [
        "def add(x,y):\n",
        "  return x+y\n",
        "print(add(2,5))"
      ],
      "execution_count": null,
      "outputs": [
        {
          "output_type": "stream",
          "text": [
            "7\n"
          ],
          "name": "stdout"
        }
      ]
    },
    {
      "cell_type": "code",
      "metadata": {
        "colab": {
          "base_uri": "https://localhost:8080/"
        },
        "id": "yHCBB3kfzn2w",
        "outputId": "1077141d-f73d-4c46-dead-d3e2402f8170"
      },
      "source": [
        "globals()['add']"
      ],
      "execution_count": null,
      "outputs": [
        {
          "output_type": "execute_result",
          "data": {
            "text/plain": [
              "<function __main__.add>"
            ]
          },
          "metadata": {
            "tags": []
          },
          "execution_count": 55
        }
      ]
    },
    {
      "cell_type": "code",
      "metadata": {
        "colab": {
          "base_uri": "https://localhost:8080/"
        },
        "id": "QBtTiY04zlO8",
        "outputId": "032fa8c2-cda4-4beb-b476-590287e5b47a"
      },
      "source": [
        "add.__globals__['i']"
      ],
      "execution_count": null,
      "outputs": [
        {
          "output_type": "execute_result",
          "data": {
            "text/plain": [
              "100"
            ]
          },
          "metadata": {
            "tags": []
          },
          "execution_count": 57
        }
      ]
    },
    {
      "cell_type": "code",
      "metadata": {
        "colab": {
          "base_uri": "https://localhost:8080/"
        },
        "id": "K8rLT566zlZG",
        "outputId": "1adf8e81-63ec-46fc-e795-04203acf4b4a"
      },
      "source": [
        "type(globals())"
      ],
      "execution_count": null,
      "outputs": [
        {
          "output_type": "execute_result",
          "data": {
            "text/plain": [
              "dict"
            ]
          },
          "metadata": {
            "tags": []
          },
          "execution_count": 58
        }
      ]
    },
    {
      "cell_type": "code",
      "metadata": {
        "colab": {
          "base_uri": "https://localhost:8080/"
        },
        "id": "Q_VuJ3PEzlmp",
        "outputId": "4ff45838-6172-4fab-9be0-a30b5e33bc2b"
      },
      "source": [
        "type(add.__globals__)"
      ],
      "execution_count": null,
      "outputs": [
        {
          "output_type": "execute_result",
          "data": {
            "text/plain": [
              "dict"
            ]
          },
          "metadata": {
            "tags": []
          },
          "execution_count": 59
        }
      ]
    },
    {
      "cell_type": "code",
      "metadata": {
        "colab": {
          "base_uri": "https://localhost:8080/"
        },
        "id": "I-AqCqyDzl1O",
        "outputId": "718c2026-ed8e-452f-fb3b-94d41c2f6010"
      },
      "source": [
        "add.__globals__ is globals()"
      ],
      "execution_count": null,
      "outputs": [
        {
          "output_type": "execute_result",
          "data": {
            "text/plain": [
              "True"
            ]
          },
          "metadata": {
            "tags": []
          },
          "execution_count": 60
        }
      ]
    },
    {
      "cell_type": "code",
      "metadata": {
        "colab": {
          "base_uri": "https://localhost:8080/"
        },
        "id": "JeyHrn6XzmBv",
        "outputId": "4bd9ca18-b1b3-4a5d-9a52-72e5172d5590"
      },
      "source": [
        "math.e"
      ],
      "execution_count": null,
      "outputs": [
        {
          "output_type": "execute_result",
          "data": {
            "text/plain": [
              "2.718281828459045"
            ]
          },
          "metadata": {
            "tags": []
          },
          "execution_count": 61
        }
      ]
    },
    {
      "cell_type": "code",
      "metadata": {
        "id": "ZsUn7ObQzmQh"
      },
      "source": [
        "CONST=100"
      ],
      "execution_count": null,
      "outputs": []
    },
    {
      "cell_type": "code",
      "metadata": {
        "colab": {
          "base_uri": "https://localhost:8080/"
        },
        "id": "4nmybJ9Hljup",
        "outputId": "0e8f03dc-508f-4f91-88c5-fd2d6cff798b"
      },
      "source": [
        "CONST"
      ],
      "execution_count": null,
      "outputs": [
        {
          "output_type": "execute_result",
          "data": {
            "text/plain": [
              "100"
            ]
          },
          "metadata": {
            "tags": []
          },
          "execution_count": 63
        }
      ]
    },
    {
      "cell_type": "code",
      "metadata": {
        "id": "nTyOl4H6VJrT",
        "colab": {
          "base_uri": "https://localhost:8080/"
        },
        "outputId": "2f8f5be0-352b-4f62-bd9b-6b44714006af"
      },
      "source": [
        "1,1.1,'state'"
      ],
      "execution_count": 69,
      "outputs": [
        {
          "output_type": "execute_result",
          "data": {
            "text/plain": [
              "(1, 1.1, 'state')"
            ]
          },
          "metadata": {
            "tags": []
          },
          "execution_count": 69
        }
      ]
    },
    {
      "cell_type": "code",
      "metadata": {
        "id": "OzF-Mn6nVJyU",
        "colab": {
          "base_uri": "https://localhost:8080/"
        },
        "outputId": "51a82074-77f8-4f36-9eea-c6f5fce86ea4"
      },
      "source": [
        "type(1),type(1.1),type('state')"
      ],
      "execution_count": 68,
      "outputs": [
        {
          "output_type": "execute_result",
          "data": {
            "text/plain": [
              "(int, float, str)"
            ]
          },
          "metadata": {
            "tags": []
          },
          "execution_count": 67
        },
        {
          "output_type": "execute_result",
          "data": {
            "text/plain": [
              "(int, float, str)"
            ]
          },
          "metadata": {
            "tags": []
          },
          "execution_count": 68
        }
      ]
    },
    {
      "cell_type": "code",
      "metadata": {
        "id": "y_olyDaEVJ1j",
        "colab": {
          "base_uri": "https://localhost:8080/"
        },
        "outputId": "2206956b-31ff-486f-a385-b6cbf09fbbcc"
      },
      "source": [
        "a=100\n",
        "a+200"
      ],
      "execution_count": 83,
      "outputs": [
        {
          "output_type": "execute_result",
          "data": {
            "text/plain": [
              "300"
            ]
          },
          "metadata": {
            "tags": []
          },
          "execution_count": 83
        }
      ]
    },
    {
      "cell_type": "code",
      "metadata": {
        "id": "ukWXtd6YVJ42",
        "colab": {
          "base_uri": "https://localhost:8080/"
        },
        "outputId": "1e20ef23-2e2d-4963-e9eb-496a59023ebf"
      },
      "source": [
        "a.__add__(200)"
      ],
      "execution_count": 84,
      "outputs": [
        {
          "output_type": "execute_result",
          "data": {
            "text/plain": [
              "300"
            ]
          },
          "metadata": {
            "tags": []
          },
          "execution_count": 84
        }
      ]
    },
    {
      "cell_type": "code",
      "metadata": {
        "id": "J5VT1XwVVJ8k",
        "colab": {
          "base_uri": "https://localhost:8080/",
          "height": 35
        },
        "outputId": "434f3e46-94e9-4cce-d23c-757ddc242af4"
      },
      "source": [
        "a='Eunjoo'\n",
        "a+'ahn'"
      ],
      "execution_count": 72,
      "outputs": [
        {
          "output_type": "execute_result",
          "data": {
            "application/vnd.google.colaboratory.intrinsic+json": {
              "type": "string"
            },
            "text/plain": [
              "'Eunjooahn'"
            ]
          },
          "metadata": {
            "tags": []
          },
          "execution_count": 72
        }
      ]
    },
    {
      "cell_type": "code",
      "metadata": {
        "id": "leJrxa6RVKAJ",
        "colab": {
          "base_uri": "https://localhost:8080/",
          "height": 35
        },
        "outputId": "9d2d7a26-db37-4e62-b06f-fdb7900169bf"
      },
      "source": [
        "a.__add__(\"ahn\")"
      ],
      "execution_count": 73,
      "outputs": [
        {
          "output_type": "execute_result",
          "data": {
            "application/vnd.google.colaboratory.intrinsic+json": {
              "type": "string"
            },
            "text/plain": [
              "'Eunjooahn'"
            ]
          },
          "metadata": {
            "tags": []
          },
          "execution_count": 73
        }
      ]
    },
    {
      "cell_type": "code",
      "metadata": {
        "id": "VQo3u7HrljyO",
        "colab": {
          "base_uri": "https://localhost:8080/"
        },
        "outputId": "9ae33a25-0f0a-4652-9c95-92bb5bd1837d"
      },
      "source": [
        "int.__add__"
      ],
      "execution_count": 74,
      "outputs": [
        {
          "output_type": "execute_result",
          "data": {
            "text/plain": [
              "<slot wrapper '__add__' of 'int' objects>"
            ]
          },
          "metadata": {
            "tags": []
          },
          "execution_count": 74
        }
      ]
    },
    {
      "cell_type": "code",
      "metadata": {
        "colab": {
          "base_uri": "https://localhost:8080/"
        },
        "id": "85cJg7L-WlEM",
        "outputId": "ab43b8a3-b5b4-4d50-9458-a554d1b1c34b"
      },
      "source": [
        "int.__sub__"
      ],
      "execution_count": 75,
      "outputs": [
        {
          "output_type": "execute_result",
          "data": {
            "text/plain": [
              "<slot wrapper '__sub__' of 'int' objects>"
            ]
          },
          "metadata": {
            "tags": []
          },
          "execution_count": 75
        }
      ]
    },
    {
      "cell_type": "code",
      "metadata": {
        "colab": {
          "base_uri": "https://localhost:8080/"
        },
        "id": "CwXr0vxfWlHE",
        "outputId": "4417887b-98d3-49e5-919c-0c13e5217591"
      },
      "source": [
        "int.__mul__"
      ],
      "execution_count": 76,
      "outputs": [
        {
          "output_type": "execute_result",
          "data": {
            "text/plain": [
              "<slot wrapper '__mul__' of 'int' objects>"
            ]
          },
          "metadata": {
            "tags": []
          },
          "execution_count": 76
        }
      ]
    },
    {
      "cell_type": "code",
      "metadata": {
        "colab": {
          "base_uri": "https://localhost:8080/"
        },
        "id": "GhKGxqP8WlTy",
        "outputId": "90d028f0-d0e3-47d1-8cc8-3c79d4e4178f"
      },
      "source": [
        "a=1\n",
        "a.__add__(2),(1).__add__(2)"
      ],
      "execution_count": 89,
      "outputs": [
        {
          "output_type": "execute_result",
          "data": {
            "text/plain": [
              "(3, 3)"
            ]
          },
          "metadata": {
            "tags": []
          },
          "execution_count": 89
        }
      ]
    },
    {
      "cell_type": "code",
      "metadata": {
        "colab": {
          "base_uri": "https://localhost:8080/"
        },
        "id": "9AJAffqpWlXM",
        "outputId": "bbf89189-afae-45de-d62d-fa7bfc9652b9"
      },
      "source": [
        "a.__sub__(2),a.__mul__(3),(1).__sub__(2),(1).__mul__(3)"
      ],
      "execution_count": 90,
      "outputs": [
        {
          "output_type": "execute_result",
          "data": {
            "text/plain": [
              "(-1, 3, -1, 3)"
            ]
          },
          "metadata": {
            "tags": []
          },
          "execution_count": 90
        }
      ]
    },
    {
      "cell_type": "code",
      "metadata": {
        "colab": {
          "base_uri": "https://localhost:8080/"
        },
        "id": "WTZSLzaDWlZ6",
        "outputId": "a147c39b-0608-40ed-926c-0d38fa48a7d2"
      },
      "source": [
        "int.__mul__(2,3), int.__sub__(2,3)"
      ],
      "execution_count": 91,
      "outputs": [
        {
          "output_type": "execute_result",
          "data": {
            "text/plain": [
              "(6, -1)"
            ]
          },
          "metadata": {
            "tags": []
          },
          "execution_count": 91
        }
      ]
    },
    {
      "cell_type": "code",
      "metadata": {
        "colab": {
          "base_uri": "https://localhost:8080/"
        },
        "id": "3PDVIkagWldP",
        "outputId": "e45b3a9a-a043-49ad-9bae-f62b1c0bcb55"
      },
      "source": [
        "2/2, int.__truediv__(2,2),2//2,int.__floordiv__(2,2)"
      ],
      "execution_count": 95,
      "outputs": [
        {
          "output_type": "execute_result",
          "data": {
            "text/plain": [
              "(1.0, 1.0, 1, 1)"
            ]
          },
          "metadata": {
            "tags": []
          },
          "execution_count": 95
        }
      ]
    },
    {
      "cell_type": "code",
      "metadata": {
        "colab": {
          "base_uri": "https://localhost:8080/"
        },
        "id": "1H3Jk2hlWlga",
        "outputId": "c043d36c-77d6-42c5-a60f-1e5c5be96035"
      },
      "source": [
        "a=b=c=d=5\n",
        "a+b+c+d, a.__add__(b).__add__(c).__add__(d)"
      ],
      "execution_count": 97,
      "outputs": [
        {
          "output_type": "execute_result",
          "data": {
            "text/plain": [
              "(20, 20)"
            ]
          },
          "metadata": {
            "tags": []
          },
          "execution_count": 97
        }
      ]
    },
    {
      "cell_type": "code",
      "metadata": {
        "colab": {
          "base_uri": "https://localhost:8080/"
        },
        "id": "VySLin1DY1k_",
        "outputId": "4ce0bc5c-fc7e-4202-ff6d-34da2de27174"
      },
      "source": [
        "e='100+100'\n",
        "k='100'+'100'\n",
        "eval(e),eval(k),100+100"
      ],
      "execution_count": 102,
      "outputs": [
        {
          "output_type": "execute_result",
          "data": {
            "text/plain": [
              "(200, 100100, 200)"
            ]
          },
          "metadata": {
            "tags": []
          },
          "execution_count": 102
        }
      ]
    },
    {
      "cell_type": "code",
      "metadata": {
        "id": "AbAY5i4AY1op"
      },
      "source": [
        "s=\"\"\"\n",
        "def add__(x,y):\n",
        "  return x+y\n",
        "\"\"\""
      ],
      "execution_count": 104,
      "outputs": []
    },
    {
      "cell_type": "code",
      "metadata": {
        "id": "FRVIc2MCY1rw"
      },
      "source": [
        "exec(s)"
      ],
      "execution_count": 105,
      "outputs": []
    },
    {
      "cell_type": "code",
      "metadata": {
        "colab": {
          "base_uri": "https://localhost:8080/"
        },
        "id": "b69-WRKeY1uN",
        "outputId": "d3de17ab-217a-4d9a-fa60-72750a29b323"
      },
      "source": [
        "add__(10,10)"
      ],
      "execution_count": 106,
      "outputs": [
        {
          "output_type": "execute_result",
          "data": {
            "text/plain": [
              "20"
            ]
          },
          "metadata": {
            "tags": []
          },
          "execution_count": 106
        }
      ]
    },
    {
      "cell_type": "code",
      "metadata": {
        "colab": {
          "base_uri": "https://localhost:8080/"
        },
        "id": "KtQYBnEXY10W",
        "outputId": "1a7f90dc-f61b-4ca0-e53c-e5a2dfe8ce76"
      },
      "source": [
        "r=range(5)\n",
        "r"
      ],
      "execution_count": 107,
      "outputs": [
        {
          "output_type": "execute_result",
          "data": {
            "text/plain": [
              "range(0, 5)"
            ]
          },
          "metadata": {
            "tags": []
          },
          "execution_count": 107
        }
      ]
    },
    {
      "cell_type": "code",
      "metadata": {
        "colab": {
          "base_uri": "https://localhost:8080/"
        },
        "id": "DZzWFnKqY2Co",
        "outputId": "4eb18d37-706c-407a-8bf1-6d59dd924cc2"
      },
      "source": [
        "for i in r:\n",
        "  print(i)"
      ],
      "execution_count": 108,
      "outputs": [
        {
          "output_type": "stream",
          "text": [
            "0\n",
            "1\n",
            "2\n",
            "3\n",
            "4\n"
          ],
          "name": "stdout"
        }
      ]
    },
    {
      "cell_type": "code",
      "metadata": {
        "colab": {
          "base_uri": "https://localhost:8080/"
        },
        "id": "HYVv14ScY2Fa",
        "outputId": "fee4ccb8-709a-4bb3-e70e-93f445cdaf21"
      },
      "source": [
        "x=100\n",
        "y=\"2*x**2+4\"\n",
        "eval(y)"
      ],
      "execution_count": 109,
      "outputs": [
        {
          "output_type": "execute_result",
          "data": {
            "text/plain": [
              "20004"
            ]
          },
          "metadata": {
            "tags": []
          },
          "execution_count": 109
        }
      ]
    },
    {
      "cell_type": "code",
      "metadata": {
        "id": "RvDqZyyLcuIr"
      },
      "source": [
        "z=\"y1=2*x**2+4\"\n",
        "exec(z)"
      ],
      "execution_count": 110,
      "outputs": []
    },
    {
      "cell_type": "code",
      "metadata": {
        "colab": {
          "base_uri": "https://localhost:8080/"
        },
        "id": "4FLhLmRhcuR8",
        "outputId": "75d7a520-4be6-4198-ddc0-6c0a8060c9c4"
      },
      "source": [
        "globals()['y1'],y1"
      ],
      "execution_count": 112,
      "outputs": [
        {
          "output_type": "execute_result",
          "data": {
            "text/plain": [
              "(20004, 20004)"
            ]
          },
          "metadata": {
            "tags": []
          },
          "execution_count": 112
        }
      ]
    },
    {
      "cell_type": "code",
      "metadata": {
        "colab": {
          "base_uri": "https://localhost:8080/"
        },
        "id": "VpnSMOq0cuWK",
        "outputId": "b0ad5121-f1b0-4303-e931-d705df94f30e"
      },
      "source": [
        "var=[]\n",
        "type(var),var.__class__"
      ],
      "execution_count": 116,
      "outputs": [
        {
          "output_type": "execute_result",
          "data": {
            "text/plain": [
              "(list, list)"
            ]
          },
          "metadata": {
            "tags": []
          },
          "execution_count": 116
        }
      ]
    },
    {
      "cell_type": "code",
      "metadata": {
        "colab": {
          "base_uri": "https://localhost:8080/"
        },
        "id": "9POFCYc8dDi-",
        "outputId": "83a1de5c-3105-44f8-c223-4069e91fe62f"
      },
      "source": [
        "c=int('100')\n",
        "c,type(c),100+int('100')"
      ],
      "execution_count": 119,
      "outputs": [
        {
          "output_type": "execute_result",
          "data": {
            "text/plain": [
              "(100, int, 200)"
            ]
          },
          "metadata": {
            "tags": []
          },
          "execution_count": 119
        }
      ]
    },
    {
      "cell_type": "code",
      "metadata": {
        "id": "dvwwrGnydDl8"
      },
      "source": [
        "class A(object):\n",
        "  def func(self):\n",
        "    print(\"This is function\")"
      ],
      "execution_count": 120,
      "outputs": []
    },
    {
      "cell_type": "code",
      "metadata": {
        "colab": {
          "base_uri": "https://localhost:8080/"
        },
        "id": "dY4qvs2kdDzC",
        "outputId": "c8cffbf4-8398-477d-de5e-6786eaa63d4f"
      },
      "source": [
        "A.func"
      ],
      "execution_count": 121,
      "outputs": [
        {
          "output_type": "execute_result",
          "data": {
            "text/plain": [
              "<function __main__.A.func>"
            ]
          },
          "metadata": {
            "tags": []
          },
          "execution_count": 121
        }
      ]
    },
    {
      "cell_type": "code",
      "metadata": {
        "colab": {
          "base_uri": "https://localhost:8080/"
        },
        "id": "Biw1E0AIdD2j",
        "outputId": "56b1a467-2b9a-477b-e6f4-fc94ef11363b"
      },
      "source": [
        "a=A()\n",
        "a.func"
      ],
      "execution_count": 123,
      "outputs": [
        {
          "output_type": "execute_result",
          "data": {
            "text/plain": [
              "<bound method A.func of <__main__.A object at 0x7fc1c81733c8>>"
            ]
          },
          "metadata": {
            "tags": []
          },
          "execution_count": 123
        }
      ]
    },
    {
      "cell_type": "code",
      "metadata": {
        "colab": {
          "base_uri": "https://localhost:8080/",
          "height": 35
        },
        "id": "DhWn8cvgdD6Y",
        "outputId": "41c99ea4-cdc7-4072-d4c8-7f69842cd267"
      },
      "source": [
        "var ='string'\n",
        "s=var.replace(\"s\",\"k\")\n",
        "s"
      ],
      "execution_count": 124,
      "outputs": [
        {
          "output_type": "execute_result",
          "data": {
            "application/vnd.google.colaboratory.intrinsic+json": {
              "type": "string"
            },
            "text/plain": [
              "'ktring'"
            ]
          },
          "metadata": {
            "tags": []
          },
          "execution_count": 124
        }
      ]
    },
    {
      "cell_type": "code",
      "metadata": {
        "colab": {
          "base_uri": "https://localhost:8080/"
        },
        "id": "CqBqWsH9dD-Q",
        "outputId": "cad2d08b-73b0-4159-e13d-fa9f2a2f98a7"
      },
      "source": [
        "l=[1,2,3,4]\n",
        "l[0]=100\n",
        "l"
      ],
      "execution_count": 127,
      "outputs": [
        {
          "output_type": "execute_result",
          "data": {
            "text/plain": [
              "[100, 2, 3, 4]"
            ]
          },
          "metadata": {
            "tags": []
          },
          "execution_count": 127
        }
      ]
    },
    {
      "cell_type": "code",
      "metadata": {
        "colab": {
          "base_uri": "https://localhost:8080/"
        },
        "id": "xuDHs77LdEBZ",
        "outputId": "257439bb-ebfb-4a8b-c38f-af1472b05ad1"
      },
      "source": [
        "l.__setitem__(0,999)\n",
        "l"
      ],
      "execution_count": 131,
      "outputs": [
        {
          "output_type": "execute_result",
          "data": {
            "text/plain": [
              "[999, 2, 3, 4]"
            ]
          },
          "metadata": {
            "tags": []
          },
          "execution_count": 131
        }
      ]
    },
    {
      "cell_type": "code",
      "metadata": {
        "colab": {
          "base_uri": "https://localhost:8080/"
        },
        "id": "p1OsuQwvdEEf",
        "outputId": "6ffde9ee-872b-4de0-9c59-8e0e8fb72a3a"
      },
      "source": [
        "s='100'\n",
        "i=int(s)\n",
        "type(i)"
      ],
      "execution_count": 132,
      "outputs": [
        {
          "output_type": "execute_result",
          "data": {
            "text/plain": [
              "int"
            ]
          },
          "metadata": {
            "tags": []
          },
          "execution_count": 132
        }
      ]
    },
    {
      "cell_type": "code",
      "metadata": {
        "colab": {
          "base_uri": "https://localhost:8080/"
        },
        "id": "RqGDyRnddEID",
        "outputId": "6db9395f-5e7f-4ea2-cca8-074088374c8b"
      },
      "source": [
        "f=float(s)\n",
        "type(f),s"
      ],
      "execution_count": 134,
      "outputs": [
        {
          "output_type": "execute_result",
          "data": {
            "text/plain": [
              "(float, '100')"
            ]
          },
          "metadata": {
            "tags": []
          },
          "execution_count": 134
        }
      ]
    },
    {
      "cell_type": "code",
      "metadata": {
        "colab": {
          "base_uri": "https://localhost:8080/"
        },
        "id": "hELe2opOdELm",
        "outputId": "b0dcf43f-1c06-4d7d-aae0-6592e2dc0ce0"
      },
      "source": [
        "str.__dict__['__getitem__']"
      ],
      "execution_count": 135,
      "outputs": [
        {
          "output_type": "execute_result",
          "data": {
            "text/plain": [
              "<slot wrapper '__getitem__' of 'str' objects>"
            ]
          },
          "metadata": {
            "tags": []
          },
          "execution_count": 135
        }
      ]
    },
    {
      "cell_type": "code",
      "metadata": {
        "id": "zb4P7DupcuZq"
      },
      "source": [
        "#impossible\n",
        "#str.__dict__['__setitem']"
      ],
      "execution_count": 137,
      "outputs": []
    },
    {
      "cell_type": "code",
      "metadata": {
        "colab": {
          "base_uri": "https://localhost:8080/"
        },
        "id": "BP8r2RztcudY",
        "outputId": "4927c69c-c1a1-416f-d54c-70846664f3fe"
      },
      "source": [
        "list.__dict__['__getitem__']"
      ],
      "execution_count": 138,
      "outputs": [
        {
          "output_type": "execute_result",
          "data": {
            "text/plain": [
              "<method '__getitem__' of 'list' objects>"
            ]
          },
          "metadata": {
            "tags": []
          },
          "execution_count": 138
        }
      ]
    },
    {
      "cell_type": "code",
      "metadata": {
        "colab": {
          "base_uri": "https://localhost:8080/"
        },
        "id": "VEM8eH82cugV",
        "outputId": "4eb5d996-f059-44b5-b233-7af7df593b10"
      },
      "source": [
        "list.__dict__['__setitem__']"
      ],
      "execution_count": 139,
      "outputs": [
        {
          "output_type": "execute_result",
          "data": {
            "text/plain": [
              "<slot wrapper '__setitem__' of 'list' objects>"
            ]
          },
          "metadata": {
            "tags": []
          },
          "execution_count": 139
        }
      ]
    },
    {
      "cell_type": "code",
      "metadata": {
        "colab": {
          "base_uri": "https://localhost:8080/"
        },
        "id": "H1vVsLizcuk1",
        "outputId": "0d2f617e-2795-4dd6-9f78-c44193eae279"
      },
      "source": [
        "list.__dict__['__delitem__']"
      ],
      "execution_count": 140,
      "outputs": [
        {
          "output_type": "execute_result",
          "data": {
            "text/plain": [
              "<slot wrapper '__delitem__' of 'list' objects>"
            ]
          },
          "metadata": {
            "tags": []
          },
          "execution_count": 140
        }
      ]
    },
    {
      "cell_type": "code",
      "metadata": {
        "colab": {
          "base_uri": "https://localhost:8080/"
        },
        "id": "dAggYGX9cuuR",
        "outputId": "c55f2f9b-96cd-4ede-93ac-5aa2b95fa5b2"
      },
      "source": [
        "lll=[1,2,3,4]\n",
        "lll.__getitem__(0)"
      ],
      "execution_count": 141,
      "outputs": [
        {
          "output_type": "execute_result",
          "data": {
            "text/plain": [
              "1"
            ]
          },
          "metadata": {
            "tags": []
          },
          "execution_count": 141
        }
      ]
    },
    {
      "cell_type": "code",
      "metadata": {
        "colab": {
          "base_uri": "https://localhost:8080/"
        },
        "id": "MXcsCvkeY2Pb",
        "outputId": "f8f18e5b-b75c-4785-c543-8c837226f8c5"
      },
      "source": [
        "lll.__setitem__(0,999)\n",
        "lll"
      ],
      "execution_count": 143,
      "outputs": [
        {
          "output_type": "execute_result",
          "data": {
            "text/plain": [
              "[999, 2, 3, 4]"
            ]
          },
          "metadata": {
            "tags": []
          },
          "execution_count": 143
        }
      ]
    },
    {
      "cell_type": "code",
      "metadata": {
        "colab": {
          "base_uri": "https://localhost:8080/"
        },
        "id": "p441hI0xWlj3",
        "outputId": "edd9cd03-924b-41bd-9d4a-6b8d77dbe8c8"
      },
      "source": [
        "lll[0]=777\n",
        "lll"
      ],
      "execution_count": 144,
      "outputs": [
        {
          "output_type": "execute_result",
          "data": {
            "text/plain": [
              "[777, 2, 3, 4]"
            ]
          },
          "metadata": {
            "tags": []
          },
          "execution_count": 144
        }
      ]
    },
    {
      "cell_type": "code",
      "metadata": {
        "colab": {
          "base_uri": "https://localhost:8080/"
        },
        "id": "lDva7Qg4hlnj",
        "outputId": "1c145b49-9bdc-4524-c023-1b350052f287"
      },
      "source": [
        "def func():\n",
        "    print(\"func\")\n",
        "\n",
        "func()"
      ],
      "execution_count": 145,
      "outputs": [
        {
          "output_type": "stream",
          "text": [
            "func\n"
          ],
          "name": "stdout"
        }
      ]
    },
    {
      "cell_type": "code",
      "metadata": {
        "colab": {
          "base_uri": "https://localhost:8080/"
        },
        "id": "4e4aKhPXhlrT",
        "outputId": "a8940a95-b667-4357-8797-4bbc55b251fd"
      },
      "source": [
        "a=100+\\\n",
        "200+\\\n",
        "300\n",
        "\n",
        "a"
      ],
      "execution_count": 146,
      "outputs": [
        {
          "output_type": "execute_result",
          "data": {
            "text/plain": [
              "600"
            ]
          },
          "metadata": {
            "tags": []
          },
          "execution_count": 146
        }
      ]
    },
    {
      "cell_type": "code",
      "metadata": {
        "colab": {
          "base_uri": "https://localhost:8080/"
        },
        "id": "DFDXIlqihlvU",
        "outputId": "c2f764cd-6459-47ba-e039-540c47deb211"
      },
      "source": [
        "b=(100+\n",
        "   200+300)\n",
        "b"
      ],
      "execution_count": 147,
      "outputs": [
        {
          "output_type": "execute_result",
          "data": {
            "text/plain": [
              "600"
            ]
          },
          "metadata": {
            "tags": []
          },
          "execution_count": 147
        }
      ]
    },
    {
      "cell_type": "code",
      "metadata": {
        "colab": {
          "base_uri": "https://localhost:8080/"
        },
        "id": "IscrZpTWhlye",
        "outputId": "9cbee841-7805-4e41-d5d2-db4494e75b81"
      },
      "source": [
        "t=(1,2,3,\n",
        "   4,5)\n",
        "t"
      ],
      "execution_count": 148,
      "outputs": [
        {
          "output_type": "execute_result",
          "data": {
            "text/plain": [
              "(1, 2, 3, 4, 5)"
            ]
          },
          "metadata": {
            "tags": []
          },
          "execution_count": 148
        }
      ]
    },
    {
      "cell_type": "code",
      "metadata": {
        "colab": {
          "base_uri": "https://localhost:8080/"
        },
        "id": "-tvdXvrrhl1f",
        "outputId": "9e9830b3-f869-4956-abc3-2719c76166ea"
      },
      "source": [
        "o=[1,2,\n",
        "   3,4,5,6,7,8]\n",
        "o"
      ],
      "execution_count": 149,
      "outputs": [
        {
          "output_type": "execute_result",
          "data": {
            "text/plain": [
              "[1, 2, 3, 4, 5, 6, 7, 8]"
            ]
          },
          "metadata": {
            "tags": []
          },
          "execution_count": 149
        }
      ]
    },
    {
      "cell_type": "code",
      "metadata": {
        "colab": {
          "base_uri": "https://localhost:8080/",
          "height": 35
        },
        "id": "5_HthiFNhl4X",
        "outputId": "dc86f016-efc2-4ea6-d244-b9360fef481f"
      },
      "source": [
        "s=\"\"\" Hello,\n",
        "my name is Eunjoo ahn\"\"\"\n",
        "s"
      ],
      "execution_count": 151,
      "outputs": [
        {
          "output_type": "execute_result",
          "data": {
            "application/vnd.google.colaboratory.intrinsic+json": {
              "type": "string"
            },
            "text/plain": [
              "' Hello,\\nmy name is Eunjoo ahn'"
            ]
          },
          "metadata": {
            "tags": []
          },
          "execution_count": 151
        }
      ]
    },
    {
      "cell_type": "code",
      "metadata": {
        "colab": {
          "base_uri": "https://localhost:8080/"
        },
        "id": "U936eDHghl9B",
        "outputId": "22773851-11ff-49d5-e066-b4eac1975a66"
      },
      "source": [
        "d={'a':100,\n",
        "   'b':200}\n",
        "d"
      ],
      "execution_count": 152,
      "outputs": [
        {
          "output_type": "execute_result",
          "data": {
            "text/plain": [
              "{'a': 100, 'b': 200}"
            ]
          },
          "metadata": {
            "tags": []
          },
          "execution_count": 152
        }
      ]
    },
    {
      "cell_type": "code",
      "metadata": {
        "colab": {
          "base_uri": "https://localhost:8080/"
        },
        "id": "buQpLHLThmJi",
        "outputId": "a555bfae-d829-44e7-e397-27f18cdcdeb0"
      },
      "source": [
        "a=10; b=20;c=30\n",
        "a,b,c"
      ],
      "execution_count": 153,
      "outputs": [
        {
          "output_type": "execute_result",
          "data": {
            "text/plain": [
              "(10, 20, 30)"
            ]
          },
          "metadata": {
            "tags": []
          },
          "execution_count": 153
        }
      ]
    },
    {
      "cell_type": "code",
      "metadata": {
        "colab": {
          "base_uri": "https://localhost:8080/"
        },
        "id": "zA-r6RHElnk9",
        "outputId": "6c63d89f-31a0-48fc-dbf8-104d06f9c898"
      },
      "source": [
        "for i in range(3): print(i);print('Hello')"
      ],
      "execution_count": 154,
      "outputs": [
        {
          "output_type": "stream",
          "text": [
            "0\n",
            "Hello\n",
            "1\n",
            "Hello\n",
            "2\n",
            "Hello\n"
          ],
          "name": "stdout"
        }
      ]
    },
    {
      "cell_type": "code",
      "metadata": {
        "colab": {
          "base_uri": "https://localhost:8080/"
        },
        "id": "yZ8pPm0KlnoT",
        "outputId": "a5f4fa1e-0a95-4610-8d4b-309e82b6a459"
      },
      "source": [
        "if a<b: print(c);print(\"Hello\")"
      ],
      "execution_count": 155,
      "outputs": [
        {
          "output_type": "stream",
          "text": [
            "30\n",
            "Hello\n"
          ],
          "name": "stdout"
        }
      ]
    },
    {
      "cell_type": "code",
      "metadata": {
        "colab": {
          "base_uri": "https://localhost:8080/"
        },
        "id": "erNFi2EClnwv",
        "outputId": "c78938bf-421f-4267-fe10-4d794d2a6cd4"
      },
      "source": [
        "if a>b:print(c)\n",
        "else:print(\"Hello\")"
      ],
      "execution_count": 156,
      "outputs": [
        {
          "output_type": "stream",
          "text": [
            "Hello\n"
          ],
          "name": "stdout"
        }
      ]
    },
    {
      "cell_type": "code",
      "metadata": {
        "colab": {
          "base_uri": "https://localhost:8080/"
        },
        "id": "SZe4crgIln0o",
        "outputId": "4af74d3f-1333-4030-9e45-743bd7a47693"
      },
      "source": [
        "x=[1,2,3,4,5,6,7,8,9,10]\n",
        "s=[i for i in range(1,11)]\n",
        "x==s"
      ],
      "execution_count": 159,
      "outputs": [
        {
          "output_type": "execute_result",
          "data": {
            "text/plain": [
              "True"
            ]
          },
          "metadata": {
            "tags": []
          },
          "execution_count": 159
        }
      ]
    },
    {
      "cell_type": "code",
      "metadata": {
        "id": "oJee3hb_ln4C"
      },
      "source": [
        "import random\n"
      ],
      "execution_count": 161,
      "outputs": []
    },
    {
      "cell_type": "code",
      "metadata": {
        "id": "1sJylplZln8g"
      },
      "source": [
        "random.shuffle(s)\n"
      ],
      "execution_count": 163,
      "outputs": []
    },
    {
      "cell_type": "code",
      "metadata": {
        "colab": {
          "base_uri": "https://localhost:8080/"
        },
        "id": "MZM5vTjQloAk",
        "outputId": "3b5c3684-4300-4feb-d616-dace17615590"
      },
      "source": [
        "random.choices(s,k=6)"
      ],
      "execution_count": 164,
      "outputs": [
        {
          "output_type": "execute_result",
          "data": {
            "text/plain": [
              "[8, 4, 2, 10, 1, 3]"
            ]
          },
          "metadata": {
            "tags": []
          },
          "execution_count": 164
        }
      ]
    },
    {
      "cell_type": "code",
      "metadata": {
        "colab": {
          "base_uri": "https://localhost:8080/"
        },
        "id": "RX1vGFPaloEW",
        "outputId": "abc243f0-f12f-4f63-918b-b8989180420f"
      },
      "source": [
        "random.shuffle(s)\n",
        "random.choices(s,k=6)"
      ],
      "execution_count": 165,
      "outputs": [
        {
          "output_type": "execute_result",
          "data": {
            "text/plain": [
              "[9, 2, 1, 4, 9, 8]"
            ]
          },
          "metadata": {
            "tags": []
          },
          "execution_count": 165
        }
      ]
    },
    {
      "cell_type": "code",
      "metadata": {
        "colab": {
          "base_uri": "https://localhost:8080/"
        },
        "id": "danf55tzloY2",
        "outputId": "db5eebed-da60-4945-8584-31c331006ac9"
      },
      "source": [
        "import numpy as np\n",
        "random.shuffle(s, random=np.random.random)\n",
        "random.choices(s, k=6)"
      ],
      "execution_count": 167,
      "outputs": [
        {
          "output_type": "execute_result",
          "data": {
            "text/plain": [
              "[3, 4, 8, 4, 9, 8]"
            ]
          },
          "metadata": {
            "tags": []
          },
          "execution_count": 167
        }
      ]
    },
    {
      "cell_type": "code",
      "metadata": {
        "colab": {
          "base_uri": "https://localhost:8080/"
        },
        "id": "bbGTl4OGnzzY",
        "outputId": "4b50cf7d-5e63-40fa-bb14-b537a6ca8372"
      },
      "source": [
        "np.random.shuffle(s)\n",
        "random.choices(s,k=6)"
      ],
      "execution_count": 168,
      "outputs": [
        {
          "output_type": "execute_result",
          "data": {
            "text/plain": [
              "[7, 10, 10, 6, 10, 4]"
            ]
          },
          "metadata": {
            "tags": []
          },
          "execution_count": 168
        }
      ]
    },
    {
      "cell_type": "code",
      "metadata": {
        "colab": {
          "base_uri": "https://localhost:8080/"
        },
        "id": "7XdrN80enz3z",
        "outputId": "f96a6c20-189c-41b7-b265-1099e0289781"
      },
      "source": [
        "import math\n",
        "a=math.__doc__\n",
        "print(a)"
      ],
      "execution_count": 181,
      "outputs": [
        {
          "output_type": "stream",
          "text": [
            "This module is always available.  It provides access to the\n",
            "mathematical functions defined by the C standard.\n"
          ],
          "name": "stdout"
        }
      ]
    },
    {
      "cell_type": "code",
      "metadata": {
        "colab": {
          "base_uri": "https://localhost:8080/"
        },
        "id": "V9DigEy0nz8Z",
        "outputId": "b918c40e-49ee-4d07-ea41-767cb76277bc"
      },
      "source": [
        "%%writefile add.py\n",
        "\n",
        "def add(x,y):\n",
        "  \"\"\"This module is provided the function of the addition\"\"\"\n",
        "  return x+y"
      ],
      "execution_count": 198,
      "outputs": [
        {
          "output_type": "stream",
          "text": [
            "Overwriting add.py\n"
          ],
          "name": "stdout"
        }
      ]
    },
    {
      "cell_type": "code",
      "metadata": {
        "id": "TcAtNAb6n0AD"
      },
      "source": [
        "import add"
      ],
      "execution_count": 199,
      "outputs": []
    },
    {
      "cell_type": "code",
      "metadata": {
        "colab": {
          "base_uri": "https://localhost:8080/"
        },
        "id": "J8yLocQin0I9",
        "outputId": "a3545b78-4a3f-4fc7-f34e-90aab8a515d5"
      },
      "source": [
        "b=add.__doc__\n",
        "print(b)"
      ],
      "execution_count": 200,
      "outputs": [
        {
          "output_type": "stream",
          "text": [
            "None\n"
          ],
          "name": "stdout"
        }
      ]
    },
    {
      "cell_type": "code",
      "metadata": {
        "id": "ijkQBda7n0SG"
      },
      "source": [
        "def func(x,y):\n",
        "\n",
        "  \"\"\"This is the first check\"\"\"\n",
        "  if not isinstance(x,int):\n",
        "        raise TypeError(\"x is not integer\")\n",
        "  \"\"\" This is the second check\"\"\"\n",
        "  if not isinstance(y,int):\n",
        "        raise TypeError(\"y is not integer\")\n",
        "    \n",
        "  return x+y"
      ],
      "execution_count": 190,
      "outputs": []
    },
    {
      "cell_type": "code",
      "metadata": {
        "colab": {
          "base_uri": "https://localhost:8080/"
        },
        "id": "LzlcSSNApoQL",
        "outputId": "2fa62051-131e-4bfc-fbd6-a89a2f8e92bf"
      },
      "source": [
        "func(10,10)"
      ],
      "execution_count": 191,
      "outputs": [
        {
          "output_type": "execute_result",
          "data": {
            "text/plain": [
              "20"
            ]
          },
          "metadata": {
            "tags": []
          },
          "execution_count": 191
        }
      ]
    },
    {
      "cell_type": "code",
      "metadata": {
        "id": "QCsfYBgdpoVQ"
      },
      "source": [
        "c=func.__doc__"
      ],
      "execution_count": 192,
      "outputs": []
    },
    {
      "cell_type": "code",
      "metadata": {
        "colab": {
          "base_uri": "https://localhost:8080/"
        },
        "id": "wuUqycM7poZ7",
        "outputId": "f48bbcc2-a98e-4a78-cd7c-0e5df3b30a6c"
      },
      "source": [
        "print(c)"
      ],
      "execution_count": 193,
      "outputs": [
        {
          "output_type": "stream",
          "text": [
            "This is the first check\n"
          ],
          "name": "stdout"
        }
      ]
    },
    {
      "cell_type": "code",
      "metadata": {
        "colab": {
          "base_uri": "https://localhost:8080/"
        },
        "id": "1EwGpZWBpoeC",
        "outputId": "841f9189-7caf-43c4-971d-ca124d423d79"
      },
      "source": [
        "%%writefile math_.py\n",
        "import math\n",
        "math_=math"
      ],
      "execution_count": 206,
      "outputs": [
        {
          "output_type": "stream",
          "text": [
            "Overwriting math_.py\n"
          ],
          "name": "stdout"
        }
      ]
    },
    {
      "cell_type": "code",
      "metadata": {
        "colab": {
          "base_uri": "https://localhost:8080/"
        },
        "id": "ynI30OLln0bz",
        "outputId": "babe0fe0-b693-49a8-92c0-b12651783281"
      },
      "source": [
        "import math_\n",
        "b=math_.math_.fsum.__doc__\n",
        "print(b)"
      ],
      "execution_count": 209,
      "outputs": [
        {
          "output_type": "stream",
          "text": [
            "fsum(iterable)\n",
            "\n",
            "Return an accurate floating point sum of values in the iterable.\n",
            "Assumes IEEE-754 floating point arithmetic.\n"
          ],
          "name": "stdout"
        }
      ]
    },
    {
      "cell_type": "code",
      "metadata": {
        "colab": {
          "base_uri": "https://localhost:8080/"
        },
        "id": "IfQt3O_iloca",
        "outputId": "bb7152ee-54b7-4fa7-d0fc-99fe730478a5"
      },
      "source": [
        "math_.math_.fsum([1,2,3,4,5])"
      ],
      "execution_count": 210,
      "outputs": [
        {
          "output_type": "execute_result",
          "data": {
            "text/plain": [
              "15.0"
            ]
          },
          "metadata": {
            "tags": []
          },
          "execution_count": 210
        }
      ]
    },
    {
      "cell_type": "code",
      "metadata": {
        "id": "0OeQEtR6uI_4"
      },
      "source": [
        ""
      ],
      "execution_count": null,
      "outputs": []
    },
    {
      "cell_type": "code",
      "metadata": {
        "id": "_3tw2fr6uJEQ"
      },
      "source": [
        ""
      ],
      "execution_count": null,
      "outputs": []
    },
    {
      "cell_type": "code",
      "metadata": {
        "id": "rEZ0yd2buJJK"
      },
      "source": [
        ""
      ],
      "execution_count": null,
      "outputs": []
    },
    {
      "cell_type": "code",
      "metadata": {
        "id": "DnR1Eb7MuJNb"
      },
      "source": [
        ""
      ],
      "execution_count": null,
      "outputs": []
    },
    {
      "cell_type": "code",
      "metadata": {
        "id": "4iOgAZLfuJQ-"
      },
      "source": [
        ""
      ],
      "execution_count": null,
      "outputs": []
    },
    {
      "cell_type": "code",
      "metadata": {
        "id": "8E_1ra2CuJUl"
      },
      "source": [
        ""
      ],
      "execution_count": null,
      "outputs": []
    },
    {
      "cell_type": "code",
      "metadata": {
        "id": "pXjQcMfHuJX8"
      },
      "source": [
        ""
      ],
      "execution_count": null,
      "outputs": []
    },
    {
      "cell_type": "code",
      "metadata": {
        "id": "316VeqZ1uJcO"
      },
      "source": [
        ""
      ],
      "execution_count": null,
      "outputs": []
    },
    {
      "cell_type": "code",
      "metadata": {
        "id": "mu7gU7qouJgH"
      },
      "source": [
        ""
      ],
      "execution_count": null,
      "outputs": []
    },
    {
      "cell_type": "code",
      "metadata": {
        "id": "GqFEjRlTuJjv"
      },
      "source": [
        ""
      ],
      "execution_count": null,
      "outputs": []
    },
    {
      "cell_type": "code",
      "metadata": {
        "id": "FELwKZZtuJqB"
      },
      "source": [
        ""
      ],
      "execution_count": null,
      "outputs": []
    },
    {
      "cell_type": "code",
      "metadata": {
        "id": "iBDKSsfUuJts"
      },
      "source": [
        ""
      ],
      "execution_count": null,
      "outputs": []
    }
  ]
}