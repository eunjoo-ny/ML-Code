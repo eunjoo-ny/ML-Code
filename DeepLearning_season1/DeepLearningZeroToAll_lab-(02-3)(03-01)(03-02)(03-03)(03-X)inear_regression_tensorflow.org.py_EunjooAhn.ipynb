{
 "cells": [
  {
   "cell_type": "code",
   "execution_count": 6,
   "metadata": {},
   "outputs": [],
   "source": [
    "import tensorflow as tf\n"
   ]
  },
  {
   "cell_type": "code",
   "execution_count": 7,
   "metadata": {},
   "outputs": [],
   "source": [
    "x_train= [1,2,3,4]\n",
    "y_train=[0,-1,-2,-3]"
   ]
  },
  {
   "cell_type": "code",
   "execution_count": 15,
   "metadata": {},
   "outputs": [],
   "source": [
    "W=tf.Variable([0.3],tf.float32)\n",
    "b=tf.Variable([-0.3], tf.float32)"
   ]
  },
  {
   "cell_type": "code",
   "execution_count": 11,
   "metadata": {},
   "outputs": [
    {
     "name": "stdout",
     "output_type": "stream",
     "text": [
      "WARNING:tensorflow:From /opt/anaconda3/lib/python3.8/site-packages/tensorflow/python/compat/v2_compat.py:96: disable_resource_variables (from tensorflow.python.ops.variable_scope) is deprecated and will be removed in a future version.\n",
      "Instructions for updating:\n",
      "non-resource variables are not supported in the long term\n"
     ]
    }
   ],
   "source": [
    "import tensorflow.compat.v1 as tf\n",
    "tf.disable_v2_behavior() "
   ]
  },
  {
   "cell_type": "code",
   "execution_count": 12,
   "metadata": {},
   "outputs": [],
   "source": [
    "x=tf.placeholder(tf.float32,shape=None)\n",
    "y=tf.placeholder(tf.float32,shape=None)"
   ]
  },
  {
   "cell_type": "code",
   "execution_count": 16,
   "metadata": {},
   "outputs": [],
   "source": [
    "hypothesis=x*W +b"
   ]
  },
  {
   "cell_type": "code",
   "execution_count": 17,
   "metadata": {},
   "outputs": [],
   "source": [
    "cost= tf.reduce_sum(tf.square(hypothesis - y))"
   ]
  },
  {
   "cell_type": "code",
   "execution_count": 25,
   "metadata": {},
   "outputs": [],
   "source": [
    "import tensorflow.compat.v1 as tf\n",
    "tf.disable_v2_behavior()"
   ]
  },
  {
   "cell_type": "code",
   "execution_count": 18,
   "metadata": {},
   "outputs": [
    {
     "data": {
      "text/plain": [
       "<tf.Operation 'GradientDescent' type=NoOp>"
      ]
     },
     "execution_count": 18,
     "metadata": {},
     "output_type": "execute_result"
    }
   ],
   "source": [
    "train=tf.train.GradientDescentOptimizer(learning_rate=0.01).minimize(cost)\n",
    "train"
   ]
  },
  {
   "cell_type": "code",
   "execution_count": 20,
   "metadata": {},
   "outputs": [
    {
     "name": "stdout",
     "output_type": "stream",
     "text": [
      "W:[-0.9999969], b:[0.9999908], cost:5.699973826267524e-11\n"
     ]
    }
   ],
   "source": [
    "#training\n",
    "with tf.Session() as sess:\n",
    "    sess.run(tf.global_variables_initializer())\n",
    "    \n",
    "    for step in range(1000):\n",
    "        sess.run(train,{x:x_train, y:y_train})\n",
    "        \n",
    "    #evaluate training accuracy\n",
    "    W_val, b_val, cost_val= sess.run([W,b,cost], feed_dict={x:x_train, y:y_train})\n",
    "    print(f\"W:{W_val}, b:{b_val}, cost:{cost_val}\")"
   ]
  },
  {
   "cell_type": "code",
   "execution_count": 26,
   "metadata": {},
   "outputs": [],
   "source": [
    "#Lab 3 Minimizing Cost\n",
    "import tensorflow as tf\n",
    "import matplotlib.pyplot as plt"
   ]
  },
  {
   "cell_type": "code",
   "execution_count": 27,
   "metadata": {},
   "outputs": [],
   "source": [
    "import tensorflow.compat.v1 as tf\n",
    "tf.disable_v2_behavior() "
   ]
  },
  {
   "cell_type": "code",
   "execution_count": 28,
   "metadata": {},
   "outputs": [
    {
     "data": {
      "image/png": "[encoded data removed]",
      "text/plain": [
       "<Figure size 432x288 with 1 Axes>"
      ]
     },
     "metadata": {
      "needs_background": "light"
     },
     "output_type": "display_data"
    }
   ],
   "source": [
    "X=[1,2,3]\n",
    "Y=[1,2,3]\n",
    "\n",
    "W=tf.placeholder(tf.float32)\n",
    "# hypothesis\n",
    "hypothesis=X*W\n",
    "\n",
    "#cost/loss\n",
    "cost=tf.reduce_mean(tf.square(hypothesis-Y))\n",
    "\n",
    "#Variables for plotting cost function\n",
    "W_history =[]\n",
    "cost_history = []\n",
    "\n",
    "#Launch the graph in a session.\n",
    "with tf.Session() as sess:\n",
    "    for i in range(-30,50):\n",
    "        curr_W= i*0.1\n",
    "        curr_cost = sess.run(cost, feed_dict={W:curr_W})\n",
    "        \n",
    "        W_history.append(curr_W)\n",
    "        cost_history.append(curr_cost)\n",
    "        \n",
    "#show the cost function\n",
    "plt.plot(W_history,cost_history)\n",
    "plt.show()"
   ]
  },
  {
   "cell_type": "code",
   "execution_count": 39,
   "metadata": {},
   "outputs": [],
   "source": [
    "#Lab 3 Minimizing Cost\n",
    "import tensorflow as tf"
   ]
  },
  {
   "cell_type": "code",
   "execution_count": 42,
   "metadata": {},
   "outputs": [],
   "source": [
    "tf.random.set_seed(777)#for reproducibility\n",
    "x_data = [1,2,3]\n",
    "y_data = [1,2,3]\n"
   ]
  },
  {
   "cell_type": "markdown",
   "metadata": {},
   "source": [
    "#Try to find values for W and b to compute y_data= W*x_data\n",
    "#We know that W should be 1"
   ]
  },
  {
   "cell_type": "code",
   "execution_count": 33,
   "metadata": {},
   "outputs": [],
   "source": [
    "import tensorflow.compat.v1 as tf\n",
    "tf.disable_v2_behavior() "
   ]
  },
  {
   "cell_type": "code",
   "execution_count": 44,
   "metadata": {},
   "outputs": [],
   "source": [
    "import tensorflow.compat.v1 as tf\n",
    "tf.disable_v2_behavior() "
   ]
  },
  {
   "cell_type": "code",
   "execution_count": 45,
   "metadata": {},
   "outputs": [],
   "source": [
    "W=tf.Variable(tf.random.normal([1]), name=\"weight\")\n",
    "X=tf.placeholder(tf.float32)\n",
    "Y=tf.placeholder(tf.float32)"
   ]
  },
  {
   "cell_type": "code",
   "execution_count": 46,
   "metadata": {},
   "outputs": [],
   "source": [
    "#hypothesis\n",
    "hypothesis= X*W\n",
    "#cost/loss\n",
    "cost= tf.reduce_mean(tf.square(hypothesis-Y))"
   ]
  },
  {
   "cell_type": "code",
   "execution_count": 47,
   "metadata": {},
   "outputs": [],
   "source": [
    "#Minimize: Gradient Descent using derivative: W -=learning rate*derivative\n",
    "\n",
    "learning_rate= 0.1\n",
    "gradient = tf.reduce_mean((W*X-Y)*X)\n",
    "descent = W - learning_rate *gradient\n",
    "update= W.assign(descent)"
   ]
  },
  {
   "cell_type": "code",
   "execution_count": 48,
   "metadata": {},
   "outputs": [
    {
     "name": "stdout",
     "output_type": "stream",
     "text": [
      "0 0.7999347 [0.77918804]\n",
      "1 0.22753704 [0.8822336]\n",
      "2 0.06472163 [0.93719125]\n",
      "3 0.018409716 [0.966502]\n",
      "4 0.005236534 [0.9821344]\n",
      "5 0.0014895027 [0.99047166]\n",
      "6 0.000423682 [0.9949182]\n",
      "7 0.00012051514 [0.9972897]\n",
      "8 3.4279296e-05 [0.9985545]\n",
      "9 9.750313e-06 [0.9992291]\n",
      "10 2.7733452e-06 [0.99958885]\n",
      "11 7.889824e-07 [0.9997807]\n",
      "12 2.243758e-07 [0.99988306]\n",
      "13 6.384909e-08 [0.99993765]\n",
      "14 1.8124851e-08 [0.99996674]\n",
      "15 5.154282e-09 [0.99998224]\n",
      "16 1.4765504e-09 [0.9999905]\n",
      "17 4.1801348e-10 [0.99999493]\n",
      "18 1.2039081e-10 [0.9999973]\n",
      "19 3.389407e-11 [0.99999857]\n",
      "20 9.549694e-12 [0.9999992]\n"
     ]
    }
   ],
   "source": [
    "#Launch the graph in a session.\n",
    "with tf.Session() as sess:\n",
    "    sess.run(tf.global_variables_initializer())\n",
    "    \n",
    "    for step in range(21):\n",
    "        _, cost_val, W_val = sess.run(\n",
    "        [update, cost, W], feed_dict={X:x_data, Y:y_data})\n",
    "        \n",
    "        print(step, cost_val, W_val)"
   ]
  },
  {
   "cell_type": "code",
   "execution_count": 49,
   "metadata": {},
   "outputs": [],
   "source": [
    "#Lab 3 Minimizing Cost\n",
    "import tensorflow as tf"
   ]
  },
  {
   "cell_type": "code",
   "execution_count": 50,
   "metadata": {},
   "outputs": [],
   "source": [
    "#tf Graph Input\n",
    "X=[1,2,3]\n",
    "Y=[1,2,3]\n",
    "#Set wrong model weights\n",
    "W=tf.Variable(5.0)\n",
    "#Linear model\n",
    "hypothesis= W*X\n",
    "#cost/loss function\n",
    "cost = tf.reduce_mean(tf.square(hypothesis-Y))"
   ]
  },
  {
   "cell_type": "code",
   "execution_count": 52,
   "metadata": {},
   "outputs": [],
   "source": [
    "import tensorflow.compat.v1 as tf\n",
    "tf.disable_v2_behavior() "
   ]
  },
  {
   "cell_type": "code",
   "execution_count": 53,
   "metadata": {},
   "outputs": [],
   "source": [
    "#Minimize:Gradient Descent Optimizer\n",
    "train= tf.train.GradientDescentOptimizer(learning_rate=0.1).minimize(cost)"
   ]
  },
  {
   "cell_type": "code",
   "execution_count": 67,
   "metadata": {},
   "outputs": [
    {
     "name": "stdout",
     "output_type": "stream",
     "text": [
      "0 5.0\n",
      "1 1.0177778\n",
      "2 1.0011852\n",
      "3 1.000079\n",
      "4 1.0000052\n",
      "5 1.0000004\n",
      "6 1.0\n",
      "7 1.0\n",
      "8 1.0\n",
      "9 1.0\n",
      "10 1.0\n",
      "11 1.0\n",
      "12 1.0\n",
      "13 1.0\n",
      "14 1.0\n",
      "15 1.0\n",
      "16 1.0\n",
      "17 1.0\n",
      "18 1.0\n",
      "19 1.0\n",
      "20 1.0\n",
      "21 1.0\n",
      "22 1.0\n",
      "23 1.0\n",
      "24 1.0\n",
      "25 1.0\n",
      "26 1.0\n",
      "27 1.0\n",
      "28 1.0\n",
      "29 1.0\n",
      "30 1.0\n",
      "31 1.0\n",
      "32 1.0\n",
      "33 1.0\n",
      "34 1.0\n",
      "35 1.0\n",
      "36 1.0\n",
      "37 1.0\n",
      "38 1.0\n",
      "39 1.0\n",
      "40 1.0\n",
      "41 1.0\n",
      "42 1.0\n",
      "43 1.0\n",
      "44 1.0\n",
      "45 1.0\n",
      "46 1.0\n",
      "47 1.0\n",
      "48 1.0\n",
      "49 1.0\n",
      "50 1.0\n",
      "51 1.0\n",
      "52 1.0\n",
      "53 1.0\n",
      "54 1.0\n",
      "55 1.0\n",
      "56 1.0\n",
      "57 1.0\n",
      "58 1.0\n",
      "59 1.0\n",
      "60 1.0\n",
      "61 1.0\n",
      "62 1.0\n",
      "63 1.0\n",
      "64 1.0\n",
      "65 1.0\n",
      "66 1.0\n",
      "67 1.0\n",
      "68 1.0\n",
      "69 1.0\n",
      "70 1.0\n",
      "71 1.0\n",
      "72 1.0\n",
      "73 1.0\n",
      "74 1.0\n",
      "75 1.0\n",
      "76 1.0\n",
      "77 1.0\n",
      "78 1.0\n",
      "79 1.0\n",
      "80 1.0\n",
      "81 1.0\n",
      "82 1.0\n",
      "83 1.0\n",
      "84 1.0\n",
      "85 1.0\n",
      "86 1.0\n",
      "87 1.0\n",
      "88 1.0\n",
      "89 1.0\n",
      "90 1.0\n",
      "91 1.0\n",
      "92 1.0\n",
      "93 1.0\n",
      "94 1.0\n",
      "95 1.0\n",
      "96 1.0\n",
      "97 1.0\n",
      "98 1.0\n",
      "99 1.0\n"
     ]
    }
   ],
   "source": [
    "#Lauch the graph in a session.\n",
    "with tf.Session() as sess:\n",
    "    sess.run(tf.global_variables_initializer())\n",
    "    \n",
    "    for step in range(100):\n",
    "        _, W_val = sess.run([train, W])\n",
    "        print(step, W_val)"
   ]
  },
  {
   "cell_type": "code",
   "execution_count": 72,
   "metadata": {},
   "outputs": [],
   "source": [
    "#Lab 3 Minimizing Cost\n",
    "X_data=[1,2,3]\n",
    "Y_data=[1,2,3]\n",
    "W=tf.Variable(5.)\n",
    "hypothesis= W *X\n"
   ]
  },
  {
   "cell_type": "code",
   "execution_count": 73,
   "metadata": {},
   "outputs": [],
   "source": [
    "#manual gradient (wx-y)^2 derivative in terms of w\n",
    "gradient= tf.reduce_mean((W*X-Y)*X)*2"
   ]
  },
  {
   "cell_type": "code",
   "execution_count": 74,
   "metadata": {},
   "outputs": [],
   "source": [
    "cost= tf.reduce_mean(tf.square(hypothesis-Y))"
   ]
  },
  {
   "cell_type": "code",
   "execution_count": 75,
   "metadata": {},
   "outputs": [],
   "source": [
    "#Minimizer:Gradient Descent Optimizer\n",
    "optimizer= tf.train.GradientDescentOptimizer(learning_rate=0.01)\n",
    "#Get gradient\n",
    "gvs= optimizer.compute_gradients(cost)\n",
    "#apply the gradients\n",
    "apply_gradients = optimizer.apply_gradients(gvs)"
   ]
  },
  {
   "cell_type": "code",
   "execution_count": 76,
   "metadata": {},
   "outputs": [],
   "source": [
    "import tensorflow.compat.v1 as tf\n",
    "tf.disable_v2_behavior() "
   ]
  },
  {
   "cell_type": "code",
   "execution_count": 86,
   "metadata": {},
   "outputs": [
    {
     "name": "stdout",
     "output_type": "stream",
     "text": [
      "0 [37.333332, 5.0]\n",
      "1 [33.84889, 4.6266665]\n",
      "2 [30.689657, 4.2881775]\n",
      "3 [27.825287, 3.9812808]\n",
      "4 [25.228262, 3.703028]\n",
      "5 [22.873621, 3.4507453]\n",
      "6 [20.738752, 3.2220092]\n",
      "7 [18.803137, 3.0146217]\n",
      "8 [17.048176, 2.8265903]\n",
      "9 [15.457013, 2.6561086]\n",
      "10 [14.014359, 2.5015385]\n",
      "11 [12.706352, 2.361395]\n",
      "12 [11.520427, 2.2343314]\n",
      "13 [10.445186, 2.119127]\n",
      "14 [9.470302, 2.0146751]\n",
      "15 [8.586407, 1.9199722]\n",
      "16 [7.785009, 1.8341081]\n",
      "17 [7.0584083, 1.756258]\n",
      "18 [6.399624, 1.685674]\n",
      "19 [5.8023257, 1.6216778]\n",
      "20 [5.260776, 1.5636545]\n",
      "21 [4.7697697, 1.5110468]\n",
      "22 [4.324591, 1.4633491]\n",
      "23 [3.9209633, 1.4201032]\n",
      "24 [3.5550067, 1.3808936]\n",
      "25 [3.2232056, 1.3453435]\n",
      "26 [2.9223735, 1.3131114]\n",
      "27 [2.6496189, 1.2838877]\n",
      "28 [2.4023216, 1.2573916]\n",
      "29 [2.178105, 1.2333684]\n",
      "30 [1.9748148, 1.2115873]\n",
      "31 [1.7904993, 1.1918392]\n",
      "32 [1.623386, 1.1739342]\n",
      "33 [1.4718695, 1.1577003]\n",
      "34 [1.3344955, 1.1429816]\n",
      "35 [1.2099417, 1.1296366]\n",
      "36 [1.0970144, 1.1175373]\n",
      "37 [0.9946267, 1.1065671]\n",
      "38 [0.90179497, 1.0966209]\n",
      "39 [0.8176275, 1.087603]\n",
      "40 [0.7413151, 1.0794266]\n",
      "41 [0.67212623, 1.0720135]\n",
      "42 [0.609394, 1.0652922]\n",
      "43 [0.5525169, 1.0591983]\n",
      "44 [0.50094914, 1.0536731]\n",
      "45 [0.45419374, 1.0486636]\n",
      "46 [0.41180158, 1.0441216]\n",
      "47 [0.37336722, 1.0400037]\n",
      "48 [0.33851996, 1.03627]\n",
      "49 [0.30692515, 1.0328848]\n",
      "50 [0.27827826, 1.0298156]\n",
      "51 [0.25230527, 1.0270327]\n",
      "52 [0.2287569, 1.0245097]\n",
      "53 [0.20740573, 1.022222]\n",
      "54 [0.18804836, 1.020148]\n",
      "55 [0.17049654, 1.0182675]\n",
      "56 [0.15458433, 1.0165626]\n",
      "57 [0.14015675, 1.0150168]\n",
      "58 [0.12707591, 1.0136153]\n",
      "59 [0.11521538, 1.0123445]\n",
      "60 [0.10446167, 1.0111923]\n",
      "61 [0.09471202, 1.0101477]\n",
      "62 [0.08587202, 1.0092006]\n",
      "63 [0.07785805, 1.0083419]\n",
      "64 [0.07059129, 1.0075634]\n",
      "65 [0.06400236, 1.0068574]\n",
      "66 [0.05802846, 1.0062174]\n",
      "67 [0.052612226, 1.005637]\n",
      "68 [0.047702473, 1.005111]\n",
      "69 [0.043249767, 1.0046339]\n",
      "70 [0.03921318, 1.0042014]\n",
      "71 [0.035553534, 1.0038093]\n",
      "72 [0.032236177, 1.0034539]\n",
      "73 [0.029227654, 1.0031315]\n",
      "74 [0.02649951, 1.0028392]\n",
      "75 [0.024025917, 1.0025742]\n",
      "76 [0.021783749, 1.002334]\n",
      "77 [0.01975123, 1.0021162]\n",
      "78 [0.017907381, 1.0019187]\n",
      "79 [0.016236702, 1.0017396]\n",
      "80 [0.014720838, 1.0015773]\n",
      "81 [0.01334699, 1.00143]\n",
      "82 [0.012100856, 1.0012965]\n",
      "83 [0.010971785, 1.0011755]\n",
      "84 [0.0099481745, 1.0010659]\n",
      "85 [0.009018898, 1.0009663]\n",
      "86 [0.008176883, 1.0008761]\n",
      "87 [0.007413149, 1.0007943]\n",
      "88 [0.006721576, 1.0007201]\n",
      "89 [0.0060940585, 1.0006529]\n",
      "90 [0.005525271, 1.000592]\n",
      "91 [0.0050098896, 1.0005368]\n",
      "92 [0.004542589, 1.0004867]\n",
      "93 [0.0041189194, 1.0004413]\n",
      "94 [0.0037339528, 1.0004001]\n",
      "95 [0.0033854644, 1.0003628]\n",
      "96 [0.0030694802, 1.0003289]\n",
      "97 [0.0027837753, 1.0002983]\n",
      "98 [0.0025234222, 1.0002704]\n",
      "99 [0.0022875469, 1.0002451]\n"
     ]
    }
   ],
   "source": [
    "sess= tf.Session()\n",
    "sess.run(tf.global_variables_initializer())\n",
    "for step in range(100):\n",
    "    print(step,sess.run([gradient, W]))\n",
    "    sess.run(apply_gradients)"
   ]
  },
  {
   "cell_type": "code",
   "execution_count": 90,
   "metadata": {},
   "outputs": [
    {
     "name": "stdout",
     "output_type": "stream",
     "text": [
      "0 37.333332\n",
      "1 33.84889\n",
      "2 30.689657\n",
      "3 27.825287\n",
      "4 25.228262\n",
      "5 22.873621\n",
      "6 20.738752\n",
      "7 18.803137\n",
      "8 17.048176\n",
      "9 15.457013\n",
      "10 14.014359\n",
      "11 12.706352\n",
      "12 11.520427\n",
      "13 10.445186\n",
      "14 9.470302\n",
      "15 8.586407\n",
      "16 7.785009\n",
      "17 7.0584083\n",
      "18 6.399624\n",
      "19 5.8023257\n",
      "20 5.260776\n",
      "21 4.7697697\n",
      "22 4.324591\n",
      "23 3.9209633\n",
      "24 3.5550067\n",
      "25 3.2232056\n",
      "26 2.9223735\n",
      "27 2.6496189\n",
      "28 2.4023216\n",
      "29 2.178105\n",
      "30 1.9748148\n",
      "31 1.7904993\n",
      "32 1.623386\n",
      "33 1.4718695\n",
      "34 1.3344955\n",
      "35 1.2099417\n",
      "36 1.0970144\n",
      "37 0.9946267\n",
      "38 0.90179497\n",
      "39 0.8176275\n",
      "40 0.7413151\n",
      "41 0.67212623\n",
      "42 0.609394\n",
      "43 0.5525169\n",
      "44 0.50094914\n",
      "45 0.45419374\n",
      "46 0.41180158\n",
      "47 0.37336722\n",
      "48 0.33851996\n",
      "49 0.30692515\n",
      "50 0.27827826\n",
      "51 0.25230527\n",
      "52 0.2287569\n",
      "53 0.20740573\n",
      "54 0.18804836\n",
      "55 0.17049654\n",
      "56 0.15458433\n",
      "57 0.14015675\n",
      "58 0.12707591\n",
      "59 0.11521538\n",
      "60 0.10446167\n",
      "61 0.09471202\n",
      "62 0.08587202\n",
      "63 0.07785805\n",
      "64 0.07059129\n",
      "65 0.06400236\n",
      "66 0.05802846\n",
      "67 0.052612226\n",
      "68 0.047702473\n",
      "69 0.043249767\n",
      "70 0.03921318\n",
      "71 0.035553534\n",
      "72 0.032236177\n",
      "73 0.029227654\n",
      "74 0.02649951\n",
      "75 0.024025917\n",
      "76 0.021783749\n",
      "77 0.01975123\n",
      "78 0.017907381\n",
      "79 0.016236702\n",
      "80 0.014720838\n",
      "81 0.01334699\n",
      "82 0.012100856\n",
      "83 0.010971785\n",
      "84 0.0099481745\n",
      "85 0.009018898\n",
      "86 0.008176883\n",
      "87 0.007413149\n",
      "88 0.006721576\n",
      "89 0.0060940585\n",
      "90 0.005525271\n",
      "91 0.0050098896\n",
      "92 0.004542589\n",
      "93 0.0041189194\n",
      "94 0.0037339528\n",
      "95 0.0033854644\n",
      "96 0.0030694802\n",
      "97 0.0027837753\n",
      "98 0.0025234222\n",
      "99 0.0022875469\n"
     ]
    }
   ],
   "source": [
    "with tf.Session() as sess:\n",
    "    sess.run(tf.global_variables_initializer())\n",
    "    \n",
    "    for step in range(100):\n",
    "        gradient_val, _=sess.run([gradient, apply_gradients])\n",
    "        print(step, gradient_val)"
   ]
  },
  {
   "cell_type": "code",
   "execution_count": null,
   "metadata": {},
   "outputs": [],
   "source": []
  },
  {
   "cell_type": "code",
   "execution_count": null,
   "metadata": {},
   "outputs": [],
   "source": []
  },
  {
   "cell_type": "code",
   "execution_count": null,
   "metadata": {},
   "outputs": [],
   "source": []
  },
  {
   "cell_type": "code",
   "execution_count": null,
   "metadata": {},
   "outputs": [],
   "source": []
  },
  {
   "cell_type": "code",
   "execution_count": null,
   "metadata": {},
   "outputs": [],
   "source": []
  },
  {
   "cell_type": "code",
   "execution_count": null,
   "metadata": {},
   "outputs": [],
   "source": []
  },
  {
   "cell_type": "code",
   "execution_count": null,
   "metadata": {},
   "outputs": [],
   "source": []
  },
  {
   "cell_type": "code",
   "execution_count": null,
   "metadata": {},
   "outputs": [],
   "source": []
  },
  {
   "cell_type": "code",
   "execution_count": null,
   "metadata": {},
   "outputs": [],
   "source": []
  }
 ],
 "metadata": {
  "kernelspec": {
   "display_name": "Python 3",
   "language": "python",
   "name": "python3"
  },
  "language_info": {
   "codemirror_mode": {
    "name": "ipython",
    "version": 3
   },
   "file_extension": ".py",
   "mimetype": "text/x-python",
   "name": "python",
   "nbconvert_exporter": "python",
   "pygments_lexer": "ipython3",
   "version": "3.8.3"
  }
 },
 "nbformat": 4,
 "nbformat_minor": 4
}
