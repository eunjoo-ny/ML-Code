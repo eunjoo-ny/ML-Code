{
  "nbformat": 4,
  "nbformat_minor": 0,
  "metadata": {
    "colab": {
      "name": "PyTorch_lab_04_2_load_data",
      "provenance": [],
      "authorship_tag": "ABX9TyMhvEW6ZDXS0xSK+g5U7Vrb",
      "include_colab_link": true
    },
    "kernelspec": {
      "name": "python3",
      "display_name": "Python 3"
    }
  },
  "cells": [
    {
      "cell_type": "markdown",
      "metadata": {
        "id": "view-in-github",
        "colab_type": "text"
      },
      "source": [
        "<a href=\"https://colab.research.google.com/github/eunjoo-ny/ML-Code/blob/main/PyTorch_lab_04_2_load_data.ipynb\" target=\"_parent\"><img src=\"https://colab.research.google.com/assets/colab-badge.svg\" alt=\"Open In Colab\"/></a>"
      ]
    },
    {
      "cell_type": "code",
      "metadata": {
        "id": "qcJYjiDrAeyT"
      },
      "source": [
        "nums=[0,1,2,3,4]"
      ],
      "execution_count": null,
      "outputs": []
    },
    {
      "cell_type": "code",
      "metadata": {
        "colab": {
          "base_uri": "https://localhost:8080/"
        },
        "id": "mlzwnsjZA0Yk",
        "outputId": "b2f0667e-5f0b-44b2-b31c-7ba134a93da7"
      },
      "source": [
        "print(nums)"
      ],
      "execution_count": null,
      "outputs": [
        {
          "output_type": "stream",
          "text": [
            "[0, 1, 2, 3, 4]\n"
          ],
          "name": "stdout"
        }
      ]
    },
    {
      "cell_type": "code",
      "metadata": {
        "colab": {
          "base_uri": "https://localhost:8080/"
        },
        "id": "3drymjrHA0bv",
        "outputId": "207bda98-018c-494a-bfd6-c7eb7605a104"
      },
      "source": [
        "print(nums[2:4])"
      ],
      "execution_count": null,
      "outputs": [
        {
          "output_type": "stream",
          "text": [
            "[2, 3]\n"
          ],
          "name": "stdout"
        }
      ]
    },
    {
      "cell_type": "code",
      "metadata": {
        "colab": {
          "base_uri": "https://localhost:8080/"
        },
        "id": "LixrC-0MA0el",
        "outputId": "2af9a508-75a0-4d29-c49f-ad59596f458c"
      },
      "source": [
        "#to get from index2 \n",
        "print(nums[2:])"
      ],
      "execution_count": null,
      "outputs": [
        {
          "output_type": "stream",
          "text": [
            "[2, 3, 4]\n"
          ],
          "name": "stdout"
        }
      ]
    },
    {
      "cell_type": "code",
      "metadata": {
        "colab": {
          "base_uri": "https://localhost:8080/"
        },
        "id": "GR7KyzWmA0hM",
        "outputId": "fb23ad3a-ce1b-4e7d-f785-a36ba87da221"
      },
      "source": [
        "# to get before2\n",
        "print(nums[:2])"
      ],
      "execution_count": null,
      "outputs": [
        {
          "output_type": "stream",
          "text": [
            "[0, 1]\n"
          ],
          "name": "stdout"
        }
      ]
    },
    {
      "cell_type": "code",
      "metadata": {
        "colab": {
          "base_uri": "https://localhost:8080/"
        },
        "id": "oPhamkh2A0kD",
        "outputId": "cfe96297-70b2-4bbe-a44d-4a98bef72211"
      },
      "source": [
        "#to get all\n",
        "print(nums[:])"
      ],
      "execution_count": null,
      "outputs": [
        {
          "output_type": "stream",
          "text": [
            "[0, 1, 2, 3, 4]\n"
          ],
          "name": "stdout"
        }
      ]
    },
    {
      "cell_type": "code",
      "metadata": {
        "colab": {
          "base_uri": "https://localhost:8080/"
        },
        "id": "tMfAw0zJA0n1",
        "outputId": "9c0495e9-bd1d-4b5a-d41e-a3d9fe38bd88"
      },
      "source": [
        "#to get by before last index\n",
        "print(nums[:-1])"
      ],
      "execution_count": null,
      "outputs": [
        {
          "output_type": "stream",
          "text": [
            "[0, 1, 2, 3]\n"
          ],
          "name": "stdout"
        }
      ]
    },
    {
      "cell_type": "code",
      "metadata": {
        "colab": {
          "base_uri": "https://localhost:8080/"
        },
        "id": "LjPHJ6hWA0qq",
        "outputId": "a30ceeb1-925a-4af2-a38c-a2f6062f804b"
      },
      "source": [
        "nums[2:4]=[8,9]\n",
        "print(nums)"
      ],
      "execution_count": null,
      "outputs": [
        {
          "output_type": "stream",
          "text": [
            "[0, 1, 8, 9, 4]\n"
          ],
          "name": "stdout"
        }
      ]
    },
    {
      "cell_type": "code",
      "metadata": {
        "id": "1w8ch6icCMWL"
      },
      "source": [
        "#Slicing 2D array\n",
        "import numpy as np\n"
      ],
      "execution_count": null,
      "outputs": []
    },
    {
      "cell_type": "code",
      "metadata": {
        "id": "zE-YR_BYCMYw"
      },
      "source": [
        "b= np.array([[1,2,3,4],[5,6,7,8],[9,10,11,12],[13,14,15,16]])"
      ],
      "execution_count": null,
      "outputs": []
    },
    {
      "cell_type": "code",
      "metadata": {
        "colab": {
          "base_uri": "https://localhost:8080/"
        },
        "id": "pl6J780wCMcT",
        "outputId": "220e9fd2-9e64-4dbc-8af4-1720d17badd0"
      },
      "source": [
        "print(b)"
      ],
      "execution_count": null,
      "outputs": [
        {
          "output_type": "stream",
          "text": [
            "[[ 1  2  3  4]\n",
            " [ 5  6  7  8]\n",
            " [ 9 10 11 12]\n",
            " [13 14 15 16]]\n"
          ],
          "name": "stdout"
        }
      ]
    },
    {
      "cell_type": "code",
      "metadata": {
        "colab": {
          "base_uri": "https://localhost:8080/"
        },
        "id": "cnL2YRoWCMfA",
        "outputId": "6299fdfa-0dc9-4022-e554-636e4316b75d"
      },
      "source": [
        "#get the second column\n",
        "print(b[:,1])"
      ],
      "execution_count": null,
      "outputs": [
        {
          "output_type": "stream",
          "text": [
            "[ 2  6 10 14]\n"
          ],
          "name": "stdout"
        }
      ]
    },
    {
      "cell_type": "code",
      "metadata": {
        "colab": {
          "base_uri": "https://localhost:8080/"
        },
        "id": "4nqiWltdCMho",
        "outputId": "7b40f0ec-57cb-4e90-82ed-ad669b767825"
      },
      "source": [
        "#get the last row\n",
        "print(b[-1])"
      ],
      "execution_count": null,
      "outputs": [
        {
          "output_type": "stream",
          "text": [
            "[13 14 15 16]\n"
          ],
          "name": "stdout"
        }
      ]
    },
    {
      "cell_type": "code",
      "metadata": {
        "colab": {
          "base_uri": "https://localhost:8080/"
        },
        "id": "2hIBluf-A0ti",
        "outputId": "a943335f-da34-462b-8adc-8de87f12c70f"
      },
      "source": [
        "print(b[-1,:])"
      ],
      "execution_count": null,
      "outputs": [
        {
          "output_type": "stream",
          "text": [
            "[13 14 15 16]\n"
          ],
          "name": "stdout"
        }
      ]
    },
    {
      "cell_type": "code",
      "metadata": {
        "colab": {
          "base_uri": "https://localhost:8080/"
        },
        "id": "YC-2fhLaA0wP",
        "outputId": "1f83c0a4-56df-4771-dc20-8b8f32501575"
      },
      "source": [
        "print(b[-1,...])"
      ],
      "execution_count": null,
      "outputs": [
        {
          "output_type": "stream",
          "text": [
            "[13 14 15 16]\n"
          ],
          "name": "stdout"
        }
      ]
    },
    {
      "cell_type": "code",
      "metadata": {
        "colab": {
          "base_uri": "https://localhost:8080/"
        },
        "id": "QMmBV5e3A0zO",
        "outputId": "4ca19af9-befa-404e-b8ce-18eebc0bafef"
      },
      "source": [
        "#get the first and second row\n",
        "print(b[0:2,:])"
      ],
      "execution_count": null,
      "outputs": [
        {
          "output_type": "stream",
          "text": [
            "[[1 2 3 4]\n",
            " [5 6 7 8]]\n"
          ],
          "name": "stdout"
        }
      ]
    },
    {
      "cell_type": "code",
      "metadata": {
        "id": "DKlstI6-XVQB"
      },
      "source": [
        "#xy = np.loadtxt('data-01_2-test-score.csv', delimiter=',', dtype=np.float32)\n"
      ],
      "execution_count": null,
      "outputs": []
    },
    {
      "cell_type": "code",
      "metadata": {
        "colab": {
          "base_uri": "https://localhost:8080/",
          "height": 80
        },
        "id": "GFwttoNlGNDg",
        "outputId": "b6fc18ac-4683-4864-b83f-a907be3a31d0"
      },
      "source": [
        "new_data={'73':[73],\n",
        "          '80':[80],\n",
        "          '75':[75],\n",
        "          '152':[152]}\n",
        "new_data1=pd.DataFrame(new_data)\n",
        "new_data1"
      ],
      "execution_count": null,
      "outputs": [
        {
          "output_type": "execute_result",
          "data": {
            "text/html": [
              "<div>\n",
              "<style scoped>\n",
              "    .dataframe tbody tr th:only-of-type {\n",
              "        vertical-align: middle;\n",
              "    }\n",
              "\n",
              "    .dataframe tbody tr th {\n",
              "        vertical-align: top;\n",
              "    }\n",
              "\n",
              "    .dataframe thead th {\n",
              "        text-align: right;\n",
              "    }\n",
              "</style>\n",
              "<table border=\"1\" class=\"dataframe\">\n",
              "  <thead>\n",
              "    <tr style=\"text-align: right;\">\n",
              "      <th></th>\n",
              "      <th>73</th>\n",
              "      <th>80</th>\n",
              "      <th>75</th>\n",
              "      <th>152</th>\n",
              "    </tr>\n",
              "  </thead>\n",
              "  <tbody>\n",
              "    <tr>\n",
              "      <th>0</th>\n",
              "      <td>73</td>\n",
              "      <td>80</td>\n",
              "      <td>75</td>\n",
              "      <td>152</td>\n",
              "    </tr>\n",
              "  </tbody>\n",
              "</table>\n",
              "</div>"
            ],
            "text/plain": [
              "   73  80  75  152\n",
              "0  73  80  75  152"
            ]
          },
          "metadata": {
            "tags": []
          },
          "execution_count": 76
        }
      ]
    },
    {
      "cell_type": "code",
      "metadata": {
        "colab": {
          "base_uri": "https://localhost:8080/"
        },
        "id": "YHI7EiWdnouF",
        "outputId": "47d10977-a9dd-46ae-c3b8-90477cf8c343"
      },
      "source": [
        "import pandas as pd\n",
        "data1=pd.read_csv('data-01_2-test-score.csv', error_bad_lines=False)  \n",
        "\n",
        "data=pd.DataFrame(data1)\n",
        "\n",
        "#data1.loc[0]=[73,80,75,152]\n",
        "data1,data"
      ],
      "execution_count": null,
      "outputs": [
        {
          "output_type": "execute_result",
          "data": {
            "text/plain": [
              "(    73  80   75  152\n",
              " 0   93  88   93  185\n",
              " 1   89  91   90  180\n",
              " 2   96  98  100  196\n",
              " 3   73  66   70  142\n",
              " 4   53  46   55  101\n",
              " 5   69  74   77  149\n",
              " 6   47  56   60  115\n",
              " 7   87  79   90  175\n",
              " 8   79  70   88  164\n",
              " 9   69  70   73  141\n",
              " 10  70  65   74  141\n",
              " 11  93  95   91  184\n",
              " 12  79  80   73  152\n",
              " 13  70  73   78  148\n",
              " 14  93  89   96  192\n",
              " 15  78  75   68  147\n",
              " 16  81  90   93  183\n",
              " 17  88  92   86  177\n",
              " 18  78  83   77  159\n",
              " 19  82  86   90  177\n",
              " 20  86  82   89  175\n",
              " 21  78  83   85  175\n",
              " 22  76  83   71  149\n",
              " 23  96  93   95  192,     73  80   75  152\n",
              " 0   93  88   93  185\n",
              " 1   89  91   90  180\n",
              " 2   96  98  100  196\n",
              " 3   73  66   70  142\n",
              " 4   53  46   55  101\n",
              " 5   69  74   77  149\n",
              " 6   47  56   60  115\n",
              " 7   87  79   90  175\n",
              " 8   79  70   88  164\n",
              " 9   69  70   73  141\n",
              " 10  70  65   74  141\n",
              " 11  93  95   91  184\n",
              " 12  79  80   73  152\n",
              " 13  70  73   78  148\n",
              " 14  93  89   96  192\n",
              " 15  78  75   68  147\n",
              " 16  81  90   93  183\n",
              " 17  88  92   86  177\n",
              " 18  78  83   77  159\n",
              " 19  82  86   90  177\n",
              " 20  86  82   89  175\n",
              " 21  78  83   85  175\n",
              " 22  76  83   71  149\n",
              " 23  96  93   95  192)"
            ]
          },
          "metadata": {
            "tags": []
          },
          "execution_count": 80
        }
      ]
    },
    {
      "cell_type": "code",
      "metadata": {
        "colab": {
          "base_uri": "https://localhost:8080/",
          "height": 824
        },
        "id": "nfeu37L9nB8l",
        "outputId": "bc505c86-70d1-4f25-b3ea-a1e2a881835b"
      },
      "source": [
        "new_df=pd.concat([new_data1,data])\n",
        "new_df"
      ],
      "execution_count": null,
      "outputs": [
        {
          "output_type": "execute_result",
          "data": {
            "text/html": [
              "<div>\n",
              "<style scoped>\n",
              "    .dataframe tbody tr th:only-of-type {\n",
              "        vertical-align: middle;\n",
              "    }\n",
              "\n",
              "    .dataframe tbody tr th {\n",
              "        vertical-align: top;\n",
              "    }\n",
              "\n",
              "    .dataframe thead th {\n",
              "        text-align: right;\n",
              "    }\n",
              "</style>\n",
              "<table border=\"1\" class=\"dataframe\">\n",
              "  <thead>\n",
              "    <tr style=\"text-align: right;\">\n",
              "      <th></th>\n",
              "      <th>73</th>\n",
              "      <th>80</th>\n",
              "      <th>75</th>\n",
              "      <th>152</th>\n",
              "    </tr>\n",
              "  </thead>\n",
              "  <tbody>\n",
              "    <tr>\n",
              "      <th>0</th>\n",
              "      <td>73</td>\n",
              "      <td>80</td>\n",
              "      <td>75</td>\n",
              "      <td>152</td>\n",
              "    </tr>\n",
              "    <tr>\n",
              "      <th>0</th>\n",
              "      <td>93</td>\n",
              "      <td>88</td>\n",
              "      <td>93</td>\n",
              "      <td>185</td>\n",
              "    </tr>\n",
              "    <tr>\n",
              "      <th>1</th>\n",
              "      <td>89</td>\n",
              "      <td>91</td>\n",
              "      <td>90</td>\n",
              "      <td>180</td>\n",
              "    </tr>\n",
              "    <tr>\n",
              "      <th>2</th>\n",
              "      <td>96</td>\n",
              "      <td>98</td>\n",
              "      <td>100</td>\n",
              "      <td>196</td>\n",
              "    </tr>\n",
              "    <tr>\n",
              "      <th>3</th>\n",
              "      <td>73</td>\n",
              "      <td>66</td>\n",
              "      <td>70</td>\n",
              "      <td>142</td>\n",
              "    </tr>\n",
              "    <tr>\n",
              "      <th>4</th>\n",
              "      <td>53</td>\n",
              "      <td>46</td>\n",
              "      <td>55</td>\n",
              "      <td>101</td>\n",
              "    </tr>\n",
              "    <tr>\n",
              "      <th>5</th>\n",
              "      <td>69</td>\n",
              "      <td>74</td>\n",
              "      <td>77</td>\n",
              "      <td>149</td>\n",
              "    </tr>\n",
              "    <tr>\n",
              "      <th>6</th>\n",
              "      <td>47</td>\n",
              "      <td>56</td>\n",
              "      <td>60</td>\n",
              "      <td>115</td>\n",
              "    </tr>\n",
              "    <tr>\n",
              "      <th>7</th>\n",
              "      <td>87</td>\n",
              "      <td>79</td>\n",
              "      <td>90</td>\n",
              "      <td>175</td>\n",
              "    </tr>\n",
              "    <tr>\n",
              "      <th>8</th>\n",
              "      <td>79</td>\n",
              "      <td>70</td>\n",
              "      <td>88</td>\n",
              "      <td>164</td>\n",
              "    </tr>\n",
              "    <tr>\n",
              "      <th>9</th>\n",
              "      <td>69</td>\n",
              "      <td>70</td>\n",
              "      <td>73</td>\n",
              "      <td>141</td>\n",
              "    </tr>\n",
              "    <tr>\n",
              "      <th>10</th>\n",
              "      <td>70</td>\n",
              "      <td>65</td>\n",
              "      <td>74</td>\n",
              "      <td>141</td>\n",
              "    </tr>\n",
              "    <tr>\n",
              "      <th>11</th>\n",
              "      <td>93</td>\n",
              "      <td>95</td>\n",
              "      <td>91</td>\n",
              "      <td>184</td>\n",
              "    </tr>\n",
              "    <tr>\n",
              "      <th>12</th>\n",
              "      <td>79</td>\n",
              "      <td>80</td>\n",
              "      <td>73</td>\n",
              "      <td>152</td>\n",
              "    </tr>\n",
              "    <tr>\n",
              "      <th>13</th>\n",
              "      <td>70</td>\n",
              "      <td>73</td>\n",
              "      <td>78</td>\n",
              "      <td>148</td>\n",
              "    </tr>\n",
              "    <tr>\n",
              "      <th>14</th>\n",
              "      <td>93</td>\n",
              "      <td>89</td>\n",
              "      <td>96</td>\n",
              "      <td>192</td>\n",
              "    </tr>\n",
              "    <tr>\n",
              "      <th>15</th>\n",
              "      <td>78</td>\n",
              "      <td>75</td>\n",
              "      <td>68</td>\n",
              "      <td>147</td>\n",
              "    </tr>\n",
              "    <tr>\n",
              "      <th>16</th>\n",
              "      <td>81</td>\n",
              "      <td>90</td>\n",
              "      <td>93</td>\n",
              "      <td>183</td>\n",
              "    </tr>\n",
              "    <tr>\n",
              "      <th>17</th>\n",
              "      <td>88</td>\n",
              "      <td>92</td>\n",
              "      <td>86</td>\n",
              "      <td>177</td>\n",
              "    </tr>\n",
              "    <tr>\n",
              "      <th>18</th>\n",
              "      <td>78</td>\n",
              "      <td>83</td>\n",
              "      <td>77</td>\n",
              "      <td>159</td>\n",
              "    </tr>\n",
              "    <tr>\n",
              "      <th>19</th>\n",
              "      <td>82</td>\n",
              "      <td>86</td>\n",
              "      <td>90</td>\n",
              "      <td>177</td>\n",
              "    </tr>\n",
              "    <tr>\n",
              "      <th>20</th>\n",
              "      <td>86</td>\n",
              "      <td>82</td>\n",
              "      <td>89</td>\n",
              "      <td>175</td>\n",
              "    </tr>\n",
              "    <tr>\n",
              "      <th>21</th>\n",
              "      <td>78</td>\n",
              "      <td>83</td>\n",
              "      <td>85</td>\n",
              "      <td>175</td>\n",
              "    </tr>\n",
              "    <tr>\n",
              "      <th>22</th>\n",
              "      <td>76</td>\n",
              "      <td>83</td>\n",
              "      <td>71</td>\n",
              "      <td>149</td>\n",
              "    </tr>\n",
              "    <tr>\n",
              "      <th>23</th>\n",
              "      <td>96</td>\n",
              "      <td>93</td>\n",
              "      <td>95</td>\n",
              "      <td>192</td>\n",
              "    </tr>\n",
              "  </tbody>\n",
              "</table>\n",
              "</div>"
            ],
            "text/plain": [
              "    73  80   75  152\n",
              "0   73  80   75  152\n",
              "0   93  88   93  185\n",
              "1   89  91   90  180\n",
              "2   96  98  100  196\n",
              "3   73  66   70  142\n",
              "4   53  46   55  101\n",
              "5   69  74   77  149\n",
              "6   47  56   60  115\n",
              "7   87  79   90  175\n",
              "8   79  70   88  164\n",
              "9   69  70   73  141\n",
              "10  70  65   74  141\n",
              "11  93  95   91  184\n",
              "12  79  80   73  152\n",
              "13  70  73   78  148\n",
              "14  93  89   96  192\n",
              "15  78  75   68  147\n",
              "16  81  90   93  183\n",
              "17  88  92   86  177\n",
              "18  78  83   77  159\n",
              "19  82  86   90  177\n",
              "20  86  82   89  175\n",
              "21  78  83   85  175\n",
              "22  76  83   71  149\n",
              "23  96  93   95  192"
            ]
          },
          "metadata": {
            "tags": []
          },
          "execution_count": 81
        }
      ]
    },
    {
      "cell_type": "code",
      "metadata": {
        "colab": {
          "base_uri": "https://localhost:8080/"
        },
        "id": "8sAv7mtkfc_3",
        "outputId": "88d9608c-7327-4c44-e1fc-c1d4f95bb8a5"
      },
      "source": [
        "df=np.array(new_df)\n",
        "df\n",
        "df_ten=torch.FloatTensor(df)\n",
        "df_ten"
      ],
      "execution_count": null,
      "outputs": [
        {
          "output_type": "execute_result",
          "data": {
            "text/plain": [
              "tensor([[ 73.,  80.,  75., 152.],\n",
              "        [ 93.,  88.,  93., 185.],\n",
              "        [ 89.,  91.,  90., 180.],\n",
              "        [ 96.,  98., 100., 196.],\n",
              "        [ 73.,  66.,  70., 142.],\n",
              "        [ 53.,  46.,  55., 101.],\n",
              "        [ 69.,  74.,  77., 149.],\n",
              "        [ 47.,  56.,  60., 115.],\n",
              "        [ 87.,  79.,  90., 175.],\n",
              "        [ 79.,  70.,  88., 164.],\n",
              "        [ 69.,  70.,  73., 141.],\n",
              "        [ 70.,  65.,  74., 141.],\n",
              "        [ 93.,  95.,  91., 184.],\n",
              "        [ 79.,  80.,  73., 152.],\n",
              "        [ 70.,  73.,  78., 148.],\n",
              "        [ 93.,  89.,  96., 192.],\n",
              "        [ 78.,  75.,  68., 147.],\n",
              "        [ 81.,  90.,  93., 183.],\n",
              "        [ 88.,  92.,  86., 177.],\n",
              "        [ 78.,  83.,  77., 159.],\n",
              "        [ 82.,  86.,  90., 177.],\n",
              "        [ 86.,  82.,  89., 175.],\n",
              "        [ 78.,  83.,  85., 175.],\n",
              "        [ 76.,  83.,  71., 149.],\n",
              "        [ 96.,  93.,  95., 192.]])"
            ]
          },
          "metadata": {
            "tags": []
          },
          "execution_count": 89
        }
      ]
    },
    {
      "cell_type": "code",
      "metadata": {
        "id": "e7j3kADAoZi5"
      },
      "source": [
        "import torch\n",
        "import torch.nn as nn"
      ],
      "execution_count": null,
      "outputs": []
    },
    {
      "cell_type": "code",
      "metadata": {
        "colab": {
          "base_uri": "https://localhost:8080/"
        },
        "id": "qLk8BX4_czbO",
        "outputId": "4d3e361f-44d4-4720-b0f9-fe8a5304f165"
      },
      "source": [
        "x_data=df_ten[:,0:-1]\n",
        "x_data\n"
      ],
      "execution_count": null,
      "outputs": [
        {
          "output_type": "execute_result",
          "data": {
            "text/plain": [
              "tensor([[ 73.,  80.,  75.],\n",
              "        [ 93.,  88.,  93.],\n",
              "        [ 89.,  91.,  90.],\n",
              "        [ 96.,  98., 100.],\n",
              "        [ 73.,  66.,  70.],\n",
              "        [ 53.,  46.,  55.],\n",
              "        [ 69.,  74.,  77.],\n",
              "        [ 47.,  56.,  60.],\n",
              "        [ 87.,  79.,  90.],\n",
              "        [ 79.,  70.,  88.],\n",
              "        [ 69.,  70.,  73.],\n",
              "        [ 70.,  65.,  74.],\n",
              "        [ 93.,  95.,  91.],\n",
              "        [ 79.,  80.,  73.],\n",
              "        [ 70.,  73.,  78.],\n",
              "        [ 93.,  89.,  96.],\n",
              "        [ 78.,  75.,  68.],\n",
              "        [ 81.,  90.,  93.],\n",
              "        [ 88.,  92.,  86.],\n",
              "        [ 78.,  83.,  77.],\n",
              "        [ 82.,  86.,  90.],\n",
              "        [ 86.,  82.,  89.],\n",
              "        [ 78.,  83.,  85.],\n",
              "        [ 76.,  83.,  71.],\n",
              "        [ 96.,  93.,  95.]])"
            ]
          },
          "metadata": {
            "tags": []
          },
          "execution_count": 93
        }
      ]
    },
    {
      "cell_type": "code",
      "metadata": {
        "colab": {
          "base_uri": "https://localhost:8080/"
        },
        "id": "0XS6xGokDL-6",
        "outputId": "35bb6454-72a3-483e-e912-63a6608852a0"
      },
      "source": [
        "y_data=df_ten[:,[-1]]\n",
        "y_data"
      ],
      "execution_count": null,
      "outputs": [
        {
          "output_type": "execute_result",
          "data": {
            "text/plain": [
              "tensor([[152.],\n",
              "        [185.],\n",
              "        [180.],\n",
              "        [196.],\n",
              "        [142.],\n",
              "        [101.],\n",
              "        [149.],\n",
              "        [115.],\n",
              "        [175.],\n",
              "        [164.],\n",
              "        [141.],\n",
              "        [141.],\n",
              "        [184.],\n",
              "        [152.],\n",
              "        [148.],\n",
              "        [192.],\n",
              "        [147.],\n",
              "        [183.],\n",
              "        [177.],\n",
              "        [159.],\n",
              "        [177.],\n",
              "        [175.],\n",
              "        [175.],\n",
              "        [149.],\n",
              "        [192.]])"
            ]
          },
          "metadata": {
            "tags": []
          },
          "execution_count": 90
        }
      ]
    },
    {
      "cell_type": "code",
      "metadata": {
        "id": "PHQpe0MdDMCR",
        "colab": {
          "base_uri": "https://localhost:8080/"
        },
        "outputId": "a6049a2b-64d4-4095-9c09-d98f68d8fcbb"
      },
      "source": [
        "print(x_data.shape)\n",
        "print(len(x_data))\n",
        "print(x_data[:5])"
      ],
      "execution_count": null,
      "outputs": [
        {
          "output_type": "stream",
          "text": [
            "torch.Size([25, 3])\n",
            "25\n",
            "tensor([[ 73.,  80.,  75.],\n",
            "        [ 93.,  88.,  93.],\n",
            "        [ 89.,  91.,  90.],\n",
            "        [ 96.,  98., 100.],\n",
            "        [ 73.,  66.,  70.]])\n"
          ],
          "name": "stdout"
        }
      ]
    },
    {
      "cell_type": "code",
      "metadata": {
        "id": "KzAg1R7-A02j",
        "colab": {
          "base_uri": "https://localhost:8080/"
        },
        "outputId": "ead80026-d4f7-4d74-92e1-187ec329f570"
      },
      "source": [
        "print(y_data.shape)\n",
        "print(len(y_data))\n",
        "print(y_data[:5])"
      ],
      "execution_count": null,
      "outputs": [
        {
          "output_type": "stream",
          "text": [
            "torch.Size([25, 1])\n",
            "25\n",
            "tensor([[152.],\n",
            "        [185.],\n",
            "        [180.],\n",
            "        [196.],\n",
            "        [142.]])\n"
          ],
          "name": "stdout"
        }
      ]
    },
    {
      "cell_type": "code",
      "metadata": {
        "id": "DIrvtDgsA054"
      },
      "source": [
        "import torch\n",
        "import torch.nn as nn\n",
        "import torch.nn.functional as F\n",
        "import torch.optim as optim\n"
      ],
      "execution_count": null,
      "outputs": []
    },
    {
      "cell_type": "code",
      "metadata": {
        "colab": {
          "base_uri": "https://localhost:8080/"
        },
        "id": "HG5Djn71n7up",
        "outputId": "f9f7e353-cb14-4090-ec03-38108d7f6865"
      },
      "source": [
        "#reproducibility\n",
        "torch.manual_seed(1)"
      ],
      "execution_count": null,
      "outputs": [
        {
          "output_type": "execute_result",
          "data": {
            "text/plain": [
              "<torch._C.Generator at 0x7f91e5d8ec78>"
            ]
          },
          "metadata": {
            "tags": []
          },
          "execution_count": 97
        }
      ]
    },
    {
      "cell_type": "code",
      "metadata": {
        "colab": {
          "base_uri": "https://localhost:8080/"
        },
        "id": "6fJ3Hglhp1eF",
        "outputId": "c262d424-c2da-40b4-bb4f-338bd5bfe533"
      },
      "source": [
        "#Low_level implementation\n",
        "#data\n",
        "x_train=torch.FloatTensor(x_data)\n",
        "y_train=torch.FloatTensor(y_data)\n",
        "#initialize model\n",
        "W=torch.zeros((3,1),requires_grad=True)\n",
        "b=torch.zeros(1,requires_grad=True)\n",
        "#set the optimizer\n",
        "optimizer=optim.SGD([W,b],lr=1e-5)\n",
        "nb_epochs=20\n",
        "for epoch in range(nb_epochs+1):\n",
        "#calculate H(x)\n",
        "    hypothesis=x_train.matmul(W)+b\n",
        "#calculate cost\n",
        "    cost=torch.mean((hypothesis-y_train)**2)\n",
        "#cost approach to H(x)\n",
        "    optimizer.zero_grad()\n",
        "    cost.backward()\n",
        "    optimizer.step()\n",
        "#print epoch and cost\n",
        "    print('Epoch:{:4d}/{}, Cost:{:.6f}'.format(epoch,nb_epochs,cost.item()))\n"
      ],
      "execution_count": null,
      "outputs": [
        {
          "output_type": "stream",
          "text": [
            "Epoch:   0/20, Cost:26811.960938\n",
            "Epoch:   1/20, Cost:9920.529297\n",
            "Epoch:   2/20, Cost:3675.298828\n",
            "Epoch:   3/20, Cost:1366.260742\n",
            "Epoch:   4/20, Cost:512.542480\n",
            "Epoch:   5/20, Cost:196.896698\n",
            "Epoch:   6/20, Cost:80.190964\n",
            "Epoch:   7/20, Cost:37.038689\n",
            "Epoch:   8/20, Cost:21.081343\n",
            "Epoch:   9/20, Cost:15.178769\n",
            "Epoch:  10/20, Cost:12.993664\n",
            "Epoch:  11/20, Cost:12.183025\n",
            "Epoch:  12/20, Cost:11.880554\n",
            "Epoch:  13/20, Cost:11.765974\n",
            "Epoch:  14/20, Cost:11.720855\n",
            "Epoch:  15/20, Cost:11.701433\n",
            "Epoch:  16/20, Cost:11.691517\n",
            "Epoch:  17/20, Cost:11.685120\n",
            "Epoch:  18/20, Cost:11.679997\n",
            "Epoch:  19/20, Cost:11.675385\n",
            "Epoch:  20/20, Cost:11.670950\n"
          ],
          "name": "stdout"
        }
      ]
    },
    {
      "cell_type": "code",
      "metadata": {
        "id": "061SWapXp1g4"
      },
      "source": [
        "#High level implementation with nn.Module\n",
        "class MultivariateLinearRegressionModel(nn.Module):\n",
        "      def __init__(self):\n",
        "          super().__init__()\n",
        "          self.linear = nn.Linear(3,1)\n",
        "\n",
        "      def forward(self,x):\n",
        "          return self.linear(x)\n"
      ],
      "execution_count": null,
      "outputs": []
    },
    {
      "cell_type": "code",
      "metadata": {
        "colab": {
          "base_uri": "https://localhost:8080/"
        },
        "id": "Qi9aRrd1p1mx",
        "outputId": "4078f2f3-b0fc-49cc-c3f9-d15d28a0af7a"
      },
      "source": [
        "#data\n",
        "x_train=torch.FloatTensor(x_data)\n",
        "y_train=torch.FloatTensor(y_data)\n",
        "#initialize model\n",
        "model=MultivariateLinearRegressionModel()\n",
        "#set the optimizer\n",
        "optimizer=optim.SGD(model.parameters(),lr=1e-5)\n",
        "nb_epochs=20\n",
        "for epoch in range(nb_epochs+1):\n",
        "#calculate H(x)\n",
        "    hypothesis=model(x_train)\n",
        "#calculate cost\n",
        "    cost=F.mse_loss(hypothesis,y_train)\n",
        "#cost approach to H(x)\n",
        "    optimizer.zero_grad()\n",
        "    cost.backward()\n",
        "    optimizer.step()\n",
        "#print epoch and cost\n",
        "    print('Epoch:{:4d}/{}, Cost:{:.6f}'.format(epoch,nb_epochs,cost.item()))\n"
      ],
      "execution_count": null,
      "outputs": [
        {
          "output_type": "stream",
          "text": [
            "Epoch:   0/20, Cost:13355.742188\n",
            "Epoch:   1/20, Cost:4942.361328\n",
            "Epoch:   2/20, Cost:1831.702515\n",
            "Epoch:   3/20, Cost:681.604736\n",
            "Epoch:   4/20, Cost:256.381622\n",
            "Epoch:   5/20, Cost:99.164520\n",
            "Epoch:   6/20, Cost:41.036831\n",
            "Epoch:   7/20, Cost:19.545074\n",
            "Epoch:   8/20, Cost:11.598702\n",
            "Epoch:   9/20, Cost:8.660445\n",
            "Epoch:  10/20, Cost:7.573805\n",
            "Epoch:  11/20, Cost:7.171782\n",
            "Epoch:  12/20, Cost:7.022855\n",
            "Epoch:  13/20, Cost:6.967517\n",
            "Epoch:  14/20, Cost:6.946784\n",
            "Epoch:  15/20, Cost:6.938843\n",
            "Epoch:  16/20, Cost:6.935635\n",
            "Epoch:  17/20, Cost:6.934161\n",
            "Epoch:  18/20, Cost:6.933359\n",
            "Epoch:  19/20, Cost:6.932774\n",
            "Epoch:  20/20, Cost:6.932291\n"
          ],
          "name": "stdout"
        }
      ]
    },
    {
      "cell_type": "code",
      "metadata": {
        "id": "D99fnvtLp1pV"
      },
      "source": [
        ""
      ],
      "execution_count": null,
      "outputs": []
    },
    {
      "cell_type": "code",
      "metadata": {
        "id": "yg0iVLH_p1sN"
      },
      "source": [
        ""
      ],
      "execution_count": null,
      "outputs": []
    },
    {
      "cell_type": "code",
      "metadata": {
        "id": "sxPw1bR8p1vg"
      },
      "source": [
        ""
      ],
      "execution_count": null,
      "outputs": []
    },
    {
      "cell_type": "code",
      "metadata": {
        "id": "P9KofWvvp1yK"
      },
      "source": [
        ""
      ],
      "execution_count": null,
      "outputs": []
    },
    {
      "cell_type": "code",
      "metadata": {
        "id": "aX6ALjn6p12I"
      },
      "source": [
        ""
      ],
      "execution_count": null,
      "outputs": []
    },
    {
      "cell_type": "code",
      "metadata": {
        "id": "u0r-Egz8p14s"
      },
      "source": [
        ""
      ],
      "execution_count": null,
      "outputs": []
    },
    {
      "cell_type": "code",
      "metadata": {
        "id": "DfEeb11Kn7xu"
      },
      "source": [
        ""
      ],
      "execution_count": null,
      "outputs": []
    },
    {
      "cell_type": "code",
      "metadata": {
        "id": "JBL068mcn70i"
      },
      "source": [
        ""
      ],
      "execution_count": null,
      "outputs": []
    },
    {
      "cell_type": "code",
      "metadata": {
        "id": "5jdl70uXn72_"
      },
      "source": [
        ""
      ],
      "execution_count": null,
      "outputs": []
    },
    {
      "cell_type": "code",
      "metadata": {
        "id": "Jf3VfPzKn75v"
      },
      "source": [
        ""
      ],
      "execution_count": null,
      "outputs": []
    },
    {
      "cell_type": "code",
      "metadata": {
        "id": "FaNkTGRxn796"
      },
      "source": [
        ""
      ],
      "execution_count": null,
      "outputs": []
    },
    {
      "cell_type": "code",
      "metadata": {
        "id": "6HolyqbwA08v"
      },
      "source": [
        ""
      ],
      "execution_count": null,
      "outputs": []
    },
    {
      "cell_type": "code",
      "metadata": {
        "id": "q1HSidd7A1CS"
      },
      "source": [
        ""
      ],
      "execution_count": null,
      "outputs": []
    }
  ]
}