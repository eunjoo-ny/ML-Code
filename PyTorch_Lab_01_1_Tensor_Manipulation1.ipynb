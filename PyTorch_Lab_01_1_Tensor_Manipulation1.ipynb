{
  "nbformat": 4,
  "nbformat_minor": 0,
  "metadata": {
    "colab": {
      "name": "PyTorch_Lab_01_1_Tensor Manipulation1",
      "provenance": [],
      "authorship_tag": "ABX9TyOsJK7twRWbL7zCcnzJirVc",
      "include_colab_link": true
    },
    "kernelspec": {
      "name": "python3",
      "display_name": "Python 3"
    }
  },
  "cells": [
    {
      "cell_type": "markdown",
      "metadata": {
        "id": "view-in-github",
        "colab_type": "text"
      },
      "source": [
        "<a href=\"https://colab.research.google.com/github/eunjoo-ny/ML-Code/blob/main/PyTorch_Lab_01_1_Tensor_Manipulation1.ipynb\" target=\"_parent\"><img src=\"https://colab.research.google.com/assets/colab-badge.svg\" alt=\"Open In Colab\"/></a>"
      ]
    },
    {
      "cell_type": "code",
      "metadata": {
        "id": "ANVnFjuCO2Uv"
      },
      "source": [
        "\n",
        "import os\n",
        "import torch\n",
        "import torchvision\n",
        "import tarfile\n",
        "from torchvision.datasets.utils import download_url\n",
        "from torch.utils.data import random_split"
      ],
      "execution_count": null,
      "outputs": []
    },
    {
      "cell_type": "code",
      "metadata": {
        "colab": {
          "base_uri": "https://localhost:8080/"
        },
        "id": "nGulLZXrLaSF",
        "outputId": "1e7482b3-96e3-42a8-e7df-753b1e3d979b"
      },
      "source": [
        "import numpy as np\n",
        "t=np.array([0.,1.,2.,3.,4.,5.,6.])\n",
        "print(t)"
      ],
      "execution_count": null,
      "outputs": [
        {
          "output_type": "stream",
          "text": [
            "[0. 1. 2. 3. 4. 5. 6.]\n"
          ],
          "name": "stdout"
        }
      ]
    },
    {
      "cell_type": "code",
      "metadata": {
        "colab": {
          "base_uri": "https://localhost:8080/"
        },
        "id": "meYjiYNcMPWv",
        "outputId": "5b4bdabb-bb0f-42af-a25c-39efb1119773"
      },
      "source": [
        "print('Rank of t:',t.ndim)\n",
        "print('Shape of t:',t.shape)"
      ],
      "execution_count": null,
      "outputs": [
        {
          "output_type": "stream",
          "text": [
            "Rank of t: 1\n",
            "Shape of t: (7,)\n"
          ],
          "name": "stdout"
        }
      ]
    },
    {
      "cell_type": "code",
      "metadata": {
        "colab": {
          "base_uri": "https://localhost:8080/"
        },
        "id": "6uGK1IKLLifx",
        "outputId": "d8373300-e80b-4f7e-c636-2bd343a0d02c"
      },
      "source": [
        "print('t[0]={},t[1]={},t[2]={}'.format(t[0],t[1],t[2]))\n",
        "print('t[2:5]={},t[4:-1]={}'.format(t[2:5],t[4:-1]))\n",
        "print('t[:2]={},t[3:]={}'.format(t[:2],t[3:]))\n"
      ],
      "execution_count": null,
      "outputs": [
        {
          "output_type": "stream",
          "text": [
            "t[0]=0.0,t[1]=1.0,t[2]=2.0\n",
            "t[2:5]=[2. 3. 4.],t[4:-1]=[4. 5.]\n",
            "t[:2]=[0. 1.],t[3:]=[3. 4. 5. 6.]\n"
          ],
          "name": "stdout"
        }
      ]
    },
    {
      "cell_type": "code",
      "metadata": {
        "colab": {
          "base_uri": "https://localhost:8080/"
        },
        "id": "mK-6ktlELii_",
        "outputId": "12bb4132-fdcf-444c-ba8e-28c5fb4fbc71"
      },
      "source": [
        "t1=np.array([[1.,2.,3.],[4.,5.,6.],[7.,8.,9.],[10.,11.,12.]])\n",
        "t1"
      ],
      "execution_count": null,
      "outputs": [
        {
          "output_type": "execute_result",
          "data": {
            "text/plain": [
              "array([[ 1.,  2.,  3.],\n",
              "       [ 4.,  5.,  6.],\n",
              "       [ 7.,  8.,  9.],\n",
              "       [10., 11., 12.]])"
            ]
          },
          "metadata": {
            "tags": []
          },
          "execution_count": 5
        }
      ]
    },
    {
      "cell_type": "code",
      "metadata": {
        "colab": {
          "base_uri": "https://localhost:8080/"
        },
        "id": "w3rgwuftLilo",
        "outputId": "39d5bae6-0515-443d-ac63-f4c2501ea9b1"
      },
      "source": [
        "print('Rank of t1:',t1.ndim)\n",
        "print('Shape of t1:',t1.shape)"
      ],
      "execution_count": null,
      "outputs": [
        {
          "output_type": "stream",
          "text": [
            "Rank of t1: 2\n",
            "Shape of t1: (4, 3)\n"
          ],
          "name": "stdout"
        }
      ]
    },
    {
      "cell_type": "markdown",
      "metadata": {
        "id": "BtWIaDNXOnOj"
      },
      "source": [
        "1D Array with Pytorch\n"
      ]
    },
    {
      "cell_type": "code",
      "metadata": {
        "colab": {
          "base_uri": "https://localhost:8080/"
        },
        "id": "3oe_1Gk5OPqm",
        "outputId": "83e3a4fc-6c92-49c1-c837-6c43927ed132"
      },
      "source": [
        "t=torch.FloatTensor([0.,1.,2.,3.,4.,5.,6.])\n",
        "print(t)"
      ],
      "execution_count": null,
      "outputs": [
        {
          "output_type": "stream",
          "text": [
            "tensor([0., 1., 2., 3., 4., 5., 6.])\n"
          ],
          "name": "stdout"
        }
      ]
    },
    {
      "cell_type": "code",
      "metadata": {
        "colab": {
          "base_uri": "https://localhost:8080/"
        },
        "id": "stXwuO5kOPtb",
        "outputId": "afabb644-7cbd-499f-c803-19fae4714764"
      },
      "source": [
        "print(t.dim())\n",
        "print(t.shape)\n",
        "print(t.size())\n",
        "print(t[0],t[1],t[-1])\n",
        "print(t[2:5],t[4:-1])\n",
        "print(t[:2],t[3:])"
      ],
      "execution_count": null,
      "outputs": [
        {
          "output_type": "stream",
          "text": [
            "1\n",
            "torch.Size([7])\n",
            "torch.Size([7])\n",
            "tensor(0.) tensor(1.) tensor(6.)\n",
            "tensor([2., 3., 4.]) tensor([4., 5.])\n",
            "tensor([0., 1.]) tensor([3., 4., 5., 6.])\n"
          ],
          "name": "stdout"
        }
      ]
    },
    {
      "cell_type": "code",
      "metadata": {
        "colab": {
          "base_uri": "https://localhost:8080/"
        },
        "id": "4_gNnahmOPw6",
        "outputId": "c42175bd-8b1e-4afc-dc72-6b074f6be0e1"
      },
      "source": [
        "m1=torch.FloatTensor([[3,3]])\n",
        "m2=torch.FloatTensor([[2,2]])\n",
        "m1+m2"
      ],
      "execution_count": null,
      "outputs": [
        {
          "output_type": "execute_result",
          "data": {
            "text/plain": [
              "tensor([[5., 5.]])"
            ]
          },
          "metadata": {
            "tags": []
          },
          "execution_count": 9
        }
      ]
    },
    {
      "cell_type": "code",
      "metadata": {
        "colab": {
          "base_uri": "https://localhost:8080/"
        },
        "id": "MUpGneF9OQJh",
        "outputId": "8b6ba08e-c348-400d-8cd7-def58378c7f5"
      },
      "source": [
        "#vector+scalar\n",
        "m1=torch.FloatTensor([[2,3]])\n",
        "m2=torch.FloatTensor([2])\n",
        "m1+m2"
      ],
      "execution_count": null,
      "outputs": [
        {
          "output_type": "execute_result",
          "data": {
            "text/plain": [
              "tensor([[4., 5.]])"
            ]
          },
          "metadata": {
            "tags": []
          },
          "execution_count": 10
        }
      ]
    },
    {
      "cell_type": "code",
      "metadata": {
        "colab": {
          "base_uri": "https://localhost:8080/"
        },
        "id": "hssRmDj-OQMx",
        "outputId": "031cd43a-c4f5-4137-dca9-838530f442c2"
      },
      "source": [
        "#2X1 Vector +1X2 Vector\n",
        "m1=torch.FloatTensor([[3],[4]])\n",
        "m2=torch.FloatTensor([[2,1]])\n",
        "m1+m2"
      ],
      "execution_count": null,
      "outputs": [
        {
          "output_type": "execute_result",
          "data": {
            "text/plain": [
              "tensor([[5., 4.],\n",
              "        [6., 5.]])"
            ]
          },
          "metadata": {
            "tags": []
          },
          "execution_count": 11
        }
      ]
    },
    {
      "cell_type": "code",
      "metadata": {
        "colab": {
          "base_uri": "https://localhost:8080/"
        },
        "id": "Qb9uKEQAOQP9",
        "outputId": "8e9161ae-2650-47c2-eba8-1da2953cb99f"
      },
      "source": [
        "print('-----------')\n",
        "print('Mul vs Matmul')\n",
        "print('-----------')\n",
        "m1=torch.FloatTensor([[1,2],[3,4]])\n",
        "m2=torch.FloatTensor([[1],[2]])\n",
        "t=m1.matmul(m2)\n",
        "print('Shape of Matrix 1 :',m1.shape)\n",
        "print('Shape of Matrix 2 :',m2.shape)\n",
        "print(t)\n",
        "print('Shape of Matrix 1 :',m1.shape)\n",
        "print('Shape of Matrix 2 :',m2.shape)\n",
        "print(m1*m2)\n",
        "print(m1.mul(m2))"
      ],
      "execution_count": null,
      "outputs": [
        {
          "output_type": "stream",
          "text": [
            "-----------\n",
            "Mul vs Matmul\n",
            "-----------\n",
            "Shape of Matrix 1 : torch.Size([2, 2])\n",
            "Shape of Matrix 2 : torch.Size([2, 1])\n",
            "tensor([[ 5.],\n",
            "        [11.]])\n",
            "Shape of Matrix 1 : torch.Size([2, 2])\n",
            "Shape of Matrix 2 : torch.Size([2, 1])\n",
            "tensor([[1., 2.],\n",
            "        [6., 8.]])\n",
            "tensor([[1., 2.],\n",
            "        [6., 8.]])\n"
          ],
          "name": "stdout"
        }
      ]
    },
    {
      "cell_type": "code",
      "metadata": {
        "colab": {
          "base_uri": "https://localhost:8080/"
        },
        "id": "4XUeG5KfOQSn",
        "outputId": "be39ed8d-9540-413b-e0e9-de98c45df8df"
      },
      "source": [
        "t=torch.FloatTensor([[1,2]])\n",
        "t.mean()"
      ],
      "execution_count": null,
      "outputs": [
        {
          "output_type": "execute_result",
          "data": {
            "text/plain": [
              "tensor(1.5000)"
            ]
          },
          "metadata": {
            "tags": []
          },
          "execution_count": 13
        }
      ]
    },
    {
      "cell_type": "code",
      "metadata": {
        "colab": {
          "base_uri": "https://localhost:8080/"
        },
        "id": "1ZNgJbKEOQVV",
        "outputId": "08664e7f-30b0-49f8-98b8-39cbf60fe5f5"
      },
      "source": [
        "t=torch.LongTensor([[1,2]])\n",
        "try:\n",
        "  print(t.mean())\n",
        "except Exception as exc:\n",
        "  print(exc)"
      ],
      "execution_count": null,
      "outputs": [
        {
          "output_type": "stream",
          "text": [
            "Can only calculate the mean of floating types. Got Long instead.\n"
          ],
          "name": "stdout"
        }
      ]
    },
    {
      "cell_type": "code",
      "metadata": {
        "colab": {
          "base_uri": "https://localhost:8080/"
        },
        "id": "Wjc51sw1LioZ",
        "outputId": "c200afcb-9588-4cf6-a25c-daea2a91287f"
      },
      "source": [
        "t=torch.FloatTensor([[1,2],[3,4]])\n",
        "print(t.mean())\n",
        "print(t.mean(dim=0))\n",
        "print(t.mean(dim=1))\n",
        "print(t.mean(dim=-1))"
      ],
      "execution_count": null,
      "outputs": [
        {
          "output_type": "stream",
          "text": [
            "tensor(2.5000)\n",
            "tensor([2., 3.])\n",
            "tensor([1.5000, 3.5000])\n",
            "tensor([1.5000, 3.5000])\n"
          ],
          "name": "stdout"
        }
      ]
    },
    {
      "cell_type": "code",
      "metadata": {
        "colab": {
          "base_uri": "https://localhost:8080/"
        },
        "id": "dipTuDusLirG",
        "outputId": "48c0f0c6-c260-4827-c5b2-5763f88b81d9"
      },
      "source": [
        "print(t.sum())\n",
        "print(t.sum(dim=0))\n",
        "print(t.sum(dim=1))\n",
        "print(t.sum(dim=-1))"
      ],
      "execution_count": null,
      "outputs": [
        {
          "output_type": "stream",
          "text": [
            "tensor(10.)\n",
            "tensor([4., 6.])\n",
            "tensor([3., 7.])\n",
            "tensor([3., 7.])\n"
          ],
          "name": "stdout"
        }
      ]
    },
    {
      "cell_type": "code",
      "metadata": {
        "colab": {
          "base_uri": "https://localhost:8080/"
        },
        "id": "UTfeMs4EXnLJ",
        "outputId": "82f51ea6-32df-44aa-f2bb-a4dd8d90bf95"
      },
      "source": [
        "t=torch.FloatTensor([[1,2],[3,4]])\n",
        "t.max()"
      ],
      "execution_count": null,
      "outputs": [
        {
          "output_type": "execute_result",
          "data": {
            "text/plain": [
              "tensor(4.)"
            ]
          },
          "metadata": {
            "tags": []
          },
          "execution_count": 17
        }
      ]
    },
    {
      "cell_type": "code",
      "metadata": {
        "colab": {
          "base_uri": "https://localhost:8080/"
        },
        "id": "rxWkLI53XnN_",
        "outputId": "8e2c5fa7-08d8-4d14-82de-0453e71f5c7e"
      },
      "source": [
        "print(t.max(dim=0))"
      ],
      "execution_count": null,
      "outputs": [
        {
          "output_type": "stream",
          "text": [
            "torch.return_types.max(\n",
            "values=tensor([3., 4.]),\n",
            "indices=tensor([1, 1]))\n"
          ],
          "name": "stdout"
        }
      ]
    },
    {
      "cell_type": "code",
      "metadata": {
        "colab": {
          "base_uri": "https://localhost:8080/"
        },
        "id": "X3KwNpsQXnRk",
        "outputId": "af286a5e-b0bf-4a0d-9b88-cb437283078e"
      },
      "source": [
        "print('Max:',t.max(dim=0)[0])\n",
        "print('ArgMax:',t.max(dim=0)[1])"
      ],
      "execution_count": null,
      "outputs": [
        {
          "output_type": "stream",
          "text": [
            "Max: tensor([3., 4.])\n",
            "ArgMax: tensor([1, 1])\n"
          ],
          "name": "stdout"
        }
      ]
    },
    {
      "cell_type": "code",
      "metadata": {
        "colab": {
          "base_uri": "https://localhost:8080/"
        },
        "id": "PIvZSHNbXnUQ",
        "outputId": "4ed9e18a-0f5a-47a0-d659-6c8967d032b4"
      },
      "source": [
        "print(t.max(dim=1))\n",
        "print(t.max(dim=-1))"
      ],
      "execution_count": null,
      "outputs": [
        {
          "output_type": "stream",
          "text": [
            "torch.return_types.max(\n",
            "values=tensor([2., 4.]),\n",
            "indices=tensor([1, 1]))\n",
            "torch.return_types.max(\n",
            "values=tensor([2., 4.]),\n",
            "indices=tensor([1, 1]))\n"
          ],
          "name": "stdout"
        }
      ]
    },
    {
      "cell_type": "code",
      "metadata": {
        "id": "aGSxv3fSXnXd",
        "colab": {
          "base_uri": "https://localhost:8080/"
        },
        "outputId": "267347ac-e5a9-4d8e-9441-5b92163e17b0"
      },
      "source": [
        "t=np.array([[[1,2,3],\n",
        "            [4,5,6]],\n",
        "            [[7,8,9],\n",
        "            [10,11,12]]])\n",
        "ft=torch.FloatTensor(t)\n",
        "print(ft.shape)"
      ],
      "execution_count": null,
      "outputs": [
        {
          "output_type": "stream",
          "text": [
            "torch.Size([2, 2, 3])\n"
          ],
          "name": "stdout"
        }
      ]
    },
    {
      "cell_type": "code",
      "metadata": {
        "id": "pGVLxW66XnaF",
        "colab": {
          "base_uri": "https://localhost:8080/"
        },
        "outputId": "120411f4-3302-4d00-e1ac-26bf458b6dc3"
      },
      "source": [
        "print(ft.view([-1,3]))\n",
        "print(ft.view([-1,3]).shape)"
      ],
      "execution_count": null,
      "outputs": [
        {
          "output_type": "stream",
          "text": [
            "tensor([[ 1.,  2.,  3.],\n",
            "        [ 4.,  5.,  6.],\n",
            "        [ 7.,  8.,  9.],\n",
            "        [10., 11., 12.]])\n",
            "torch.Size([4, 3])\n"
          ],
          "name": "stdout"
        }
      ]
    },
    {
      "cell_type": "code",
      "metadata": {
        "id": "fe_Y2SEHXnc6",
        "colab": {
          "base_uri": "https://localhost:8080/"
        },
        "outputId": "55ced62f-94f5-4e85-c142-572f52f54571"
      },
      "source": [
        "print(ft.view([-1,1,3]))\n",
        "print(ft.view([-1,1,3]).shape)"
      ],
      "execution_count": null,
      "outputs": [
        {
          "output_type": "stream",
          "text": [
            "tensor([[[ 1.,  2.,  3.]],\n",
            "\n",
            "        [[ 4.,  5.,  6.]],\n",
            "\n",
            "        [[ 7.,  8.,  9.]],\n",
            "\n",
            "        [[10., 11., 12.]]])\n",
            "torch.Size([4, 1, 3])\n"
          ],
          "name": "stdout"
        }
      ]
    },
    {
      "cell_type": "code",
      "metadata": {
        "colab": {
          "base_uri": "https://localhost:8080/"
        },
        "id": "hlDRSu6TBc6u",
        "outputId": "9c39730a-b971-4db5-fd39-2f75626bbea0"
      },
      "source": [
        "ft=torch.Tensor([0,1,2])\n",
        "print(ft.shape)"
      ],
      "execution_count": null,
      "outputs": [
        {
          "output_type": "stream",
          "text": [
            "torch.Size([3])\n"
          ],
          "name": "stdout"
        }
      ]
    },
    {
      "cell_type": "code",
      "metadata": {
        "colab": {
          "base_uri": "https://localhost:8080/"
        },
        "id": "MgWJ6dKwBc-F",
        "outputId": "cd1cdf8e-4cd0-4487-d666-be4e489fc904"
      },
      "source": [
        "print(ft.unsqueeze(0))\n",
        "print(ft.unsqueeze(0).shape)"
      ],
      "execution_count": null,
      "outputs": [
        {
          "output_type": "stream",
          "text": [
            "tensor([[0., 1., 2.]])\n",
            "torch.Size([1, 3])\n"
          ],
          "name": "stdout"
        }
      ]
    },
    {
      "cell_type": "code",
      "metadata": {
        "colab": {
          "base_uri": "https://localhost:8080/"
        },
        "id": "ojFM5W5XBdEs",
        "outputId": "7b12d5e9-8471-49a8-c6a7-06717dc91a43"
      },
      "source": [
        "ft.view(1,-1),ft.view(1,-1).shape"
      ],
      "execution_count": null,
      "outputs": [
        {
          "output_type": "execute_result",
          "data": {
            "text/plain": [
              "(tensor([[0., 1., 2.]]), torch.Size([1, 3]))"
            ]
          },
          "metadata": {
            "tags": []
          },
          "execution_count": 26
        }
      ]
    },
    {
      "cell_type": "code",
      "metadata": {
        "colab": {
          "base_uri": "https://localhost:8080/"
        },
        "id": "pYPJES90BdHd",
        "outputId": "b7f300e4-c7f3-4c34-b752-08c2cdeea95c"
      },
      "source": [
        "ft.unsqueeze(1),ft.unsqueeze(1).shape"
      ],
      "execution_count": null,
      "outputs": [
        {
          "output_type": "execute_result",
          "data": {
            "text/plain": [
              "(tensor([[0.],\n",
              "         [1.],\n",
              "         [2.]]), torch.Size([3, 1]))"
            ]
          },
          "metadata": {
            "tags": []
          },
          "execution_count": 27
        }
      ]
    },
    {
      "cell_type": "code",
      "metadata": {
        "colab": {
          "base_uri": "https://localhost:8080/"
        },
        "id": "LjHBn-AnBdKo",
        "outputId": "31ed64e3-a711-4d4c-854a-a8b5f1506964"
      },
      "source": [
        "ft.unsqueeze(-1), ft.unsqueeze(-1).shape"
      ],
      "execution_count": null,
      "outputs": [
        {
          "output_type": "execute_result",
          "data": {
            "text/plain": [
              "(tensor([[0.],\n",
              "         [1.],\n",
              "         [2.]]), torch.Size([3, 1]))"
            ]
          },
          "metadata": {
            "tags": []
          },
          "execution_count": 28
        }
      ]
    },
    {
      "cell_type": "code",
      "metadata": {
        "colab": {
          "base_uri": "https://localhost:8080/"
        },
        "id": "6kAEEe4OBdP5",
        "outputId": "887d8611-5085-4f5c-a7fa-c52bf5b002bf"
      },
      "source": [
        "lt=torch.LongTensor([1,2,3,4])\n",
        "print(lt)"
      ],
      "execution_count": null,
      "outputs": [
        {
          "output_type": "stream",
          "text": [
            "tensor([1, 2, 3, 4])\n"
          ],
          "name": "stdout"
        }
      ]
    },
    {
      "cell_type": "code",
      "metadata": {
        "colab": {
          "base_uri": "https://localhost:8080/"
        },
        "id": "CNkzU52QBdTO",
        "outputId": "e77d563b-b75d-48e4-f398-27c6b7f8d2a5"
      },
      "source": [
        "lt.float()"
      ],
      "execution_count": null,
      "outputs": [
        {
          "output_type": "execute_result",
          "data": {
            "text/plain": [
              "tensor([1., 2., 3., 4.])"
            ]
          },
          "metadata": {
            "tags": []
          },
          "execution_count": 30
        }
      ]
    },
    {
      "cell_type": "code",
      "metadata": {
        "id": "yXgHKudoXngH",
        "colab": {
          "base_uri": "https://localhost:8080/"
        },
        "outputId": "c6075718-3c5b-45ab-f71f-d0995aff3b1e"
      },
      "source": [
        "bt=torch.ByteTensor([True,False,False, True])\n",
        "print(bt)"
      ],
      "execution_count": null,
      "outputs": [
        {
          "output_type": "stream",
          "text": [
            "tensor([1, 0, 0, 1], dtype=torch.uint8)\n"
          ],
          "name": "stdout"
        }
      ]
    },
    {
      "cell_type": "code",
      "metadata": {
        "id": "9bE-Jy7QLity",
        "colab": {
          "base_uri": "https://localhost:8080/"
        },
        "outputId": "28f0d6f0-c0d7-4619-b854-fbeb31351846"
      },
      "source": [
        "bt.long(),bt.float()"
      ],
      "execution_count": null,
      "outputs": [
        {
          "output_type": "execute_result",
          "data": {
            "text/plain": [
              "(tensor([1, 0, 0, 1]), tensor([1., 0., 0., 1.]))"
            ]
          },
          "metadata": {
            "tags": []
          },
          "execution_count": 32
        }
      ]
    },
    {
      "cell_type": "code",
      "metadata": {
        "id": "VGq93ATgLiw3"
      },
      "source": [
        "x=torch.FloatTensor([[1,2],[3,4]])\n",
        "y=torch.FloatTensor([[5,6],[7,8]])"
      ],
      "execution_count": null,
      "outputs": []
    },
    {
      "cell_type": "code",
      "metadata": {
        "colab": {
          "base_uri": "https://localhost:8080/"
        },
        "id": "33WVxKzlF8G8",
        "outputId": "165d4894-dd62-46c1-9255-1c1a8b10b68b"
      },
      "source": [
        "torch.cat([x,y],dim=0),torch.cat([x,y],dim=1)\n"
      ],
      "execution_count": null,
      "outputs": [
        {
          "output_type": "execute_result",
          "data": {
            "text/plain": [
              "(tensor([[1., 2.],\n",
              "         [3., 4.],\n",
              "         [5., 6.],\n",
              "         [7., 8.]]), tensor([[1., 2., 5., 6.],\n",
              "         [3., 4., 7., 8.]]))"
            ]
          },
          "metadata": {
            "tags": []
          },
          "execution_count": 34
        }
      ]
    },
    {
      "cell_type": "code",
      "metadata": {
        "id": "tId6jjZ9F8KL"
      },
      "source": [
        "x=torch.FloatTensor([1,4])\n",
        "y=torch.FloatTensor([2,5])\n",
        "z=torch.FloatTensor([3,6])"
      ],
      "execution_count": null,
      "outputs": []
    },
    {
      "cell_type": "code",
      "metadata": {
        "colab": {
          "base_uri": "https://localhost:8080/"
        },
        "id": "je8I5GAvF8OT",
        "outputId": "980f5a73-545b-49b4-e6ab-c5044344840b"
      },
      "source": [
        "torch.stack([x,y,z]), torch.stack([x,y,z],dim=1)"
      ],
      "execution_count": null,
      "outputs": [
        {
          "output_type": "execute_result",
          "data": {
            "text/plain": [
              "(tensor([[1., 4.],\n",
              "         [2., 5.],\n",
              "         [3., 6.]]), tensor([[1., 2., 3.],\n",
              "         [4., 5., 6.]]))"
            ]
          },
          "metadata": {
            "tags": []
          },
          "execution_count": 36
        }
      ]
    },
    {
      "cell_type": "code",
      "metadata": {
        "colab": {
          "base_uri": "https://localhost:8080/"
        },
        "id": "V2k0o-zUF8TZ",
        "outputId": "3c0b3151-07e4-4460-f1ca-32c473ca9016"
      },
      "source": [
        "torch.cat([x.unsqueeze(0), y.unsqueeze(0),z.unsqueeze(0)],dim=0)"
      ],
      "execution_count": null,
      "outputs": [
        {
          "output_type": "execute_result",
          "data": {
            "text/plain": [
              "tensor([[1., 4.],\n",
              "        [2., 5.],\n",
              "        [3., 6.]])"
            ]
          },
          "metadata": {
            "tags": []
          },
          "execution_count": 37
        }
      ]
    },
    {
      "cell_type": "code",
      "metadata": {
        "colab": {
          "base_uri": "https://localhost:8080/"
        },
        "id": "yLavSTskF8ox",
        "outputId": "cee628de-a54e-4a99-f79a-e95fea47fbb0"
      },
      "source": [
        "x=torch.FloatTensor([[0,1,2],[3,4,5]])\n",
        "print(x)\n"
      ],
      "execution_count": null,
      "outputs": [
        {
          "output_type": "stream",
          "text": [
            "tensor([[0., 1., 2.],\n",
            "        [3., 4., 5.]])\n"
          ],
          "name": "stdout"
        }
      ]
    },
    {
      "cell_type": "code",
      "metadata": {
        "colab": {
          "base_uri": "https://localhost:8080/"
        },
        "id": "eE2n_elMIPl9",
        "outputId": "3e123e3e-3870-44f3-ddb4-96f59a0abc63"
      },
      "source": [
        "print(torch.ones_like(x))\n",
        "print(torch.zeros_like(x))"
      ],
      "execution_count": null,
      "outputs": [
        {
          "output_type": "stream",
          "text": [
            "tensor([[1., 1., 1.],\n",
            "        [1., 1., 1.]])\n",
            "tensor([[0., 0., 0.],\n",
            "        [0., 0., 0.]])\n"
          ],
          "name": "stdout"
        }
      ]
    },
    {
      "cell_type": "code",
      "metadata": {
        "id": "2Jib6WVNIPpx"
      },
      "source": [
        "x=torch.FloatTensor([[1,2],[3,4]])"
      ],
      "execution_count": null,
      "outputs": []
    },
    {
      "cell_type": "code",
      "metadata": {
        "colab": {
          "base_uri": "https://localhost:8080/"
        },
        "id": "bx5Wgc31IPtU",
        "outputId": "2fba702d-b398-4baf-afcf-079519a8acb8"
      },
      "source": [
        "print(x.mul(2.))"
      ],
      "execution_count": null,
      "outputs": [
        {
          "output_type": "stream",
          "text": [
            "tensor([[2., 4.],\n",
            "        [6., 8.]])\n"
          ],
          "name": "stdout"
        }
      ]
    },
    {
      "cell_type": "code",
      "metadata": {
        "colab": {
          "base_uri": "https://localhost:8080/"
        },
        "id": "ukMtNy_0IPv1",
        "outputId": "6c106553-3740-42ad-9d6d-05c8ce524a4b"
      },
      "source": [
        "print(x)"
      ],
      "execution_count": null,
      "outputs": [
        {
          "output_type": "stream",
          "text": [
            "tensor([[1., 2.],\n",
            "        [3., 4.]])\n"
          ],
          "name": "stdout"
        }
      ]
    },
    {
      "cell_type": "code",
      "metadata": {
        "colab": {
          "base_uri": "https://localhost:8080/"
        },
        "id": "i-Xck3LOIPzO",
        "outputId": "a907afd5-3c2b-4f87-c9bc-565b55ccf3dd"
      },
      "source": [
        "x.mul_(2.)"
      ],
      "execution_count": null,
      "outputs": [
        {
          "output_type": "execute_result",
          "data": {
            "text/plain": [
              "tensor([[2., 4.],\n",
              "        [6., 8.]])"
            ]
          },
          "metadata": {
            "tags": []
          },
          "execution_count": 43
        }
      ]
    },
    {
      "cell_type": "code",
      "metadata": {
        "colab": {
          "base_uri": "https://localhost:8080/"
        },
        "id": "uQRkSGdJIqny",
        "outputId": "b06b590e-1df8-460b-982e-4d8a957439e3"
      },
      "source": [
        "print(x)"
      ],
      "execution_count": null,
      "outputs": [
        {
          "output_type": "stream",
          "text": [
            "tensor([[2., 4.],\n",
            "        [6., 8.]])\n"
          ],
          "name": "stdout"
        }
      ]
    },
    {
      "cell_type": "code",
      "metadata": {
        "id": "MNbCuarKIqq8"
      },
      "source": [
        "x_train=torch.FloatTensor([[1],[2],[3]])\n",
        "y_train=torch.FloatTensor([[2],[4],[6]])\n",
        "w=torch.zeros(1,requires_grad=True)\n",
        "b=torch.zeros(1,requires_grad=True)\n",
        "hypothesis= x_train*w+b\n",
        "cost=torch.mean((hypothesis-y_train)**2)"
      ],
      "execution_count": null,
      "outputs": []
    },
    {
      "cell_type": "code",
      "metadata": {
        "id": "r5pxyKsSLoAk"
      },
      "source": [
        "import torch.nn as nn \n",
        "import torch \n",
        "import torch.optim as optim "
      ],
      "execution_count": null,
      "outputs": []
    },
    {
      "cell_type": "code",
      "metadata": {
        "id": "qm7WeMj4Iqua"
      },
      "source": [
        "optimizer =optim.SGD([w,b],lr=0.01)\n",
        "\n",
        "optimizer.zero_grad()\n",
        "cost.backward()\n",
        "optimizer.step()"
      ],
      "execution_count": null,
      "outputs": []
    },
    {
      "cell_type": "code",
      "metadata": {
        "id": "gePuVh7BIqxB"
      },
      "source": [
        "x_train=torch.FloatTensor([[1],[2],[3]])\n",
        "y_train=torch.FloatTensor([[1],[2],[3]])\n",
        "w=torch.zeros(1,requires_grad=True)\n",
        "b=torch.zeros(1,requires_grad=True)\n",
        "optimizer =optim.SGD([w,b],lr=0.01)\n",
        "\n",
        "nb_epochs =1000\n",
        "for epoch in range(1,nb_epochs+1):\n",
        "    hypothesis= x_train*w+b\n",
        "    cost=torch.mean((hypothesis-y_train)**2)\n",
        "\n",
        "\n",
        "    optimizer.zero_grad()\n",
        "    cost.backward()\n",
        "    optimizer.step()"
      ],
      "execution_count": null,
      "outputs": []
    },
    {
      "cell_type": "code",
      "metadata": {
        "id": "ZgGbeRkTNbUP"
      },
      "source": [
        "gradient = 2*torch.mean((w*x_train-y_train)*x_train)\n",
        "lr=0.1\n",
        "w =w-lr*gradient"
      ],
      "execution_count": null,
      "outputs": []
    },
    {
      "cell_type": "code",
      "metadata": {
        "colab": {
          "base_uri": "https://localhost:8080/"
        },
        "id": "1ffohskQNbYG",
        "outputId": "bdedffb7-8fba-4d67-a4bf-e30873bc11b1"
      },
      "source": [
        "x_train=torch.FloatTensor([[1],[2],[3]])\n",
        "y_train=torch.FloatTensor([[1],[2],[3]])\n",
        "\n",
        "w=torch.zeros(1)\n",
        "lr=0.1\n",
        "\n",
        "nb_epochs=20\n",
        "for epoch in range(nb_epochs+1):\n",
        "    \n",
        "    hypothesis= w*x_train\n",
        "    cost=torch.mean(hypothesis-y_train)**2\n",
        "\n",
        "    gradient=torch.sum(( hypothesis-y_train)*x_train)\n",
        "\n",
        "    print('Epoch:{:4d}/{}, w:{:.3f} ,cost:{:.6f}'.format(epoch,nb_epochs,w.item(),cost.item()))\n",
        "\n",
        "    w=w-lr*gradient"
      ],
      "execution_count": null,
      "outputs": [
        {
          "output_type": "stream",
          "text": [
            "Epoch:   0/20, w:0.000 ,cost:4.000000\n",
            "Epoch:   1/20, w:1.400 ,cost:0.640000\n",
            "Epoch:   2/20, w:0.840 ,cost:0.102400\n",
            "Epoch:   3/20, w:1.064 ,cost:0.016384\n",
            "Epoch:   4/20, w:0.974 ,cost:0.002621\n",
            "Epoch:   5/20, w:1.010 ,cost:0.000419\n",
            "Epoch:   6/20, w:0.996 ,cost:0.000067\n",
            "Epoch:   7/20, w:1.002 ,cost:0.000011\n",
            "Epoch:   8/20, w:0.999 ,cost:0.000002\n",
            "Epoch:   9/20, w:1.000 ,cost:0.000000\n",
            "Epoch:  10/20, w:1.000 ,cost:0.000000\n",
            "Epoch:  11/20, w:1.000 ,cost:0.000000\n",
            "Epoch:  12/20, w:1.000 ,cost:0.000000\n",
            "Epoch:  13/20, w:1.000 ,cost:0.000000\n",
            "Epoch:  14/20, w:1.000 ,cost:0.000000\n",
            "Epoch:  15/20, w:1.000 ,cost:0.000000\n",
            "Epoch:  16/20, w:1.000 ,cost:0.000000\n",
            "Epoch:  17/20, w:1.000 ,cost:0.000000\n",
            "Epoch:  18/20, w:1.000 ,cost:0.000000\n",
            "Epoch:  19/20, w:1.000 ,cost:0.000000\n",
            "Epoch:  20/20, w:1.000 ,cost:0.000000\n"
          ],
          "name": "stdout"
        }
      ]
    },
    {
      "cell_type": "code",
      "metadata": {
        "id": "H2kSYzcQNbcU"
      },
      "source": [
        ""
      ],
      "execution_count": null,
      "outputs": []
    },
    {
      "cell_type": "code",
      "metadata": {
        "id": "zCW1xfo4NbfB"
      },
      "source": [
        "x_train=torch.FloatTensor([[73,80,756],\n",
        "                           [93,88,93],\n",
        "                           [89,91,90],\n",
        "                           [96,98,100],\n",
        "                           [73,66,70]])\n",
        "y_train=torch.FloatTensor([[152],[185],[180],[196],[142]])"
      ],
      "execution_count": null,
      "outputs": []
    },
    {
      "cell_type": "code",
      "metadata": {
        "colab": {
          "base_uri": "https://localhost:8080/"
        },
        "id": "aHjROLbmNblE",
        "outputId": "8088a02f-e529-4252-c9b3-dab3c28c613c"
      },
      "source": [
        "w=torch.zeros((3,1),requires_grad=True)\n",
        "b=torch.zeros(1,requires_grad=True)\n",
        "optimizer=optim.SGD([w,b],lr=1e-5)\n",
        "\n",
        "nb_epochs=20\n",
        "for epoch in range(nb_epochs+1):\n",
        "    hypothesis=x_train.matmul(w)+b\n",
        "    cost=torch.mean((hypothesis-y_train)**2)\n",
        "\n",
        "    optimizer.zero_grad()\n",
        "    cost.backward()\n",
        "    optimizer.step()\n",
        "\n",
        "    print('Epoch:{:4d}/{}, hypothesis:{}, cost:{:.6f}'.format(epoch,nb_epochs,hypothesis.squeeze().detach(),\n",
        "                                                              cost.item()))\n",
        "    # why does the cost fluctuate or increase?"
      ],
      "execution_count": null,
      "outputs": [
        {
          "output_type": "stream",
          "text": [
            "Epoch:   0/20, hypothesis:tensor([0., 0., 0., 0., 0.]), cost:29661.800781\n",
            "Epoch:   1/20, hypothesis:tensor([582.7939, 119.3461, 116.9166, 128.1442,  90.6439]), cost:40223.035156\n",
            "Epoch:   2/20, hypothesis:tensor([-341.9339,   -1.6264,   -0.4172,   -1.9566,   -0.5123]), cost:74169.406250\n",
            "Epoch:   3/20, hypothesis:tensor([1040.1355,  233.2516,  228.8514,  250.3842,  177.3696]), cost:159541.593750\n",
            "Epoch:   4/20, hypothesis:tensor([-1092.8326,   -83.8484,   -79.7352,   -90.4602,   -62.2039]), cost:362621.750000\n",
            "Epoch:   5/20, hypothesis:tensor([2142.4595,  434.0266,  425.1097,  466.0365,  329.5953]), cost:838426.750000\n",
            "Epoch:   6/20, hypothesis:tensor([-2810.8074,  -328.3290,  -317.3936,  -353.2940,  -246.7532]), cost:1948397.625000\n",
            "Epoch:   7/20, hypothesis:tensor([4734.6782,  857.9997,  838.6137,  921.5924,  650.4751]), cost:4534534.000000\n",
            "Epoch:   8/20, hypothesis:tensor([-6790.7783,  -933.4818,  -906.6185, -1003.7035,  -704.1505]), cost:10557834.000000\n",
            "Epoch:   9/20, hypothesis:tensor([10788.2871,  1815.8671,  1772.1351,  1950.9384,  1375.0005]), cost:24585064.000000\n",
            "Epoch:  10/20, hypothesis:tensor([-16045.0430,  -2366.9287,  -2302.9460,  -2544.2419,  -1787.9789]), cost:57251064.000000\n",
            "Epoch:  11/20, hypothesis:tensor([24897.0020,  4026.5752,  3926.1711,  4326.7026,  3046.8704]), cost:133321520.000000\n",
            "Epoch:  12/20, hypothesis:tensor([-37586.2305,  -5721.3975,  -5570.9551,  -6149.2471,  -4324.5400]), cost:310469056.000000\n",
            "Epoch:  13/20, hypothesis:tensor([57760.1328,  9161.2598,  8928.8984,  9844.8125,  6929.8223]), cost:722997504.000000\n",
            "Epoch:  14/20, hypothesis:tensor([-87743.3906, -13544.0977, -13192.3008, -14556.1562, -10240.0293]), cost:1683663872.000000\n",
            "Epoch:  15/20, hypothesis:tensor([134294.6406,  21109.4473,  20569.8027,  22685.2559,  15965.1484]), cost:3920792320.000000\n",
            "Epoch:  16/20, hypothesis:tensor([-204541.3906,  -31768.5039,  -30947.7988,  -34141.5430,  -24021.3535]), cost:9130457088.000000\n",
            "Epoch:  17/20, hypothesis:tensor([312526.2500,  48927.3789,  47672.1641,  52580.5742,  37001.2188]), cost:21262348288.000000\n",
            "Epoch:  18/20, hypothesis:tensor([-476529.2500,  -74213.2422,  -72300.5781,  -79756.0078,  -56118.1992]), cost:49514213376.000000\n",
            "Epoch:  19/20, hypothesis:tensor([727581.4375, 113703.6094, 110782.0234, 122194.1875,  85985.2812]), cost:115305103360.000000\n",
            "Epoch:  20/20, hypothesis:tensor([-1109912.8750,  -173058.8906,  -168603.3281,  -185983.2969,\n",
            "         -130865.6484]), cost:268514197504.000000\n"
          ],
          "name": "stdout"
        }
      ]
    },
    {
      "cell_type": "markdown",
      "metadata": {
        "id": "qN5v_7-zJbij"
      },
      "source": [
        ""
      ]
    },
    {
      "cell_type": "code",
      "metadata": {
        "id": "vosOVSlENb5d"
      },
      "source": [
        "import torch.nn as nn\n",
        "class MultivaritateLinearRegression(nn.Module):\n",
        "      def __init__(self):\n",
        "          super().__init__()\n",
        "          self.linear=nn.Linear(3,1)\n",
        "\n",
        "      def forward(self,x):\n",
        "          return self.linear(x)\n",
        "\n",
        "\n"
      ],
      "execution_count": null,
      "outputs": []
    },
    {
      "cell_type": "code",
      "metadata": {
        "colab": {
          "base_uri": "https://localhost:8080/"
        },
        "id": "bCkuxwzaF8r9",
        "outputId": "2290c22d-fa65-4dba-a92d-05bf2249facd"
      },
      "source": [
        "import torch.nn.functional as F\n",
        "model=MultivaritateLinearRegression()\n",
        "optimizer=optim.SGD([w,b],lr=1e-5)\n",
        "\n",
        "nb_epochs=20\n",
        "for epoch in range(nb_epochs+1):\n",
        "    hypothesis=model(x_train)\n",
        "    cost=F.mse_loss(hypothesis, y_train)\n",
        "\n",
        "    optimizer.zero_grad()\n",
        "    cost.backward()\n",
        "    optimizer.step()\n",
        "\n",
        "    print('Epoch:{:4d}/{}, hypothesis:{}, cost:{:.6f}'.format(epoch,nb_epochs,hypothesis.squeeze().detach(),\n",
        "                                                              cost.item()))"
      ],
      "execution_count": null,
      "outputs": [
        {
          "output_type": "stream",
          "text": [
            "Epoch:   0/20, hypothesis:tensor([-219.4243,    0.5513,    2.5822,    1.7929,    0.2766]), cost:52251.261719\n",
            "Epoch:   1/20, hypothesis:tensor([-219.4243,    0.5513,    2.5822,    1.7929,    0.2766]), cost:52251.261719\n",
            "Epoch:   2/20, hypothesis:tensor([-219.4243,    0.5513,    2.5822,    1.7929,    0.2766]), cost:52251.261719\n",
            "Epoch:   3/20, hypothesis:tensor([-219.4243,    0.5513,    2.5822,    1.7929,    0.2766]), cost:52251.261719\n",
            "Epoch:   4/20, hypothesis:tensor([-219.4243,    0.5513,    2.5822,    1.7929,    0.2766]), cost:52251.261719\n",
            "Epoch:   5/20, hypothesis:tensor([-219.4243,    0.5513,    2.5822,    1.7929,    0.2766]), cost:52251.261719\n",
            "Epoch:   6/20, hypothesis:tensor([-219.4243,    0.5513,    2.5822,    1.7929,    0.2766]), cost:52251.261719\n",
            "Epoch:   7/20, hypothesis:tensor([-219.4243,    0.5513,    2.5822,    1.7929,    0.2766]), cost:52251.261719\n",
            "Epoch:   8/20, hypothesis:tensor([-219.4243,    0.5513,    2.5822,    1.7929,    0.2766]), cost:52251.261719\n",
            "Epoch:   9/20, hypothesis:tensor([-219.4243,    0.5513,    2.5822,    1.7929,    0.2766]), cost:52251.261719\n",
            "Epoch:  10/20, hypothesis:tensor([-219.4243,    0.5513,    2.5822,    1.7929,    0.2766]), cost:52251.261719\n",
            "Epoch:  11/20, hypothesis:tensor([-219.4243,    0.5513,    2.5822,    1.7929,    0.2766]), cost:52251.261719\n",
            "Epoch:  12/20, hypothesis:tensor([-219.4243,    0.5513,    2.5822,    1.7929,    0.2766]), cost:52251.261719\n",
            "Epoch:  13/20, hypothesis:tensor([-219.4243,    0.5513,    2.5822,    1.7929,    0.2766]), cost:52251.261719\n",
            "Epoch:  14/20, hypothesis:tensor([-219.4243,    0.5513,    2.5822,    1.7929,    0.2766]), cost:52251.261719\n",
            "Epoch:  15/20, hypothesis:tensor([-219.4243,    0.5513,    2.5822,    1.7929,    0.2766]), cost:52251.261719\n",
            "Epoch:  16/20, hypothesis:tensor([-219.4243,    0.5513,    2.5822,    1.7929,    0.2766]), cost:52251.261719\n",
            "Epoch:  17/20, hypothesis:tensor([-219.4243,    0.5513,    2.5822,    1.7929,    0.2766]), cost:52251.261719\n",
            "Epoch:  18/20, hypothesis:tensor([-219.4243,    0.5513,    2.5822,    1.7929,    0.2766]), cost:52251.261719\n",
            "Epoch:  19/20, hypothesis:tensor([-219.4243,    0.5513,    2.5822,    1.7929,    0.2766]), cost:52251.261719\n",
            "Epoch:  20/20, hypothesis:tensor([-219.4243,    0.5513,    2.5822,    1.7929,    0.2766]), cost:52251.261719\n"
          ],
          "name": "stdout"
        }
      ]
    },
    {
      "cell_type": "code",
      "metadata": {
        "id": "kd5S418jF8vb"
      },
      "source": [
        ""
      ],
      "execution_count": null,
      "outputs": []
    }
  ]
}