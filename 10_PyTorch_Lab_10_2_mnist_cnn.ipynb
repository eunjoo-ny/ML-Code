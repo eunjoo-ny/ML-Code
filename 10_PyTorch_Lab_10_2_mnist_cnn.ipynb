{
  "nbformat": 4,
  "nbformat_minor": 0,
  "metadata": {
    "colab": {
      "name": "10_PyTorch_Lab_10_2_mnist cnn",
      "provenance": [],
      "collapsed_sections": [],
      "authorship_tag": "ABX9TyOFdWuGAWchZB+lUyuFx1cQ",
      "include_colab_link": true
    },
    "kernelspec": {
      "name": "python3",
      "display_name": "Python 3"
    }
  },
  "cells": [
    {
      "cell_type": "markdown",
      "metadata": {
        "id": "view-in-github",
        "colab_type": "text"
      },
      "source": [
        "<a href=\"https://colab.research.google.com/github/eunjoo-ny/ML-Code/blob/main/10_PyTorch_Lab_10_2_mnist_cnn.ipynb\" target=\"_parent\"><img src=\"https://colab.research.google.com/assets/colab-badge.svg\" alt=\"Open In Colab\"/></a>"
      ]
    },
    {
      "cell_type": "code",
      "metadata": {
        "id": "vCzrNcLW2Dde"
      },
      "source": [
        "import torch\n",
        "import torch.nn as nn\n",
        "import torchvision.datasets as dsets\n",
        "import torchvision.transforms as transforms\n",
        "import random\n",
        "import torch.nn.init\n"
      ],
      "execution_count": 36,
      "outputs": []
    },
    {
      "cell_type": "code",
      "metadata": {
        "id": "vwSBpy_BcMjH"
      },
      "source": [
        "device = 'cuda' if torch.cuda.is_available() else 'cpu'\n",
        "\n",
        "#for reproducibility\n",
        "random.seed(777)\n",
        "torch.manual_seed(777)\n",
        "if device == 'cuda':\n",
        "   torch.cuda.manual_seed_all(777)"
      ],
      "execution_count": 37,
      "outputs": []
    },
    {
      "cell_type": "code",
      "metadata": {
        "id": "UaCCbFqvcMmG"
      },
      "source": [
        "#parameters\n",
        "learning_rate= 0.001\n",
        "training_epochs =15\n",
        "batch_size = 100"
      ],
      "execution_count": 38,
      "outputs": []
    },
    {
      "cell_type": "code",
      "metadata": {
        "id": "aMrM5gsEcMo8"
      },
      "source": [
        "#minst dataset\n",
        "mnist_train =dsets.MNIST(root='MNIST_data/',\n",
        "                         train=True,\n",
        "                         transform=transforms.ToTensor(),\n",
        "                         download=True)\n",
        "mnist_test = dsets.MNIST(root='MNIST_data/',\n",
        "                         train=False,\n",
        "                         transform=transforms.ToTensor(),\n",
        "                         download=True)"
      ],
      "execution_count": 39,
      "outputs": []
    },
    {
      "cell_type": "code",
      "metadata": {
        "id": "7yy-v_g7cMr6"
      },
      "source": [
        "#dataset loader\n",
        "data_loader = torch.utils.data.DataLoader(dataset=mnist_train,\n",
        "                                          batch_size=batch_size,\n",
        "                                          shuffle=True,\n",
        "                                          drop_last=True)\n"
      ],
      "execution_count": 40,
      "outputs": []
    },
    {
      "cell_type": "code",
      "metadata": {
        "id": "DzTj6b3YcMuj"
      },
      "source": [
        "#CNN Model (2 conv layers)\n",
        "class CNN(torch.nn.Module):\n",
        "      def __init__(self):\n",
        "          super(CNN,self).__init__()\n",
        "          self.layer1 = torch.nn.Sequential(#(,28,28,1)\n",
        "              torch.nn.Conv2d(1,32,kernel_size=3, stride=1, padding=1),#(,28,28,32)\n",
        "              torch.nn.ReLU(),\n",
        "              torch.nn.MaxPool2d(2)#(,14,14,32)\n",
        "          )\n",
        "          self.layer2 = torch.nn.Sequential(\n",
        "              torch.nn.Conv2d(32,64,kernel_size=3, stride=1,padding=1),#(,14,14,64)\n",
        "              torch.nn.ReLU(),\n",
        "              torch.nn.MaxPool2d(2)\n",
        "          )#(,7,7,64)\n",
        "\n",
        "          self.layer3 = torch.nn.Sequential(\n",
        "              torch.nn.Conv2d(64,128,kernel_size=3, stride=1,padding=1),#(,7,7,128)\n",
        "              torch.nn.ReLU(),\n",
        "              torch.nn.MaxPool2d(2)#(3,3,128)\n",
        "          )\n",
        "          \n",
        "          \n",
        "          self.fc1= torch.nn.Linear(3*3*128, 625, bias= True)\n",
        "          \n",
        "\n",
        "\n",
        "          \n",
        "          self.relu=nn.ReLU()\n",
        "              \n",
        "          \n",
        "          self.fc2 =torch.nn.Linear(625,10,bias=True)\n",
        "          torch.nn.init.xavier_uniform_(self.fc1.weight)\n",
        "          torch.nn.init.xavier_uniform_(self.fc2.weight)\n",
        "\n",
        "          \n",
        "          \n",
        "          \n",
        "      def forward(self,x):\n",
        "          out = self.layer1(x)\n",
        "          out = self.layer2(out)\n",
        "          out = self.layer3(out)\n",
        "          out = out.view(out.size(0),-1)\n",
        "          out = self.fc1(out)\n",
        "          out = self.relu(out)\n",
        "          out = self.fc2(out)\n",
        "          return out"
      ],
      "execution_count": 75,
      "outputs": []
    },
    {
      "cell_type": "code",
      "metadata": {
        "id": "ZJcx8mbXcMyp",
        "colab": {
          "base_uri": "https://localhost:8080/"
        },
        "outputId": "7323b2f6-dbeb-43a4-c584-63c145690a68"
      },
      "source": [
        "model = CNN().to(device)\n",
        "print(model)"
      ],
      "execution_count": 76,
      "outputs": [
        {
          "output_type": "stream",
          "text": [
            "CNN(\n",
            "  (layer1): Sequential(\n",
            "    (0): Conv2d(1, 32, kernel_size=(3, 3), stride=(1, 1), padding=(1, 1))\n",
            "    (1): ReLU()\n",
            "    (2): MaxPool2d(kernel_size=2, stride=2, padding=0, dilation=1, ceil_mode=False)\n",
            "  )\n",
            "  (layer2): Sequential(\n",
            "    (0): Conv2d(32, 64, kernel_size=(3, 3), stride=(1, 1), padding=(1, 1))\n",
            "    (1): ReLU()\n",
            "    (2): MaxPool2d(kernel_size=2, stride=2, padding=0, dilation=1, ceil_mode=False)\n",
            "  )\n",
            "  (layer3): Sequential(\n",
            "    (0): Conv2d(64, 128, kernel_size=(3, 3), stride=(1, 1), padding=(1, 1))\n",
            "    (1): ReLU()\n",
            "    (2): MaxPool2d(kernel_size=2, stride=2, padding=0, dilation=1, ceil_mode=False)\n",
            "  )\n",
            "  (fc1): Linear(in_features=1152, out_features=625, bias=True)\n",
            "  (relu): ReLU()\n",
            "  (fc2): Linear(in_features=625, out_features=10, bias=True)\n",
            ")\n"
          ],
          "name": "stdout"
        }
      ]
    },
    {
      "cell_type": "code",
      "metadata": {
        "id": "iWIpy4UOrZJd"
      },
      "source": [
        "criterion = torch.nn.CrossEntropyLoss().to(device)\n",
        "optimizer = torch.optim.Adam(model.parameters(), lr=learning_rate)"
      ],
      "execution_count": 77,
      "outputs": []
    },
    {
      "cell_type": "code",
      "metadata": {
        "colab": {
          "base_uri": "https://localhost:8080/"
        },
        "id": "-G1ggQWyrZM7",
        "outputId": "a65723c6-ca62-4312-a6ee-003b776f4c0f"
      },
      "source": [
        "total_batch= len(data_loader)\n",
        "print('Learning started. It takes sometime.')\n",
        "for epoch in range(training_epochs):\n",
        "    avg_cost=0\n",
        "\n",
        "    for X,Y in data_loader:\n",
        "        X= X.to(device)\n",
        "        Y= Y.to(device)\n",
        "\n",
        "        hypothesis=model(X)\n",
        "        cost=criterion( hypothesis,Y)\n",
        "\n",
        "        optimizer.zero_grad()\n",
        "        cost.backward()\n",
        "        optimizer.step()\n",
        "\n",
        "        avg_cost +=cost/total_batch\n",
        "\n",
        "    print('[Epoch:{:>4}] cost ={:>.9}'.format(epoch+1, avg_cost))\n",
        "     #print('[Epoch: {:.4d}] cost = {:.6f}'.format(epoch + 1, avg_cost))\n",
        "\n",
        "print(\"Learning Finished\")"
      ],
      "execution_count": 78,
      "outputs": [
        {
          "output_type": "stream",
          "text": [
            "Learning started. It takes sometime.\n",
            "[Epoch:   1] cost =0.155675545\n",
            "[Epoch:   2] cost =0.0431155562\n",
            "[Epoch:   3] cost =0.0293267854\n",
            "[Epoch:   4] cost =0.023795953\n",
            "[Epoch:   5] cost =0.0180430189\n",
            "[Epoch:   6] cost =0.0144161498\n",
            "[Epoch:   7] cost =0.013050965\n",
            "[Epoch:   8] cost =0.0121234953\n",
            "[Epoch:   9] cost =0.00984117575\n",
            "[Epoch:  10] cost =0.00816260651\n",
            "[Epoch:  11] cost =0.00912692398\n",
            "[Epoch:  12] cost =0.00558040477\n",
            "[Epoch:  13] cost =0.0069900481\n",
            "[Epoch:  14] cost =0.00440998096\n",
            "[Epoch:  15] cost =0.00787348207\n",
            "Learning Finished\n"
          ],
          "name": "stdout"
        }
      ]
    },
    {
      "cell_type": "code",
      "metadata": {
        "colab": {
          "base_uri": "https://localhost:8080/"
        },
        "id": "oc8R1kJurZP7",
        "outputId": "6456bc9b-f914-429a-f09b-64b735c8ab54"
      },
      "source": [
        "with torch.no_grad():\n",
        "     X_test = mnist_test.test_data.view(len(mnist_test),1,28,28).float().to(device)\n",
        "     Y_test = mnist_test.test_labels.to(device)\n",
        "\n",
        "     prediction= model(X_test)\n",
        "     correct_prediction = torch.argmax(prediction, 1) ==Y_test\n",
        "     accuracy = correct_prediction.float().mean()\n",
        "     print('Accuracy:',accuracy.item())"
      ],
      "execution_count": 79,
      "outputs": [
        {
          "output_type": "stream",
          "text": [
            "/usr/local/lib/python3.6/dist-packages/torchvision/datasets/mnist.py:63: UserWarning: test_data has been renamed data\n",
            "  warnings.warn(\"test_data has been renamed data\")\n",
            "/usr/local/lib/python3.6/dist-packages/torchvision/datasets/mnist.py:53: UserWarning: test_labels has been renamed targets\n",
            "  warnings.warn(\"test_labels has been renamed targets\")\n"
          ],
          "name": "stderr"
        },
        {
          "output_type": "stream",
          "text": [
            "Accuracy: 0.9879999756813049\n"
          ],
          "name": "stdout"
        }
      ]
    },
    {
      "cell_type": "code",
      "metadata": {
        "id": "zgUlq6LFrZSw"
      },
      "source": [
        ""
      ],
      "execution_count": null,
      "outputs": []
    },
    {
      "cell_type": "code",
      "metadata": {
        "id": "G9Ej9GKPrZWX"
      },
      "source": [
        ""
      ],
      "execution_count": null,
      "outputs": []
    },
    {
      "cell_type": "code",
      "metadata": {
        "id": "x23ZhtlnrZio"
      },
      "source": [
        ""
      ],
      "execution_count": null,
      "outputs": []
    }
  ]
}